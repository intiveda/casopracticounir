{
 "cells": [
  {
   "cell_type": "markdown",
   "metadata": {
    "slideshow": {
     "slide_type": "slide"
    }
   },
   "source": [
    "## borramos collection en mongoDB"
   ]
  },
  {
   "cell_type": "code",
   "execution_count": 1,
   "metadata": {
    "collapsed": true,
    "slideshow": {
     "slide_type": "fragment"
    }
   },
   "outputs": [],
   "source": [
    "from pymongo import MongoClient\n",
    "#mongodb conection\n",
    "client = MongoClient('localhost', 27017)\n",
    "db = client.bici\n",
    "collection = db.datacleaned\n",
    "collection.drop()"
   ]
  },
  {
   "cell_type": "markdown",
   "metadata": {
    "slideshow": {
     "slide_type": "slide"
    }
   },
   "source": [
    "# importamos los datos de BICIMAD\n",
    "<img src=\"https://pbs.twimg.com/profile_images/621342633655271424/26fdqUsf.png\" style=\"width:150px; display:inline\">\n"
   ]
  },
  {
   "cell_type": "code",
   "execution_count": 2,
   "metadata": {
    "collapsed": false,
    "slideshow": {
     "slide_type": "subslide"
    }
   },
   "outputs": [],
   "source": [
    "# from urllib import urlopen\n",
    "import urllib.request\n",
    "\n",
    "import simplejson as json\n",
    "\n",
    "#Es un api no oficial pero que ofrece datos cada 10 min\n",
    "\n",
    "url = urllib.request.urlopen('http://bicimad-api.herokuapp.com/api-v1/locations/').read()\n",
    "url = json.loads(url)"
   ]
  },
  {
   "cell_type": "code",
   "execution_count": 3,
   "metadata": {
    "collapsed": false,
    "slideshow": {
     "slide_type": "subslide"
    }
   },
   "outputs": [],
   "source": [
    "import pandas as pd\n",
    "dataPre = url[\"locations\"]\n",
    "data_mad = pd.DataFrame(dataPre)"
   ]
  },
  {
   "cell_type": "code",
   "execution_count": 4,
   "metadata": {
    "collapsed": true,
    "slideshow": {
     "slide_type": "subslide"
    }
   },
   "outputs": [],
   "source": [
    "data_mad['servicio']  = 'bicimad'"
   ]
  },
  {
   "cell_type": "code",
   "execution_count": 5,
   "metadata": {
    "collapsed": false
   },
   "outputs": [
    {
     "data": {
      "text/html": [
       "<div>\n",
       "<table border=\"1\" class=\"dataframe\">\n",
       "  <thead>\n",
       "    <tr style=\"text-align: right;\">\n",
       "      <th></th>\n",
       "      <th>activo</th>\n",
       "      <th>direccion</th>\n",
       "      <th>idestacion</th>\n",
       "      <th>latitud</th>\n",
       "      <th>libres</th>\n",
       "      <th>longitud</th>\n",
       "      <th>luz</th>\n",
       "      <th>nombre</th>\n",
       "      <th>numero_estacion</th>\n",
       "      <th>porcentaje</th>\n",
       "      <th>servicio</th>\n",
       "    </tr>\n",
       "  </thead>\n",
       "  <tbody>\n",
       "    <tr>\n",
       "      <th>0</th>\n",
       "      <td>True</td>\n",
       "      <td>Puerta del Sol No 1</td>\n",
       "      <td>1a</td>\n",
       "      <td>40.4168961</td>\n",
       "      <td>12</td>\n",
       "      <td>-3.7024255</td>\n",
       "      <td>False</td>\n",
       "      <td>Puerta del Sol A</td>\n",
       "      <td>1a</td>\n",
       "      <td>50.000000</td>\n",
       "      <td>bicimad</td>\n",
       "    </tr>\n",
       "    <tr>\n",
       "      <th>1</th>\n",
       "      <td>True</td>\n",
       "      <td>Calle Fuencarral No 108</td>\n",
       "      <td>5</td>\n",
       "      <td>40.4285280</td>\n",
       "      <td>21</td>\n",
       "      <td>-3.7020599</td>\n",
       "      <td>False</td>\n",
       "      <td>Fuencarral</td>\n",
       "      <td>5</td>\n",
       "      <td>77.777778</td>\n",
       "      <td>bicimad</td>\n",
       "    </tr>\n",
       "    <tr>\n",
       "      <th>2</th>\n",
       "      <td>True</td>\n",
       "      <td>Calle Marques de la Ensenada No 16</td>\n",
       "      <td>10</td>\n",
       "      <td>40.4250863</td>\n",
       "      <td>13</td>\n",
       "      <td>-3.6918807</td>\n",
       "      <td>False</td>\n",
       "      <td>Marques de la Ensenada</td>\n",
       "      <td>10</td>\n",
       "      <td>54.166667</td>\n",
       "      <td>bicimad</td>\n",
       "    </tr>\n",
       "    <tr>\n",
       "      <th>3</th>\n",
       "      <td>True</td>\n",
       "      <td>Calle San Vicente Ferrer No 64</td>\n",
       "      <td>15</td>\n",
       "      <td>40.4261649</td>\n",
       "      <td>15</td>\n",
       "      <td>-3.7073764</td>\n",
       "      <td>False</td>\n",
       "      <td>S.Vicente Ferrer</td>\n",
       "      <td>15</td>\n",
       "      <td>71.428571</td>\n",
       "      <td>bicimad</td>\n",
       "    </tr>\n",
       "    <tr>\n",
       "      <th>4</th>\n",
       "      <td>True</td>\n",
       "      <td>Calle Alcala No 49</td>\n",
       "      <td>20a</td>\n",
       "      <td>40.4192342</td>\n",
       "      <td>12</td>\n",
       "      <td>-3.6954615</td>\n",
       "      <td>False</td>\n",
       "      <td>Banco de España A</td>\n",
       "      <td>20a</td>\n",
       "      <td>50.000000</td>\n",
       "      <td>bicimad</td>\n",
       "    </tr>\n",
       "  </tbody>\n",
       "</table>\n",
       "</div>"
      ],
      "text/plain": [
       "  activo                           direccion idestacion     latitud  libres  \\\n",
       "0   True                 Puerta del Sol No 1         1a  40.4168961      12   \n",
       "1   True             Calle Fuencarral No 108          5  40.4285280      21   \n",
       "2   True  Calle Marques de la Ensenada No 16         10  40.4250863      13   \n",
       "3   True      Calle San Vicente Ferrer No 64         15  40.4261649      15   \n",
       "4   True                  Calle Alcala No 49        20a  40.4192342      12   \n",
       "\n",
       "     longitud    luz                  nombre numero_estacion  porcentaje  \\\n",
       "0  -3.7024255  False        Puerta del Sol A              1a   50.000000   \n",
       "1  -3.7020599  False              Fuencarral               5   77.777778   \n",
       "2  -3.6918807  False  Marques de la Ensenada              10   54.166667   \n",
       "3  -3.7073764  False        S.Vicente Ferrer              15   71.428571   \n",
       "4  -3.6954615  False       Banco de España A             20a   50.000000   \n",
       "\n",
       "  servicio  \n",
       "0  bicimad  \n",
       "1  bicimad  \n",
       "2  bicimad  \n",
       "3  bicimad  \n",
       "4  bicimad  "
      ]
     },
     "execution_count": 5,
     "metadata": {},
     "output_type": "execute_result"
    }
   ],
   "source": [
    "data_mad.head()"
   ]
  },
  {
   "cell_type": "markdown",
   "metadata": {
    "slideshow": {
     "slide_type": "slide"
    }
   },
   "source": [
    "# importamos los datos de BICING\n",
    "<img src=\"https://upload.wikimedia.org/wikipedia/commons/thumb/a/a1/Bicing_logo.svg/200px-Bicing_logo.svg.png\" style=\"width:150px; display:inline\">\n"
   ]
  },
  {
   "cell_type": "code",
   "execution_count": 6,
   "metadata": {
    "collapsed": false
   },
   "outputs": [
    {
     "name": "stdout",
     "output_type": "stream",
     "text": [
      "[{'altitude': '21', 'slots': '12', 'streetNumber': '760', 'nearbyStations': '24, 369, 387, 426', 'type': 'BIKE', 'streetName': 'Gran Via Corts Catalanes', 'bikes': '10', 'latitude': '41.397952', 'status': 'OPN', 'id': '1', 'longitude': '2.180042'}, {'altitude': '21', 'slots': '24', 'streetNumber': '126', 'nearbyStations': '360, 368, 387, 414', 'type': 'BIKE', 'streetName': 'Roger de Flor\\\\/ Gran Vía', 'bikes': '1', 'latitude': '41.39553', 'status': 'OPN', 'id': '2', 'longitude': '2.17706'}, {'altitude': '21', 'slots': '15', 'streetNumber': '44', 'nearbyStations': '4, 6, 119, 419', 'type': 'BIKE', 'streetName': 'Ali Bei', 'bikes': '11', 'latitude': '41.393699', 'status': 'OPN', 'id': '3', 'longitude': '2.181137'}, {'altitude': '21', 'slots': '13', 'streetNumber': '13', 'nearbyStations': '3, 5, 359, 419', 'type': 'BIKE', 'streetName': 'Ribes', 'bikes': '6', 'latitude': '41.39347', 'status': 'OPN', 'id': '4', 'longitude': '2.18149'}, {'altitude': '16', 'slots': '28', 'streetNumber': '11', 'nearbyStations': '6, 7, 359, 418', 'type': 'BIKE', 'streetName': 'Pg Lluís Companys', 'bikes': '10', 'latitude': '41.391075', 'status': 'OPN', 'id': '5', 'longitude': '2.180223'}, {'altitude': '16', 'slots': '23', 'streetNumber': '18', 'nearbyStations': '5, 8, 359, 419', 'type': 'BIKE', 'streetName': 'Pg Lluís Companys', 'bikes': '15', 'latitude': '41.391349', 'status': 'OPN', 'id': '6', 'longitude': '2.18061'}, {'altitude': '16', 'slots': '23', 'streetNumber': '1', 'nearbyStations': '8, 10', 'type': 'BIKE', 'streetName': 'Pg Lluís Companys', 'bikes': '4', 'latitude': '41.388856', 'status': 'OPN', 'id': '7', 'longitude': '2.183251'}, {'altitude': '11', 'slots': '14', 'streetNumber': '2', 'nearbyStations': '6, 10', 'type': 'BIKE', 'streetName': 'Pg Lluís Companys', 'bikes': '13', 'latitude': '41.389088', 'status': 'OPN', 'id': '8', 'longitude': '2.183568'}, {'altitude': '11', 'slots': '3', 'streetNumber': '17', 'nearbyStations': '10, 14, 115', 'type': 'BIKE', 'streetName': \"Marquès de l'Argentera\", 'bikes': '14', 'latitude': '41.385031', 'status': 'OPN', 'id': '9', 'longitude': '2.185249'}, {'altitude': '11', 'slots': '22', 'streetNumber': '27', 'nearbyStations': '9, 14, 115', 'type': 'BIKE', 'streetName': 'Carrer Comerç', 'bikes': '9', 'latitude': '41.38498', 'status': 'OPN', 'id': '10', 'longitude': '2.18417'}, {'altitude': '1', 'slots': '14', 'streetNumber': '2', 'nearbyStations': '116, 124, 125, 396', 'type': 'BIKE', 'streetName': 'Trelawny', 'bikes': '6', 'latitude': '41.381689', 'status': 'OPN', 'id': '11', 'longitude': '2.193914'}, {'altitude': '0', 'slots': '14', 'streetNumber': '23', 'nearbyStations': '11, 13, 116, 396', 'type': 'BIKE', 'streetName': 'Pg Marítim Barceloneta', 'bikes': '15', 'latitude': '41.384538', 'status': 'OPN', 'id': '12', 'longitude': '2.195679'}, {'altitude': '1', 'slots': '25', 'streetNumber': '16', 'nearbyStations': '11, 12, 46, 69', 'type': 'BIKE', 'streetName': 'Avinguda Litoral', 'bikes': '8', 'latitude': '41.386861', 'status': 'OPN', 'id': '13', 'longitude': '2.195761'}, {'altitude': '11', 'slots': '20', 'streetNumber': '19', 'nearbyStations': '9, 10, 115', 'type': 'BIKE', 'streetName': 'Avinguda del Marques Argentera', 'bikes': '1', 'latitude': '41.384825', 'status': 'OPN', 'id': '14', 'longitude': '2.185074'}, {'altitude': '42', 'slots': '13', 'streetNumber': '74', 'nearbyStations': '23, 25, 362, 413', 'type': 'BIKE', 'streetName': 'Girona', 'bikes': '6', 'latitude': '41.39515', 'status': 'OPN', 'id': '15', 'longitude': '2.17076'}, {'altitude': '18', 'slots': '8', 'streetNumber': '47', 'nearbyStations': '17, 44, 48, 372', 'type': 'BIKE', 'streetName': 'Av. Meridiana', 'bikes': '9', 'latitude': '41.39827', 'status': 'OPN', 'id': '16', 'longitude': '2.186708'}, {'altitude': '18', 'slots': '17', 'streetNumber': '47', 'nearbyStations': '16, 48, 211, 372', 'type': 'BIKE', 'streetName': 'Av. Meridiana', 'bikes': '4', 'latitude': '41.398237', 'status': 'OPN', 'id': '17', 'longitude': '2.186711'}, {'altitude': '49', 'slots': '7', 'streetNumber': '412', 'nearbyStations': '19, 28, 120, 370', 'type': 'BIKE', 'streetName': 'Rosselló', 'bikes': '25', 'latitude': '41.405881', 'status': 'OPN', 'id': '18', 'longitude': '2.17414'}, {'altitude': '49', 'slots': '8', 'streetNumber': '354', 'nearbyStations': '18, 22, 29, 370', 'type': 'BIKE', 'streetName': 'Rosselló', 'bikes': '22', 'latitude': '41.403282', 'status': 'OPN', 'id': '19', 'longitude': '2.170726'}, {'altitude': '59', 'slots': '6', 'streetNumber': '157', 'nearbyStations': '21, 28, 164, 278', 'type': 'BIKE', 'streetName': 'Indústria', 'bikes': '15', 'latitude': '41.409758', 'status': 'OPN', 'id': '20', 'longitude': '2.17462'}, {'altitude': '59', 'slots': '7', 'streetNumber': '214', 'nearbyStations': '20, 28, 164, 278', 'type': 'BIKE', 'streetName': 'Sant Antoni Maria Claret', 'bikes': '14', 'latitude': '41.410897', 'status': 'OPN', 'id': '21', 'longitude': '2.17402'}, {'altitude': '28', 'slots': '6', 'streetNumber': '296', 'nearbyStations': '29, 120, 369, 370', 'type': 'BIKE', 'streetName': 'Sardenya', 'bikes': '17', 'latitude': '41.402051', 'status': 'OPN', 'id': '22', 'longitude': '2.175206'}, {'altitude': '42', 'slots': '1', 'streetNumber': '45', 'nearbyStations': '15, 360, 363, 413', 'type': 'BIKE', 'streetName': 'Bruc', 'bikes': '26', 'latitude': '41.392526', 'status': 'OPN', 'id': '23', 'longitude': '2.171812'}, {'altitude': '21', 'slots': '12', 'streetNumber': '185', 'nearbyStations': '1, 30, 369, 426', 'type': 'BIKE', 'streetName': 'Marina', 'bikes': '8', 'latitude': '41.399982', 'status': 'OPN', 'id': '24', 'longitude': '2.180319'}, {'altitude': '42', 'slots': '3', 'streetNumber': '102', 'nearbyStations': '15, 123, 362, 413', 'type': 'BIKE', 'streetName': 'Bruc', 'bikes': '18', 'latitude': '41.395179', 'status': 'OPN', 'id': '25', 'longitude': '2.168294'}, {'altitude': '28', 'slots': '13', 'streetNumber': '230', 'nearbyStations': '120, 121, 177, 371', 'type': 'BIKE', 'streetName': 'Dos Maig', 'bikes': '4', 'latitude': '41.407035', 'status': 'OPN', 'id': '26', 'longitude': '2.181981'}, {'altitude': '49', 'slots': '4', 'streetNumber': '322', 'nearbyStations': '123, 189, 224, 374', 'type': 'BIKE', 'streetName': 'Provença', 'bikes': '17', 'latitude': '41.396881', 'status': 'OPN', 'id': '27', 'longitude': '2.164415'}, {'altitude': '49', 'slots': '2', 'streetNumber': '311', 'nearbyStations': '18, 20, 122, 277', 'type': 'BIKE', 'streetName': 'Marina', 'bikes': '19', 'latitude': '41.407261', 'status': 'OPN', 'id': '28', 'longitude': '2.170871'}, {'altitude': '50', 'slots': '6', 'streetNumber': '388', 'nearbyStations': '19, 224, 360, 370', 'type': 'BIKE', 'streetName': 'Provença', 'bikes': '12', 'latitude': '41.401101', 'status': 'OPN', 'id': '29', 'longitude': '2.170082'}, {'altitude': '28', 'slots': '9', 'streetNumber': '231', 'nearbyStations': '24, 218, 369, 371', 'type': 'BIKE', 'streetName': 'Diagonal', 'bikes': '9', 'latitude': '41.402046', 'status': 'OPN', 'id': '30', 'longitude': '2.182286'}, {'altitude': '1', 'slots': '2', 'streetNumber': '72', 'nearbyStations': '33, 39, 41, 124', 'type': 'BIKE', 'streetName': 'Plaça del Mar', 'bikes': '15', 'latitude': '41.37481', 'status': 'OPN', 'id': '31', 'longitude': '2.18895'}, {'altitude': '1', 'slots': '0', 'streetNumber': '1', 'nearbyStations': '31, 33, 124, 400', 'type': 'BIKE', 'streetName': 'Plaça del Mar', 'bikes': '24', 'latitude': '41.373698', 'status': 'OPN', 'id': '32', 'longitude': '2.188927'}, {'altitude': '1', 'slots': '16', 'streetNumber': '58', 'nearbyStations': '31, 41, 124, 424', 'type': 'BIKE', 'streetName': 'Baluart', 'bikes': '5', 'latitude': '41.376862', 'status': 'OPN', 'id': '33', 'longitude': '2.190773'}, {'altitude': '16', 'slots': '7', 'streetNumber': '4', 'nearbyStations': '36, 105, 359, 380', 'type': 'BIKE', 'streetName': 'Sant Pere Més Alt', 'bikes': '14', 'latitude': '41.387074', 'status': 'OPN', 'id': '34', 'longitude': '2.175247'}, {'altitude': '1', 'slots': '26', 'streetNumber': '1', 'nearbyStations': '157, 158, 159, 160', 'type': 'BIKE', 'streetName': 'Sant Ramon de Penyafort', 'bikes': '0', 'latitude': '41.413592', 'status': 'OPN', 'id': '35', 'longitude': '2.221153'}, {'altitude': '16', 'slots': '1', 'streetNumber': '6', 'nearbyStations': '34, 35, 53, 358, 380', 'type': 'BIKE', 'streetName': 'Catedral', 'bikes': '20', 'latitude': '41.385151', 'status': 'OPN', 'id': '36', 'longitude': '2.176804'}, {'altitude': '5', 'slots': '23', 'streetNumber': '', 'nearbyStations': '38, 115, 126, 401', 'type': 'BIKE', 'streetName': 'Pl. Antonio López', 'bikes': '1', 'latitude': '41.381226', 'status': 'OPN', 'id': '37', 'longitude': '2.181888'}, {'altitude': '1', 'slots': '15', 'streetNumber': '', 'nearbyStations': '39, 40, 124, 126', 'type': 'BIKE', 'streetName': 'Pl. Pau Vila', 'bikes': '5', 'latitude': '41.381129', 'status': 'OPN', 'id': '38', 'longitude': '2.186397'}, {'altitude': '1', 'slots': '7', 'streetNumber': '', 'nearbyStations': '38, 40, 124, 126', 'type': 'BIKE', 'streetName': 'Pl. Pau Vila', 'bikes': '13', 'latitude': '41.381046', 'status': 'OPN', 'id': '39', 'longitude': '2.186576'}, {'altitude': '1', 'slots': '15', 'streetNumber': '2', 'nearbyStations': '37, 38, 116, 402', 'type': 'BIKE', 'streetName': 'Doctor Aiguader', 'bikes': '1', 'latitude': '41.382246', 'status': 'OPN', 'id': '40', 'longitude': '2.186275'}, {'altitude': '1', 'slots': '16', 'streetNumber': '', 'nearbyStations': '31, 39, 124, 424', 'type': 'BIKE', 'streetName': 'Pl. Poeta Boscà\\\\/Atlàntida', 'bikes': '4', 'latitude': '41.379326', 'status': 'OPN', 'id': '41', 'longitude': '2.189906'}, {'altitude': '18', 'slots': '4', 'streetNumber': '168', 'nearbyStations': '43, 44, 133, 286', 'type': 'BIKE', 'streetName': 'Ciutat de Granada', 'bikes': '15', 'latitude': '41.404418', 'status': 'OPN', 'id': '42', 'longitude': '2.190379'}, {'altitude': '18', 'slots': '11', 'streetNumber': '80', 'nearbyStations': '30, 42, 44, 218', 'type': 'BIKE', 'streetName': 'Av Meridiana', 'bikes': '13', 'latitude': '41.40541', 'status': 'OPN', 'id': '43', 'longitude': '2.18712'}, {'altitude': '18', 'slots': '14', 'streetNumber': '66', 'nearbyStations': '30, 42, 43, 286', 'type': 'BIKE', 'streetName': 'Av Meridiana', 'bikes': '5', 'latitude': '41.402165', 'status': 'OPN', 'id': '44', 'longitude': '2.187136'}, {'altitude': '18', 'slots': '11', 'streetNumber': '65', 'nearbyStations': '47, 392, 409', 'type': 'BIKE', 'streetName': 'Marina ', 'bikes': '5', 'latitude': '41.392005', 'status': 'OPN', 'id': '45', 'longitude': '2.190426'}, {'altitude': '1', 'slots': '26', 'streetNumber': '19', 'nearbyStations': '47, 69, 392, 407', 'type': 'BIKE', 'streetName': 'Ramon trias Fargas', 'bikes': '2', 'latitude': '41.388359', 'status': 'OPN', 'id': '46', 'longitude': '2.193004'}, {'altitude': '1', 'slots': '6', 'streetNumber': '', 'nearbyStations': '13, 46, 392, 407', 'type': 'BIKE', 'streetName': 'Ramon Trias Fargas', 'bikes': '24', 'latitude': '41.389076', 'status': 'OPN', 'id': '47', 'longitude': '2.192104'}, {'altitude': '18', 'slots': '3', 'streetNumber': '40', 'nearbyStations': '16, 149, 211', 'type': 'BIKE', 'streetName': 'Meridiana', 'bikes': '16', 'latitude': '41.395261', 'status': 'OPN', 'id': '48', 'longitude': '2.18708'}, {'altitude': '1', 'slots': '1', 'streetNumber': '20', 'nearbyStations': '46, 117, 163, 396', 'type': 'BIKE', 'streetName': 'Rosa Sensat en front', 'bikes': '20', 'latitude': '41.39106', 'status': 'OPN', 'id': '49', 'longitude': '2.196457'}, {'altitude': '1', 'slots': '24', 'streetNumber': '54', 'nearbyStations': '114, 187, 232, 233', 'type': 'BIKE', 'streetName': 'Av. Paral.lel', 'bikes': '0', 'latitude': '41.375', 'status': 'OPN', 'id': '50', 'longitude': '2.17035'}, {'altitude': '32', 'slots': '0', 'streetNumber': '', 'nearbyStations': '55', 'type': 'BIKE', 'streetName': 'Pl. Vicenç Martorell', 'bikes': '21', 'latitude': '41.384054', 'status': 'OPN', 'id': '51', 'longitude': '2.169019'}, {'altitude': '32', 'slots': '0', 'streetNumber': '', 'nearbyStations': '34, 36, 380, 395', 'type': 'BIKE', 'streetName': 'Pl. Carles Pi i Sunyer', 'bikes': '21', 'latitude': '41.385227', 'status': 'OPN', 'id': '53', 'longitude': '2.173878'}, {'altitude': '24', 'slots': '1', 'streetNumber': '16', 'nearbyStations': '114, 187, 388, 415', 'type': 'BIKE', 'streetName': 'Sant Oleguer', 'bikes': '18', 'latitude': '41.377553', 'status': 'OPN', 'id': '54', 'longitude': '2.17074'}, {'altitude': '24', 'slots': '12', 'streetNumber': '80', 'nearbyStations': '54, 378, 379, 395', 'type': 'BIKE', 'streetName': 'La Rambla', 'bikes': '8', 'latitude': '41.381154', 'status': 'OPN', 'id': '55', 'longitude': '2.173497'}, {'altitude': '5', 'slots': '19', 'streetNumber': '2', 'nearbyStations': '54, 57, 378, 425', 'type': 'BIKE', 'streetName': 'Portal de Santa Madrona', 'bikes': '6', 'latitude': '41.377011', 'status': 'OPN', 'id': '56', 'longitude': '2.175834'}, {'altitude': '5', 'slots': '4', 'streetNumber': '2', 'nearbyStations': '56, 114, 361, 378', 'type': 'BIKE', 'streetName': 'La Rambla', 'bikes': '22', 'latitude': '41.376758', 'status': 'OPN', 'id': '57', 'longitude': '2.177093'}, {'altitude': '24', 'slots': '21', 'streetNumber': '1', 'nearbyStations': '51, 381, 388', 'type': 'BIKE', 'streetName': 'Plaça dels Àngels', 'bikes': '0', 'latitude': '41.382822', 'status': 'CLS', 'id': '58', 'longitude': '2.167154'}, {'altitude': '24', 'slots': '21', 'streetNumber': '2', 'nearbyStations': '51, 381, 388', 'type': 'BIKE', 'streetName': 'Plaça dels Àngels', 'bikes': '0', 'latitude': '41.382781', 'status': 'CLS', 'id': '59', 'longitude': '2.167203'}, {'altitude': '41', 'slots': '25', 'streetNumber': '47', 'nearbyStations': '61, 66, 80, 364', 'type': 'BIKE', 'streetName': 'Rambla Catalunya ', 'bikes': '1', 'latitude': '41.390349', 'status': 'OPN', 'id': '60', 'longitude': '2.16424'}, {'altitude': '41', 'slots': '11', 'streetNumber': '42', 'nearbyStations': '60, 80, 287, 364', 'type': 'BIKE', 'streetName': 'Rambla Catalunya', 'bikes': '16', 'latitude': '41.390143', 'status': 'OPN', 'id': '61', 'longitude': '2.164946'}, {'altitude': '32', 'slots': '21', 'streetNumber': '5', 'nearbyStations': '64, 65, 395', 'type': 'BIKE', 'streetName': 'Pl. Catalunya ', 'bikes': '0', 'latitude': '41.387142', 'status': 'CLS', 'id': '62', 'longitude': '2.168858'}, {'altitude': '32', 'slots': '27', 'streetNumber': '7', 'nearbyStations': '64, 65, 395', 'type': 'BIKE', 'streetName': 'Pl. Catalunya', 'bikes': '0', 'latitude': '41.386439', 'status': 'CLS', 'id': '63', 'longitude': '2.169417'}, {'altitude': '32', 'slots': '6', 'streetNumber': '', 'nearbyStations': '65, 395', 'type': 'BIKE', 'streetName': 'Pl. Catalunya', 'bikes': '15', 'latitude': '41.387469', 'status': 'OPN', 'id': '64', 'longitude': '2.169048'}, {'altitude': '32', 'slots': '0', 'streetNumber': '', 'nearbyStations': '64, 395', 'type': 'BIKE', 'streetName': 'Pl. Catalunya', 'bikes': '20', 'latitude': '41.387678', 'status': 'OPN', 'id': '65', 'longitude': '2.169587'}, {'altitude': '32', 'slots': '2', 'streetNumber': '609', 'nearbyStations': '61, 64, 79, 287', 'type': 'BIKE', 'streetName': 'Gran Via', 'bikes': '13', 'latitude': '41.389097', 'status': 'OPN', 'id': '66', 'longitude': '2.167933'}, {'altitude': '51', 'slots': '12', 'streetNumber': '214', 'nearbyStations': '75, 87, 89, 365', 'type': 'BIKE', 'streetName': 'Rocafort', 'bikes': '12', 'latitude': '41.385012', 'status': 'OPN', 'id': '67', 'longitude': '2.145843'}, {'altitude': '59', 'slots': '7', 'streetNumber': '133', 'nearbyStations': '72, 73, 92, 374', 'type': 'BIKE', 'streetName': 'Rambla Catalunya', 'bikes': '17', 'latitude': '41.395364', 'status': 'OPN', 'id': '68', 'longitude': '2.157356'}, {'altitude': '1', 'slots': '10', 'streetNumber': '', 'nearbyStations': '12, 13, 125, 397', 'type': 'BIKE', 'streetName': 'Avda. Litoral', 'bikes': '22', 'latitude': '41.386814', 'status': 'OPN', 'id': '69', 'longitude': '2.195689'}, {'altitude': '35', 'slots': '20', 'streetNumber': '2', 'nearbyStations': '71, 91, 113, 261', 'type': 'BIKE', 'streetName': 'Villarroel', 'bikes': '0', 'latitude': '41.381328', 'status': 'OPN', 'id': '70', 'longitude': '2.161786'}, {'altitude': '35', 'slots': '13', 'streetNumber': '145', 'nearbyStations': '70, 78, 113, 148', 'type': 'BIKE', 'streetName': 'Floridablanca ', 'bikes': '6', 'latitude': '41.381931', 'status': 'OPN', 'id': '71', 'longitude': '2.162969'}, {'altitude': '59', 'slots': '7', 'streetNumber': '217', 'nearbyStations': '68, 73, 92, 374', 'type': 'BIKE', 'streetName': 'Rosselló', 'bikes': '19', 'latitude': '41.393173', 'status': 'OPN', 'id': '72', 'longitude': '2.157081'}, {'altitude': '59', 'slots': '10', 'streetNumber': '99', 'nearbyStations': '68, 72, 76, 92', 'type': 'BIKE', 'streetName': 'Enric Granados', 'bikes': '11', 'latitude': '41.392846', 'status': 'OPN', 'id': '73', 'longitude': '2.155788'}, {'altitude': '51', 'slots': '18', 'streetNumber': '129', 'nearbyStations': '101, 102, 109, 366', 'type': 'BIKE', 'streetName': 'Josep Tarradellas', 'bikes': '2', 'latitude': '41.389391', 'status': 'OPN', 'id': '74', 'longitude': '2.143102'}, {'altitude': '51', 'slots': '19', 'streetNumber': '58', 'nearbyStations': '67, 99, 197, 365', 'type': 'BIKE', 'streetName': 'Josep Tarradellas', 'bikes': '0', 'latitude': '41.385081', 'status': 'OPN', 'id': '75', 'longitude': '2.142868'}, {'altitude': '45', 'slots': '10', 'streetNumber': '216', 'nearbyStations': '72, 73, 88, 90', 'type': 'BIKE', 'streetName': 'Còrsega', 'bikes': '19', 'latitude': '41.391751', 'status': 'OPN', 'id': '76', 'longitude': '2.153123'}, {'altitude': '41', 'slots': '18', 'streetNumber': '', 'nearbyStations': '71, 79, 209, 406', 'type': 'BIKE', 'streetName': 'Pl. Universitat', 'bikes': '8', 'latitude': '41.385598', 'status': 'OPN', 'id': '78', 'longitude': '2.16338'}, {'altitude': '41', 'slots': '9', 'streetNumber': '', 'nearbyStations': '78, 209, 287, 406', 'type': 'BIKE', 'streetName': 'Pl. Universitat', 'bikes': '14', 'latitude': '41.38547', 'status': 'OPN', 'id': '79', 'longitude': '2.16333'}, {'altitude': '41', 'slots': '14', 'streetNumber': '35', 'nearbyStations': '60, 209, 385, 394', 'type': 'BIKE', 'streetName': 'Enric Granados', 'bikes': '1', 'latitude': '41.389687', 'status': 'OPN', 'id': '80', 'longitude': '2.159999'}, {'altitude': '44', 'slots': '12', 'streetNumber': '61', 'nearbyStations': '82, 95, 97, 384', 'type': 'BIKE', 'streetName': 'Vilamarí davant', 'bikes': '6', 'latitude': '41.378915', 'status': 'OPN', 'id': '81', 'longitude': '2.149174'}, {'altitude': '40', 'slots': '29', 'streetNumber': '72', 'nearbyStations': '67, 81, 111, 112', 'type': 'BIKE', 'streetName': 'Rocafort', 'bikes': '4', 'latitude': '41.379016', 'status': 'OPN', 'id': '82', 'longitude': '2.153799'}, {'altitude': '45', 'slots': '10', 'streetNumber': '177', 'nearbyStations': '87, 89, 110, 111', 'type': 'BIKE', 'streetName': 'Comte Borrell', 'bikes': '17', 'latitude': '41.384075', 'status': 'OPN', 'id': '83', 'longitude': '2.153654'}, {'altitude': '35', 'slots': '0', 'streetNumber': '152', 'nearbyStations': '78, 91, 110, 209', 'type': 'BIKE', 'streetName': 'Diputació', 'bikes': '20', 'latitude': '41.383374', 'status': 'OPN', 'id': '84', 'longitude': '2.157577'}, {'altitude': '35', 'slots': '16', 'streetNumber': '146', 'nearbyStations': '112, 129, 235, 236', 'type': 'BIKE', 'streetName': 'Paral·lel', 'bikes': '4', 'latitude': '41.375076', 'status': 'OPN', 'id': '85', 'longitude': '2.159046'}, {'altitude': '35', 'slots': '18', 'streetNumber': '2', 'nearbyStations': '85, 187, 235, 373', 'type': 'BIKE', 'streetName': 'Viladomat', 'bikes': '9', 'latitude': '41.37544', 'status': 'OPN', 'id': '86', 'longitude': '2.163'}, {'altitude': '44', 'slots': '11', 'streetNumber': '41', 'nearbyStations': '67, 111, 191, 384', 'type': 'BIKE', 'streetName': 'Mallorca', 'bikes': '10', 'latitude': '41.383156', 'status': 'OPN', 'id': '87', 'longitude': '2.148506'}, {'altitude': '59', 'slots': '14', 'streetNumber': '101', 'nearbyStations': '76, 109, 220, 350', 'type': 'BIKE', 'streetName': 'Londres', 'bikes': '3', 'latitude': '41.393547', 'status': 'OPN', 'id': '88', 'longitude': '2.150764'}, {'altitude': '45', 'slots': '21', 'streetNumber': '101', 'nearbyStations': '76, 90, 110, 365', 'type': 'BIKE', 'streetName': 'Rosselló', 'bikes': '6', 'latitude': '41.387953', 'status': 'OPN', 'id': '89', 'longitude': '2.150169'}, {'altitude': '45', 'slots': '18', 'streetNumber': '108', 'nearbyStations': '76, 89, 365, 385', 'type': 'BIKE', 'streetName': 'Rosselló', 'bikes': '0', 'latitude': '41.38834', 'status': 'OPN', 'id': '90', 'longitude': '2.150825'}, {'altitude': '35', 'slots': '27', 'streetNumber': '119', 'nearbyStations': '70, 112, 113, 261', 'type': 'BIKE', 'streetName': 'Comte Borrell', 'bikes': '2', 'latitude': '41.380452', 'status': 'OPN', 'id': '91', 'longitude': '2.158403'}, {'altitude': '50', 'slots': '13', 'streetNumber': '241', 'nearbyStations': '72, 73, 364, 374', 'type': 'BIKE', 'streetName': 'Provença', 'bikes': '4', 'latitude': '41.39386', 'status': 'OPN', 'id': '92', 'longitude': '2.160237'}, {'altitude': '40', 'slots': '4', 'streetNumber': '375', 'nearbyStations': '94, 95, 96, 420', 'type': 'BIKE', 'streetName': 'Gran Via', 'bikes': '19', 'latitude': '41.375454', 'status': 'OPN', 'id': '93', 'longitude': '2.149786'}, {'altitude': '40', 'slots': '2', 'streetNumber': '375', 'nearbyStations': '93, 95, 96, 420', 'type': 'BIKE', 'streetName': 'Gran Via', 'bikes': '22', 'latitude': '41.375619', 'status': 'OPN', 'id': '94', 'longitude': '2.149889'}, {'altitude': '44', 'slots': '5', 'streetNumber': '103', 'nearbyStations': '93, 96, 97, 186', 'type': 'BIKE', 'streetName': 'Tarragona', 'bikes': '24', 'latitude': '41.376428', 'status': 'OPN', 'id': '95', 'longitude': '2.147734'}, {'altitude': '61', 'slots': '8', 'streetNumber': '361', 'nearbyStations': '93, 95, 186, 420', 'type': 'BIKE', 'streetName': 'Gran Via', 'bikes': '10', 'latitude': '41.374152', 'status': 'OPN', 'id': '96', 'longitude': '2.148154'}, {'altitude': '44', 'slots': '16', 'streetNumber': '141', 'nearbyStations': '81, 95, 100, 186', 'type': 'BIKE', 'streetName': 'Tarragona', 'bikes': '5', 'latitude': '41.378124', 'status': 'OPN', 'id': '97', 'longitude': '2.145389'}, {'altitude': '44', 'slots': '9', 'streetNumber': '45', 'nearbyStations': '75, 99, 100, 421', 'type': 'BIKE', 'streetName': 'Viriat', 'bikes': '7', 'latitude': '41.380658', 'status': 'OPN', 'id': '98', 'longitude': '2.141697'}, {'altitude': '44', 'slots': '1', 'streetNumber': '53', 'nearbyStations': '98, 100, 195, 421', 'type': 'BIKE', 'streetName': 'Viriat', 'bikes': '12', 'latitude': '41.380632', 'status': 'OPN', 'id': '99', 'longitude': '2.141548'}, {'altitude': '44', 'slots': '1', 'streetNumber': '159', 'nearbyStations': '97, 98, 99, 384', 'type': 'BIKE', 'streetName': 'Tarragona', 'bikes': '19', 'latitude': '41.379135', 'status': 'OPN', 'id': '100', 'longitude': '2.14409'}, {'altitude': '69', 'slots': '3', 'streetNumber': '602', 'nearbyStations': '74, 102, 319, 366', 'type': 'BIKE', 'streetName': 'Av. Diagonal', 'bikes': '18', 'latitude': '41.39243', 'status': 'OPN', 'id': '101', 'longitude': '2.14321'}, {'altitude': '69', 'slots': '7', 'streetNumber': '612', 'nearbyStations': '74, 102, 319, 366', 'type': 'BIKE', 'streetName': 'Av. Diagonal', 'bikes': '17', 'latitude': '41.39218', 'status': 'OPN', 'id': '102', 'longitude': '2.14213'}, {'altitude': '17', 'slots': '0', 'streetNumber': '629', 'nearbyStations': '26, 104, 127, 132', 'type': 'BIKE', 'streetName': 'Aragó', 'bikes': '20', 'latitude': '41.409856', 'status': 'OPN', 'id': '103', 'longitude': '2.188217'}, {'altitude': '17', 'slots': '7', 'streetNumber': '621', 'nearbyStations': '26, 103, 127, 177', 'type': 'BIKE', 'streetName': 'C\\\\/València', 'bikes': '13', 'latitude': '41.410821', 'status': 'OPN', 'id': '104', 'longitude': '2.187365'}, {'altitude': '32', 'slots': '10', 'streetNumber': '9', 'nearbyStations': '65, 359, 363, 412', 'type': 'BIKE', 'streetName': 'PL. Urquinaona', 'bikes': '8', 'latitude': '41.389069', 'status': 'OPN', 'id': '105', 'longitude': '2.173424'}, {'altitude': '59', 'slots': '16', 'streetNumber': 's\\\\/n', 'nearbyStations': '108, 122, 226, 231', 'type': 'BIKE', 'streetName': 'Pl. Joanic', 'bikes': '1', 'latitude': '41.405587', 'status': 'OPN', 'id': '106', 'longitude': '2.162317'}, {'altitude': '59', 'slots': '9', 'streetNumber': '92', 'nearbyStations': '68, 219, 220, 223', 'type': 'BIKE', 'streetName': 'Travessera de Gracia', 'bikes': '11', 'latitude': '41.398298', 'status': 'OPN', 'id': '107', 'longitude': '2.153128'}, {'altitude': '59', 'slots': '17', 'streetNumber': '10', 'nearbyStations': '29, 122, 224, 226', 'type': 'BIKE', 'streetName': 'Indústria', 'bikes': '3', 'latitude': '41.402314', 'status': 'OPN', 'id': '108', 'longitude': '2.164961'}, {'altitude': '51', 'slots': '8', 'streetNumber': '53', 'nearbyStations': '89, 101, 350, 365', 'type': 'BIKE', 'streetName': 'C\\\\/ Londres', 'bikes': '12', 'latitude': '41.390981', 'status': 'OPN', 'id': '109', 'longitude': '2.14737'}, {'altitude': '45', 'slots': '8', 'streetNumber': '117', 'nearbyStations': '83, 84, 209, 385', 'type': 'BIKE', 'streetName': 'Avda. Roma', 'bikes': '12', 'latitude': '41.385554', 'status': 'OPN', 'id': '110', 'longitude': '2.154813'}, {'altitude': '40', 'slots': '6', 'streetNumber': '134', 'nearbyStations': '81, 82, 83, 262', 'type': 'BIKE', 'streetName': 'Calabria', 'bikes': '15', 'latitude': '41.38122', 'status': 'OPN', 'id': '111', 'longitude': '2.15308'}, {'altitude': '40', 'slots': '17', 'streetNumber': '49', 'nearbyStations': '82, 91, 94, 113', 'type': 'BIKE', 'streetName': 'Floridablanca', 'bikes': '2', 'latitude': '41.377644', 'status': 'OPN', 'id': '112', 'longitude': '2.15725'}, {'altitude': '35', 'slots': '26', 'streetNumber': '60', 'nearbyStations': '70, 91, 112, 129', 'type': 'BIKE', 'streetName': 'Comte Borrell', 'bikes': '1', 'latitude': '41.378836', 'status': 'OPN', 'id': '113', 'longitude': '2.160801'}, {'altitude': '24', 'slots': '12', 'streetNumber': '1', 'nearbyStations': '50, 54, 56, 425', 'type': 'BIKE', 'streetName': 'Pl. Jean Genet', 'bikes': '7', 'latitude': '41.376801', 'status': 'OPN', 'id': '114', 'longitude': '2.173039'}, {'altitude': '1', 'slots': '11', 'streetNumber': '3', 'nearbyStations': '10, 14, 37, 401', 'type': 'BIKE', 'streetName': \"Marqués d'Argentera\", 'bikes': '5', 'latitude': '41.38377', 'status': 'OPN', 'id': '115', 'longitude': '2.18424'}, {'altitude': '11', 'slots': '18', 'streetNumber': '72', 'nearbyStations': '11, 13, 38, 39', 'type': 'BIKE', 'streetName': 'Salvat Papasseit', 'bikes': '9', 'latitude': '41.383718', 'status': 'OPN', 'id': '116', 'longitude': '2.191414'}, {'altitude': '1', 'slots': '0', 'streetNumber': '12', 'nearbyStations': '46, 49, 163, 396', 'type': 'BIKE', 'streetName': 'Rosa Sensat', 'bikes': '14', 'latitude': '41.390666', 'status': 'OPN', 'id': '117', 'longitude': '2.197024'}, {'altitude': '18', 'slots': '30', 'streetNumber': '1', 'nearbyStations': '7, 8, 45, 149', 'type': 'BIKE', 'streetName': 'Pujades', 'bikes': '0', 'latitude': '41.391884', 'status': 'CLS', 'id': '118', 'longitude': '2.187302'}, {'altitude': '21', 'slots': '11', 'streetNumber': '122', 'nearbyStations': '3, 372, 387, 426', 'type': 'BIKE', 'streetName': 'Ausiàs March', 'bikes': '10', 'latitude': '41.396632', 'status': 'OPN', 'id': '119', 'longitude': '2.182802'}, {'altitude': '28', 'slots': '7', 'streetNumber': '278', 'nearbyStations': '18, 22, 121, 370', 'type': 'BIKE', 'streetName': 'Lepant', 'bikes': '14', 'latitude': '41.404666', 'status': 'OPN', 'id': '120', 'longitude': '2.176515'}, {'altitude': '28', 'slots': '6', 'streetNumber': '258', 'nearbyStations': '18, 26, 120, 371', 'type': 'BIKE', 'streetName': 'Castillejos', 'bikes': '15', 'latitude': '41.406293', 'status': 'OPN', 'id': '121', 'longitude': '2.178689'}, {'altitude': '59', 'slots': '12', 'streetNumber': '344', 'nearbyStations': '19, 106, 108, 277', 'type': 'BIKE', 'streetName': 'Nàpols', 'bikes': '9', 'latitude': '41.405435', 'status': 'OPN', 'id': '122', 'longitude': '2.16624'}, {'altitude': '42', 'slots': '12', 'streetNumber': '126', 'nearbyStations': '27, 189, 224, 362', 'type': 'BIKE', 'streetName': 'Girona', 'bikes': '9', 'latitude': '41.397411', 'status': 'OPN', 'id': '123', 'longitude': '2.167798'}, {'altitude': '5', 'slots': '16', 'streetNumber': 's\\\\/n', 'nearbyStations': '31, 32, 41, 400', 'type': 'BIKE', 'streetName': 'Passeig Joan de Borbó', 'bikes': '8', 'latitude': '41.370297', 'status': 'OPN', 'id': '124', 'longitude': '2.187808'}, {'altitude': '1', 'slots': '10', 'streetNumber': '31', 'nearbyStations': '12, 13, 69, 398', 'type': 'BIKE', 'streetName': 'Passeig Maritim', 'bikes': '11', 'latitude': '41.384426', 'status': 'OPN', 'id': '125', 'longitude': '2.195595'}, {'altitude': '5', 'slots': '10', 'streetNumber': '', 'nearbyStations': '37, 115, 377, 402', 'type': 'BIKE', 'streetName': 'Passeig de Colom', 'bikes': '10', 'latitude': '41.380641', 'status': 'OPN', 'id': '126', 'longitude': '2.182243'}, {'altitude': '17', 'slots': '22', 'streetNumber': '661', 'nearbyStations': '103, 104, 128, 238', 'type': 'BIKE', 'streetName': 'Aragó', 'bikes': '2', 'latitude': '41.412322', 'status': 'OPN', 'id': '127', 'longitude': '2.19142'}, {'altitude': '13', 'slots': '15', 'streetNumber': '43', 'nearbyStations': '127, 130, 135, 238', 'type': 'BIKE', 'streetName': 'Rambla Guipúscoa', 'bikes': '14', 'latitude': '41.415581', 'status': 'OPN', 'id': '128', 'longitude': '2.19581'}, {'altitude': '35', 'slots': '19', 'streetNumber': '46', 'nearbyStations': '91, 112, 113, 148', 'type': 'BIKE', 'streetName': 'Manso', 'bikes': '8', 'latitude': '41.37709', 'status': 'OPN', 'id': '129', 'longitude': '2.16124'}, {'altitude': '9', 'slots': '19', 'streetNumber': '103', 'nearbyStations': '127, 128, 131, 139', 'type': 'BIKE', 'streetName': 'Rambla Guipúscoa', 'bikes': '5', 'latitude': '41.419905', 'status': 'OPN', 'id': '130', 'longitude': '2.201573'}, {'altitude': '9', 'slots': '26', 'streetNumber': '158', 'nearbyStations': '130, 139, 316, 317', 'type': 'BIKE', 'streetName': 'Rambla Guipúscoa', 'bikes': '0', 'latitude': '41.422808', 'status': 'OPN', 'id': '131', 'longitude': '2.206036'}, {'altitude': '13', 'slots': '24', 'streetNumber': '', 'nearbyStations': '42, 103, 133, 141', 'type': 'BIKE', 'streetName': 'Pl. Valentí Amirall', 'bikes': '0', 'latitude': '41.408439', 'status': 'OPN', 'id': '132', 'longitude': '2.192173'}, {'altitude': '16', 'slots': '10', 'streetNumber': '902', 'nearbyStations': '42, 43, 132, 141', 'type': 'BIKE', 'streetName': 'Gran Vía', 'bikes': '1', 'latitude': '41.407411', 'status': 'OPN', 'id': '133', 'longitude': '2.192819'}, {'altitude': '13', 'slots': '7', 'streetNumber': '990', 'nearbyStations': '135, 136, 141, 145', 'type': 'BIKE', 'streetName': 'Gran Via', 'bikes': '13', 'latitude': '41.411315', 'status': 'OPN', 'id': '134', 'longitude': '2.198126'}, {'altitude': '13', 'slots': '3', 'streetNumber': '981', 'nearbyStations': '136, 137, 141', 'type': 'BIKE', 'streetName': 'Gran Vía', 'bikes': '17', 'latitude': '41.411908', 'status': 'OPN', 'id': '135', 'longitude': '2.197936'}, {'altitude': '9', 'slots': '27', 'streetNumber': '1062', 'nearbyStations': '137, 138, 146', 'type': 'BIKE', 'streetName': 'Gran Vía', 'bikes': '0', 'latitude': '41.414226', 'status': 'OPN', 'id': '136', 'longitude': '2.201734'}, {'altitude': '9', 'slots': '15', 'streetNumber': '1041', 'nearbyStations': '130, 136, 138, 146', 'type': 'BIKE', 'streetName': 'Gran Vía, 1041\\\\/ Selva de Mar', 'bikes': '11', 'latitude': '41.414758', 'status': 'OPN', 'id': '137', 'longitude': '2.201538'}, {'altitude': '9', 'slots': '20', 'streetNumber': '1118', 'nearbyStations': '136, 137, 139, 147', 'type': 'BIKE', 'streetName': 'Gran Vía', 'bikes': '0', 'latitude': '41.416966', 'status': 'OPN', 'id': '138', 'longitude': '2.205397'}, {'altitude': '9', 'slots': '22', 'streetNumber': '1131', 'nearbyStations': '130, 131, 138, 147', 'type': 'BIKE', 'streetName': 'Gran Vía', 'bikes': '3', 'latitude': '41.418035', 'status': 'OPN', 'id': '139', 'longitude': '2.206023'}, {'altitude': '41', 'slots': '13', 'streetNumber': '122', 'nearbyStations': '82, 91, 111, 262', 'type': 'BIKE', 'streetName': 'Viladomat', 'bikes': '13', 'latitude': '41.38063', 'status': 'OPN', 'id': '140', 'longitude': '2.15614'}, {'altitude': '13', 'slots': '29', 'streetNumber': '940', 'nearbyStations': '42, 132, 133, 135', 'type': 'BIKE', 'streetName': 'Gran Via ', 'bikes': '0', 'latitude': '41.40902', 'status': 'OPN', 'id': '141', 'longitude': '2.194896'}, {'altitude': '16', 'slots': '11', 'streetNumber': '104', 'nearbyStations': '42, 44, 143, 211', 'type': 'BIKE', 'streetName': 'Sancho de Ávila', 'bikes': '22', 'latitude': '41.400503', 'status': 'OPN', 'id': '142', 'longitude': '2.192511'}, {'altitude': '16', 'slots': '22', 'streetNumber': '170', 'nearbyStations': '42, 144, 152, 153, 428', 'type': 'BIKE', 'streetName': 'Sancho de Ávila', 'bikes': '4', 'latitude': '41.40325', 'status': 'OPN', 'id': '143', 'longitude': '2.19606'}, {'altitude': '16', 'slots': '25', 'streetNumber': '28', 'nearbyStations': '42, 143, 150, 286', 'type': 'BIKE', 'streetName': 'Castella', 'bikes': '1', 'latitude': '41.40562', 'status': 'OPN', 'id': '144', 'longitude': '2.19764'}, {'altitude': '9', 'slots': '25', 'streetNumber': '301', 'nearbyStations': '135, 146, 150, 156', 'type': 'BIKE', 'streetName': 'Pere IV', 'bikes': '0', 'latitude': '41.40982', 'status': 'OPN', 'id': '145', 'longitude': '2.202904'}, {'altitude': '9', 'slots': '24', 'streetNumber': '383', 'nearbyStations': '136, 137, 138, 145', 'type': 'BIKE', 'streetName': 'Pere IV', 'bikes': '2', 'latitude': '41.412453', 'status': 'OPN', 'id': '146', 'longitude': '2.204841'}, {'altitude': '5', 'slots': '20', 'streetNumber': '79', 'nearbyStations': '146, 157, 158, 159', 'type': 'BIKE', 'streetName': 'Rambla Prim', 'bikes': '2', 'latitude': '41.416018', 'status': 'OPN', 'id': '147', 'longitude': '2.212658'}, {'altitude': '79', 'slots': '21', 'streetNumber': '79', 'nearbyStations': '70, 113, 388, 415', 'type': 'BIKE', 'streetName': 'Ronda Sant Pau', 'bikes': '0', 'latitude': '41.378436', 'status': 'OPN', 'id': '148', 'longitude': '2.163324'}, {'altitude': '11', 'slots': '16', 'streetNumber': '57B', 'nearbyStations': '45, 48, 409', 'type': 'BIKE', 'streetName': 'Pujades', 'bikes': '10', 'latitude': '41.395905', 'status': 'OPN', 'id': '149', 'longitude': '2.192958'}, {'altitude': '10', 'slots': '25', 'streetNumber': '124', 'nearbyStations': '144, 145, 154, 155', 'type': 'BIKE', 'streetName': 'Espronceda', 'bikes': '0', 'latitude': '41.406549', 'status': 'OPN', 'id': '150', 'longitude': '2.203112'}, {'altitude': '6', 'slots': '15', 'streetNumber': '462', 'nearbyStations': '152, 153, 211, 393, 428', 'type': 'BIKE', 'streetName': 'Pallars', 'bikes': '8', 'latitude': '41.40065', 'status': 'OPN', 'id': '151', 'longitude': '2.19719'}, {'altitude': '11', 'slots': '20', 'streetNumber': '121', 'nearbyStations': '143, 149, 153, 393', 'type': 'BIKE', 'streetName': 'Pujades', 'bikes': '4', 'latitude': '41.39925', 'status': 'OPN', 'id': '152', 'longitude': '2.197421'}, {'altitude': '10', 'slots': '25', 'streetNumber': '173', 'nearbyStations': '152, 154, 165, 393, 428', 'type': 'BIKE', 'streetName': 'Pujades', 'bikes': '1', 'latitude': '41.401778', 'status': 'OPN', 'id': '153', 'longitude': '2.200769'}, {'altitude': '10', 'slots': '25', 'streetNumber': '191', 'nearbyStations': '141, 153, 165, 382', 'type': 'BIKE', 'streetName': 'Pujades', 'bikes': '1', 'latitude': '41.402454', 'status': 'OPN', 'id': '154', 'longitude': '2.201656'}, {'altitude': '10', 'slots': '31', 'streetNumber': '311', 'nearbyStations': '150, 156, 162, 382', 'type': 'BIKE', 'streetName': 'Pujades', 'bikes': '2', 'latitude': '41.406977', 'status': 'OPN', 'id': '155', 'longitude': '2.207602'}, {'altitude': '5', 'slots': '20', 'streetNumber': '82', 'nearbyStations': '145, 155, 157, 159', 'type': 'BIKE', 'streetName': 'Diagonal', 'bikes': '2', 'latitude': '41.408923', 'status': 'OPN', 'id': '156', 'longitude': '2.208551'}, {'altitude': '5', 'slots': '25', 'streetNumber': '396', 'nearbyStations': '35, 147, 158, 159, 160', 'type': 'BIKE', 'streetName': 'C\\\\/Llull', 'bikes': '0', 'latitude': '41.411636', 'status': 'OPN', 'id': '157', 'longitude': '2.216337'}, {'altitude': '1', 'slots': '19', 'streetNumber': '1', 'nearbyStations': '35, 156, 157, 159, 160', 'type': 'BIKE', 'streetName': 'Rambla de Prim', 'bikes': '6', 'latitude': '41.411655', 'status': 'OPN', 'id': '158', 'longitude': '2.218742'}, {'altitude': '5', 'slots': '24', 'streetNumber': '26', 'nearbyStations': '35, 156, 157, 158, 160', 'type': 'BIKE', 'streetName': 'Avda. Diagonal', 'bikes': '0', 'latitude': '41.410916', 'status': 'OPN', 'id': '159', 'longitude': '2.216381'}, {'altitude': '1', 'slots': '11', 'streetNumber': '1', 'nearbyStations': '35, 156, 157, 158, 159', 'type': 'BIKE', 'streetName': \"Avda. d'Eduard Maristany\", 'bikes': '20', 'latitude': '41.411026', 'status': 'OPN', 'id': '160', 'longitude': '2.219377'}, {'altitude': '11', 'slots': '7', 'streetNumber': '91', 'nearbyStations': '49, 149, 163, 409', 'type': 'BIKE', 'streetName': 'Ramon Turro', 'bikes': '18', 'latitude': '41.395009', 'status': 'OPN', 'id': '161', 'longitude': '2.196308'}, {'altitude': '0', 'slots': '23', 'streetNumber': '287', 'nearbyStations': '155, 166, 167, 168', 'type': 'BIKE', 'streetName': 'Ramon Turro', 'bikes': '1', 'latitude': '41.404367', 'status': 'OPN', 'id': '162', 'longitude': '2.208752'}, {'altitude': '11', 'slots': '14', 'streetNumber': '202', 'nearbyStations': '49, 117, 161, 172', 'type': 'BIKE', 'streetName': 'Avda. Icaria', 'bikes': '9', 'latitude': '41.3942', 'status': 'OPN', 'id': '163', 'longitude': '2.20077'}, {'altitude': '33', 'slots': '8', 'streetNumber': '379', 'nearbyStations': '20, 21, 177, 280', 'type': 'BIKE', 'streetName': 'Independència', 'bikes': '17', 'latitude': '41.41194', 'status': 'OPN', 'id': '164', 'longitude': '2.178037'}, {'altitude': '0', 'slots': '25', 'streetNumber': '221', 'nearbyStations': '153, 154, 166, 173', 'type': 'BIKE', 'streetName': 'Carrer del Doctor Trueta', 'bikes': '0', 'latitude': '41.399196', 'status': 'OPN', 'id': '165', 'longitude': '2.204253'}, {'altitude': '10', 'slots': '24', 'streetNumber': '116', 'nearbyStations': '162, 165, 173, 174', 'type': 'BIKE', 'streetName': 'Passeig de Taulat', 'bikes': '1', 'latitude': '41.401077', 'status': 'OPN', 'id': '166', 'longitude': '2.207632'}, {'altitude': '0', 'slots': '21', 'streetNumber': '188', 'nearbyStations': '162, 166, 168, 176', 'type': 'BIKE', 'streetName': 'Passeig de Taulat', 'bikes': '2', 'latitude': '41.403446', 'status': 'OPN', 'id': '167', 'longitude': '2.211166'}, {'altitude': '0', 'slots': '21', 'streetNumber': '238', 'nearbyStations': '162, 167, 176, 178', 'type': 'BIKE', 'streetName': 'Passeig de Taulat', 'bikes': '3', 'latitude': '41.405216', 'status': 'OPN', 'id': '168', 'longitude': '2.213518'}, {'altitude': '0', 'slots': '18', 'streetNumber': '40', 'nearbyStations': '11, 170, 172, 397', 'type': 'BIKE', 'streetName': 'Avda. Litoral', 'bikes': '9', 'latitude': '41.389896', 'status': 'OPN', 'id': '169', 'longitude': '2.200055'}, {'altitude': '1', 'slots': '19', 'streetNumber': '40', 'nearbyStations': '117, 169, 172, 397', 'type': 'BIKE', 'streetName': 'Avda. Litoral', 'bikes': '8', 'latitude': '41.389732', 'status': 'OPN', 'id': '170', 'longitude': '2.199934'}, {'altitude': '0', 'slots': '22', 'streetNumber': '83', 'nearbyStations': '163, 169, 170, 172', 'type': 'BIKE', 'streetName': 'Passeig Marítim de la Nova Icària', 'bikes': '5', 'latitude': '41.391986', 'status': 'OPN', 'id': '171', 'longitude': '2.203699'}, {'altitude': '0', 'slots': '18', 'streetNumber': '83', 'nearbyStations': '163, 169, 170, 171', 'type': 'BIKE', 'streetName': 'Passeig Marítim de la Nova Icària', 'bikes': '7', 'latitude': '41.391831', 'status': 'OPN', 'id': '172', 'longitude': '2.203436'}, {'altitude': '0', 'slots': '26', 'streetNumber': '84', 'nearbyStations': '166, 171, 174, 190', 'type': 'BIKE', 'streetName': 'Avda. Litoral', 'bikes': '1', 'latitude': '41.398027', 'status': 'OPN', 'id': '173', 'longitude': '2.208982'}, {'altitude': '0', 'slots': '16', 'streetNumber': '21', 'nearbyStations': '166, 173, 176, 178', 'type': 'BIKE', 'streetName': 'Passeig de Garcia Fària', 'bikes': '11', 'latitude': '41.40061', 'status': 'OPN', 'id': '174', 'longitude': '2.210461'}, {'altitude': '10', 'slots': '21', 'streetNumber': '309', 'nearbyStations': '155, 156, 162, 167', 'type': 'BIKE', 'streetName': 'Llull \\\\/ Provençals', 'bikes': '4', 'latitude': '41.40666', 'status': 'OPN', 'id': '175', 'longitude': '2.20956'}, {'altitude': '0', 'slots': '23', 'streetNumber': '37', 'nearbyStations': '167, 168, 174, 178', 'type': 'BIKE', 'streetName': 'Passeig de Garcia Fària', 'bikes': '1', 'latitude': '41.402541', 'status': 'OPN', 'id': '176', 'longitude': '2.212641'}, {'altitude': '0', 'slots': '9', 'streetNumber': '557', 'nearbyStations': '20, 121, 164, 280', 'type': 'BIKE', 'streetName': 'Rosselló', 'bikes': '11', 'latitude': '41.411089', 'status': 'OPN', 'id': '177', 'longitude': '2.181119'}, {'altitude': '0', 'slots': '26', 'streetNumber': '85', 'nearbyStations': '162, 166, 167, 168', 'type': 'BIKE', 'streetName': 'Passeig de Garcia Fària', 'bikes': '0', 'latitude': '41.405389', 'status': 'OPN', 'id': '178', 'longitude': '2.216212'}, {'altitude': '48', 'slots': '13', 'streetNumber': '2', 'nearbyStations': '184, 351, 352, 404', 'type': 'BIKE', 'streetName': 'Rambla Badal', 'bikes': '13', 'latitude': '41.365306', 'status': 'OPN', 'id': '179', 'longitude': '2.135678'}, {'altitude': '50', 'slots': '13', 'streetNumber': '181', 'nearbyStations': '179, 181, 182, 183', 'type': 'BIKE', 'streetName': 'Gran Via', 'bikes': '14', 'latitude': '41.36778', 'status': 'OPN', 'id': '180', 'longitude': '2.13926'}, {'altitude': '50', 'slots': '20', 'streetNumber': '180', 'nearbyStations': '179, 180, 182, 183', 'type': 'BIKE', 'streetName': 'Gran Via', 'bikes': '6', 'latitude': '41.36766', 'status': 'OPN', 'id': '181', 'longitude': '2.13911'}, {'altitude': '61', 'slots': '19', 'streetNumber': '273', 'nearbyStations': '96, 180, 183, 420', 'type': 'BIKE', 'streetName': 'Gran Via', 'bikes': '7', 'latitude': '41.371455', 'status': 'OPN', 'id': '182', 'longitude': '2.143882'}, {'altitude': '61', 'slots': '18', 'streetNumber': '1', 'nearbyStations': '181, 182, 185, 420', 'type': 'BIKE', 'streetName': 'Gavà', 'bikes': '7', 'latitude': '41.372338', 'status': 'OPN', 'id': '183', 'longitude': '2.141875'}, {'altitude': '50', 'slots': '26', 'streetNumber': '22', 'nearbyStations': '179, 180, 185, 404', 'type': 'BIKE', 'streetName': 'Quetzal', 'bikes': '0', 'latitude': '41.367504', 'status': 'OPN', 'id': '184', 'longitude': '2.134088'}, {'altitude': '50', 'slots': '14', 'streetNumber': '81', 'nearbyStations': '180, 181, 184, 404', 'type': 'BIKE', 'streetName': 'Gavà', 'bikes': '6', 'latitude': '41.37046', 'status': 'OPN', 'id': '185', 'longitude': '2.138994'}, {'altitude': '44', 'slots': '26', 'streetNumber': '6', 'nearbyStations': '95, 96, 210, 420', 'type': 'BIKE', 'streetName': 'Consell de Cent', 'bikes': '1', 'latitude': '41.375571', 'status': 'OPN', 'id': '186', 'longitude': '2.143812'}, {'altitude': '24', 'slots': '5', 'streetNumber': '89', 'nearbyStations': '50, 54, 416, 427', 'type': 'BIKE', 'streetName': 'Carrer de Sant Pau', 'bikes': '12', 'latitude': '41.376858', 'status': 'OPN', 'id': '187', 'longitude': '2.169811'}, {'altitude': '45', 'slots': '24', 'streetNumber': '0', 'nearbyStations': '210, 313, 354, 421', 'type': 'BIKE', 'streetName': 'Pl. Sants (Ps. S. Antoni)', 'bikes': '0', 'latitude': '41.375471', 'status': 'OPN', 'id': '188', 'longitude': '2.135543'}, {'altitude': '50', 'slots': '18', 'streetNumber': '130', 'nearbyStations': '25, 27, 123, 224', 'type': 'BIKE', 'streetName': 'Bruc', 'bikes': '9', 'latitude': '41.396918', 'status': 'OPN', 'id': '189', 'longitude': '2.166163'}, {'altitude': '0', 'slots': '28', 'streetNumber': '72', 'nearbyStations': '165, 171, 172, 173', 'type': 'BIKE', 'streetName': 'Avinguda Litoral', 'bikes': '4', 'latitude': '41.39606', 'status': 'OPN', 'id': '190', 'longitude': '2.207803'}, {'altitude': '44', 'slots': '20', 'streetNumber': '167', 'nearbyStations': '81, 87, 111, 384', 'type': 'BIKE', 'streetName': 'Rocafort', 'bikes': '6', 'latitude': '41.382564', 'status': 'OPN', 'id': '191', 'longitude': '2.149094'}, {'altitude': '46', 'slots': '14', 'streetNumber': '85', 'nearbyStations': '188, 193, 194, 314', 'type': 'BIKE', 'streetName': 'Joan Güell', 'bikes': '12', 'latitude': '41.379814', 'status': 'OPN', 'id': '192', 'longitude': '2.132802'}, {'altitude': '46', 'slots': '22', 'streetNumber': '1', 'nearbyStations': '192, 194, 199, 312', 'type': 'BIKE', 'streetName': 'Figols', 'bikes': '4', 'latitude': '41.381311', 'status': 'OPN', 'id': '193', 'longitude': '2.128912'}, {'altitude': '46', 'slots': '27', 'streetNumber': '139', 'nearbyStations': '192, 193, 196, 200', 'type': 'BIKE', 'streetName': 'Joan Güell', 'bikes': '0', 'latitude': '41.382258', 'status': 'OPN', 'id': '194', 'longitude': '2.131652'}, {'altitude': '45', 'slots': '24', 'streetNumber': '148', 'nearbyStations': '192, 194, 196, 367', 'type': 'BIKE', 'streetName': 'Comtes de Bell-lloc', 'bikes': '3', 'latitude': '41.38234', 'status': 'OPN', 'id': '195', 'longitude': '2.136186'}, {'altitude': '57', 'slots': '21', 'streetNumber': '216', 'nearbyStations': '195, 198, 200, 367', 'type': 'BIKE', 'streetName': 'Comte Bell-lloch', 'bikes': '5', 'latitude': '41.384522', 'status': 'OPN', 'id': '196', 'longitude': '2.134698'}, {'altitude': '57', 'slots': '26', 'streetNumber': '18', 'nearbyStations': '75, 196, 201, 367', 'type': 'BIKE', 'streetName': 'Taquigraf Serra', 'bikes': '1', 'latitude': '41.386398', 'status': 'OPN', 'id': '197', 'longitude': '2.139821'}, {'altitude': '60', 'slots': '24', 'streetNumber': '198', 'nearbyStations': '196, 200, 201, 205', 'type': 'BIKE', 'streetName': 'Vallespir', 'bikes': '3', 'latitude': '41.38512', 'status': 'OPN', 'id': '198', 'longitude': '2.133282'}, {'altitude': '46', 'slots': '23', 'streetNumber': '2', 'nearbyStations': '193, 200, 202, 312', 'type': 'BIKE', 'streetName': 'Mejía Lequerica', 'bikes': '4', 'latitude': '41.38182', 'status': 'OPN', 'id': '199', 'longitude': '2.126933'}, {'altitude': '60', 'slots': '9', 'streetNumber': '1', 'nearbyStations': '193, 194, 196, 198', 'type': 'BIKE', 'streetName': 'Can bruixa', 'bikes': '15', 'latitude': '41.383756', 'status': 'OPN', 'id': '200', 'longitude': '2.131273'}, {'altitude': '57', 'slots': '7', 'streetNumber': '56', 'nearbyStations': '198, 206, 207, 208', 'type': 'BIKE', 'streetName': 'Déu i Mata', 'bikes': '25', 'latitude': '41.388455', 'status': 'OPN', 'id': '201', 'longitude': '2.135826'}, {'altitude': '60', 'slots': '24', 'streetNumber': '20', 'nearbyStations': '199, 200, 203, 205', 'type': 'BIKE', 'streetName': 'Carrer de les Corts', 'bikes': '2', 'latitude': '41.385331', 'status': 'OPN', 'id': '202', 'longitude': '2.128737'}, {'altitude': '60', 'slots': '19', 'streetNumber': '664', 'nearbyStations': '204, 205, 212, 284', 'type': 'BIKE', 'streetName': 'Avda. Diagonal', 'bikes': '11', 'latitude': '41.388742', 'status': 'OPN', 'id': '203', 'longitude': '2.128503'}, {'altitude': '60', 'slots': '12', 'streetNumber': '668', 'nearbyStations': '202, 203, 205, 212', 'type': 'BIKE', 'streetName': 'Avda. Diagonal', 'bikes': '18', 'latitude': '41.388011', 'status': 'OPN', 'id': '204', 'longitude': '2.125593'}, {'altitude': '60', 'slots': '27', 'streetNumber': '25', 'nearbyStations': '198, 202, 203, 284', 'type': 'BIKE', 'streetName': 'Europa ', 'bikes': '4', 'latitude': '41.387465', 'status': 'OPN', 'id': '205', 'longitude': '2.130838'}, {'altitude': '60', 'slots': '18', 'streetNumber': '650', 'nearbyStations': '201, 207, 208, 284', 'type': 'BIKE', 'streetName': 'Avda. Diagonal', 'bikes': '14', 'latitude': '41.389845', 'status': 'OPN', 'id': '206', 'longitude': '2.13284'}, {'altitude': '57', 'slots': '4', 'streetNumber': '634', 'nearbyStations': '201, 204, 206, 208', 'type': 'BIKE', 'streetName': 'Avda. Diagonal', 'bikes': '14', 'latitude': '41.390828', 'status': 'OPN', 'id': '207', 'longitude': '2.136665'}, {'altitude': '57', 'slots': '7', 'streetNumber': '630', 'nearbyStations': '201, 206, 207, 366', 'type': 'BIKE', 'streetName': 'Avda. Diagonal', 'bikes': '26', 'latitude': '41.391451', 'status': 'OPN', 'id': '208', 'longitude': '2.139116'}, {'altitude': '41', 'slots': '18', 'streetNumber': '200', 'nearbyStations': '71, 78, 84, 261', 'type': 'BIKE', 'streetName': 'Diputació', 'bikes': '9', 'latitude': '41.385755', 'status': 'OPN', 'id': '209', 'longitude': '2.161004'}, {'altitude': '50', 'slots': '14', 'streetNumber': '18', 'nearbyStations': '183, 185, 186, 421', 'type': 'BIKE', 'streetName': 'Vilardell', 'bikes': '11', 'latitude': '41.37453', 'status': 'OPN', 'id': '210', 'longitude': '2.142356'}, {'altitude': '18', 'slots': '9', 'streetNumber': '60', 'nearbyStations': '16, 44, 48, 142', 'type': 'BIKE', 'streetName': 'Sancho de Ávila', 'bikes': '22', 'latitude': '41.398848', 'status': 'OPN', 'id': '211', 'longitude': '2.190291'}, {'altitude': '82', 'slots': '11', 'streetNumber': '212', 'nearbyStations': '203, 206, 284, 325', 'type': 'BIKE', 'streetName': 'Numancia', 'bikes': '16', 'latitude': '41.392173', 'status': 'OPN', 'id': '212', 'longitude': '2.130319'}, {'altitude': '79', 'slots': '11', 'streetNumber': '9', 'nearbyStations': '207, 208, 214, 215', 'type': 'BIKE', 'streetName': 'Doctor Fleming', 'bikes': '21', 'latitude': '41.392485', 'status': 'OPN', 'id': '213', 'longitude': '2.135586'}, {'altitude': '79', 'slots': '13', 'streetNumber': '19', 'nearbyStations': '207, 208, 212, 213', 'type': 'BIKE', 'streetName': 'Doctor Fleming', 'bikes': '19', 'latitude': '41.393976', 'status': 'OPN', 'id': '214', 'longitude': '2.13496'}, {'altitude': '79', 'slots': '15', 'streetNumber': '6', 'nearbyStations': '102, 213, 214, 324', 'type': 'BIKE', 'streetName': 'Carrer de Francesc Pérez Cabrero', 'bikes': '9', 'latitude': '41.394527', 'status': 'OPN', 'id': '215', 'longitude': '2.138637'}, {'altitude': '69', 'slots': '17', 'streetNumber': '131', 'nearbyStations': '101, 217, 219, 319', 'type': 'BIKE', 'streetName': 'Madrazo', 'bikes': '9', 'latitude': '41.396809', 'status': 'OPN', 'id': '216', 'longitude': '2.144534'}, {'altitude': '69', 'slots': '11', 'streetNumber': '24', 'nearbyStations': '102, 216, 219, 319', 'type': 'BIKE', 'streetName': 'Rector Ubach', 'bikes': '15', 'latitude': '41.398463', 'status': 'OPN', 'id': '217', 'longitude': '2.143924'}, {'altitude': '28', 'slots': '16', 'streetNumber': '566', 'nearbyStations': '30, 43, 369, 371', 'type': 'BIKE', 'streetName': 'Consell de Cent', 'bikes': '10', 'latitude': '41.404114', 'status': 'OPN', 'id': '218', 'longitude': '2.183203'}, {'altitude': '69', 'slots': '16', 'streetNumber': '74', 'nearbyStations': '107, 216, 217, 220', 'type': 'BIKE', 'streetName': 'Carre Laforja', 'bikes': '6', 'latitude': '41.397812', 'status': 'OPN', 'id': '219', 'longitude': '2.147585'}, {'altitude': '59', 'slots': '8', 'streetNumber': '19', 'nearbyStations': '68, 88, 107, 219', 'type': 'BIKE', 'streetName': 'Tuset', 'bikes': '19', 'latitude': '41.396229', 'status': 'OPN', 'id': '220', 'longitude': '2.151482'}, {'altitude': '71', 'slots': '10', 'streetNumber': '155', 'nearbyStations': '107, 222, 229, 230', 'type': 'BIKE', 'streetName': 'Gran de Gràcia', 'bikes': '15', 'latitude': '41.402535', 'status': 'OPN', 'id': '221', 'longitude': '2.152519'}, {'altitude': '71', 'slots': '13', 'streetNumber': '1', 'nearbyStations': '107, 221, 226, 229', 'type': 'BIKE', 'streetName': 'Carrer del Canó', 'bikes': '11', 'latitude': '41.40124', 'status': 'OPN', 'id': '222', 'longitude': '2.157483'}, {'altitude': '50', 'slots': '21', 'streetNumber': '14', 'nearbyStations': '68, 224, 225, 374', 'type': 'BIKE', 'streetName': 'Carrer de Bonavista', 'bikes': '13', 'latitude': '41.398311', 'status': 'OPN', 'id': '223', 'longitude': '2.159865'}, {'altitude': '50', 'slots': '11', 'streetNumber': '158', 'nearbyStations': '27, 108, 123, 189', 'type': 'BIKE', 'streetName': 'Bailèn', 'bikes': '9', 'latitude': '41.40011', 'status': 'OPN', 'id': '224', 'longitude': '2.16644'}, {'altitude': '44', 'slots': '9', 'streetNumber': '84', 'nearbyStations': '83, 87, 89, 191', 'type': 'BIKE', 'streetName': 'Mallorca', 'bikes': '18', 'latitude': '41.38482', 'status': 'OPN', 'id': '225', 'longitude': '2.15057'}, {'altitude': '59', 'slots': '18', 'streetNumber': '1', 'nearbyStations': '106, 108, 122, 231', 'type': 'BIKE', 'streetName': 'Montmany', 'bikes': '4', 'latitude': '41.403465', 'status': 'OPN', 'id': '226', 'longitude': '2.161096'}, {'altitude': '59', 'slots': '13', 'streetNumber': '102', 'nearbyStations': '106, 228, 231, 357', 'type': 'BIKE', 'streetName': 'Torrent de Les Flors', 'bikes': '14', 'latitude': '41.407837', 'status': 'OPN', 'id': '227', 'longitude': '2.158678'}, {'altitude': '71', 'slots': '11', 'streetNumber': '5', 'nearbyStations': '106, 227, 229, 230', 'type': 'BIKE', 'streetName': 'Pl. Del Nord', 'bikes': '15', 'latitude': '41.40694', 'status': 'OPN', 'id': '228', 'longitude': '2.155794'}, {'altitude': '71', 'slots': '11', 'streetNumber': '2', 'nearbyStations': '106, 226, 227, 228', 'type': 'BIKE', 'streetName': 'Carrer de la Santacreu', 'bikes': '15', 'latitude': '41.405107', 'status': 'OPN', 'id': '229', 'longitude': '2.156874'}, {'altitude': '71', 'slots': '26', 'streetNumber': '16', 'nearbyStations': '221, 222, 228, 229', 'type': 'BIKE', 'streetName': 'C. De Nil Fabra', 'bikes': '1', 'latitude': '41.405986', 'status': 'OPN', 'id': '230', 'longitude': '2.151633'}, {'altitude': '87', 'slots': '19', 'streetNumber': '59', 'nearbyStations': '106, 122, 227, 276', 'type': 'BIKE', 'streetName': 'C. Del Secretari Coloma', 'bikes': '7', 'latitude': '41.409115', 'status': 'OPN', 'id': '231', 'longitude': '2.16327'}, {'altitude': '1', 'slots': '12', 'streetNumber': '45', 'nearbyStations': '50, 233, 234, 427', 'type': 'BIKE', 'streetName': 'Vilà i Vilà', 'bikes': '14', 'latitude': '41.373509', 'status': 'OPN', 'id': '232', 'longitude': '2.171002'}, {'altitude': '1', 'slots': '15', 'streetNumber': '164', 'nearbyStations': '50, 232, 234, 427', 'type': 'BIKE', 'streetName': 'Nou de la Rambla', 'bikes': '8', 'latitude': '41.371965', 'status': 'OPN', 'id': '233', 'longitude': '2.166871'}, {'altitude': '44', 'slots': '17', 'streetNumber': '30', 'nearbyStations': '85, 233, 235, 236', 'type': 'BIKE', 'streetName': \"Passeig de l'Exposició\", 'bikes': '6', 'latitude': '41.371515', 'status': 'OPN', 'id': '234', 'longitude': '2.162166'}, {'altitude': '44', 'slots': '20', 'streetNumber': '64', 'nearbyStations': '85, 129, 234, 236', 'type': 'BIKE', 'streetName': 'Elkano', 'bikes': '6', 'latitude': '41.373764', 'status': 'OPN', 'id': '235', 'longitude': '2.161632'}, {'altitude': '67', 'slots': '23', 'streetNumber': '42', 'nearbyStations': '85, 94, 235, 237', 'type': 'BIKE', 'streetName': 'Carrer de la França Xica', 'bikes': '1', 'latitude': '41.372162', 'status': 'OPN', 'id': '236', 'longitude': '2.156554'}, {'altitude': '67', 'slots': '12', 'streetNumber': '4', 'nearbyStations': '85, 93, 234, 236', 'type': 'BIKE', 'streetName': 'Rius i Taulet', 'bikes': '15', 'latitude': '41.372891', 'status': 'OPN', 'id': '237', 'longitude': '2.154471'}, {'altitude': '17', 'slots': '4', 'streetNumber': '298', 'nearbyStations': '127, 240, 248, 289', 'type': 'BIKE', 'streetName': 'Espronceda', 'bikes': '22', 'latitude': '41.415684', 'status': 'OPN', 'id': '238', 'longitude': '2.190986'}, {'altitude': '18', 'slots': '8', 'streetNumber': '344', 'nearbyStations': '240, 241, 248, 315', 'type': 'BIKE', 'streetName': 'Indústria', 'bikes': '19', 'latitude': '41.417315', 'status': 'OPN', 'id': '239', 'longitude': '2.184712'}, {'altitude': '18', 'slots': '5', 'streetNumber': '32', 'nearbyStations': '128, 238, 248, 289', 'type': 'BIKE', 'streetName': 'Josep Estivill', 'bikes': '20', 'latitude': '41.417763', 'status': 'OPN', 'id': '240', 'longitude': '2.187558'}, {'altitude': '37', 'slots': '18', 'streetNumber': '22', 'nearbyStations': '239, 240, 248, 315', 'type': 'BIKE', 'streetName': 'Pl. Maragall', 'bikes': '9', 'latitude': '41.419858', 'status': 'OPN', 'id': '241', 'longitude': '2.181234'}, {'altitude': '37', 'slots': '5', 'streetNumber': '1', 'nearbyStations': '241, 243, 244, 291', 'type': 'BIKE', 'streetName': 'Ramon Albó', 'bikes': '21', 'latitude': '41.424451', 'status': 'OPN', 'id': '242', 'longitude': '2.177284'}, {'altitude': '37', 'slots': '3', 'streetNumber': '1', 'nearbyStations': '241, 242, 244, 247', 'type': 'BIKE', 'streetName': 'Alenxadre Galí', 'bikes': '23', 'latitude': '41.423939', 'status': 'OPN', 'id': '243', 'longitude': '2.181298'}, {'altitude': '47', 'slots': '13', 'streetNumber': '214', 'nearbyStations': '242, 243, 251', 'type': 'BIKE', 'streetName': 'Felip II', 'bikes': '14', 'latitude': '41.426896', 'status': 'OPN', 'id': '244', 'longitude': '2.178511'}, {'altitude': '18', 'slots': '23', 'streetNumber': '116', 'nearbyStations': '247, 249, 250, 251', 'type': 'BIKE', 'streetName': 'Juan de Garay', 'bikes': '9', 'latitude': '41.422561', 'status': 'OPN', 'id': '246', 'longitude': '2.185734'}, {'altitude': '18', 'slots': '19', 'streetNumber': '43', 'nearbyStations': '241, 243, 246, 251', 'type': 'BIKE', 'streetName': 'Olesa', 'bikes': '5', 'latitude': '41.422811', 'status': 'OPN', 'id': '247', 'longitude': '2.185171'}, {'altitude': '18', 'slots': '1', 'streetNumber': '31', 'nearbyStations': '128, 238, 240, 423', 'type': 'BIKE', 'streetName': 'Palència', 'bikes': '26', 'latitude': '41.418208', 'status': 'OPN', 'id': '248', 'longitude': '2.190374'}, {'altitude': '18', 'slots': '9', 'streetNumber': '1', 'nearbyStations': '246, 250, 251, 391', 'type': 'BIKE', 'streetName': 'Açores', 'bikes': '14', 'latitude': '41.425216', 'status': 'OPN', 'id': '249', 'longitude': '2.188997'}, {'altitude': '27', 'slots': '9', 'streetNumber': '12', 'nearbyStations': '249, 252, 253, 254', 'type': 'BIKE', 'streetName': 'Portugal', 'bikes': '16', 'latitude': '41.426248', 'status': 'OPN', 'id': '250', 'longitude': '2.190132'}, {'altitude': '27', 'slots': '18', 'streetNumber': '13', 'nearbyStations': '243, 246, 247, 249', 'type': 'BIKE', 'streetName': 'Cardenal Tedeschini', 'bikes': '12', 'latitude': '41.425405', 'status': 'OPN', 'id': '251', 'longitude': '2.185226'}, {'altitude': '18', 'slots': '28', 'streetNumber': '23', 'nearbyStations': '249, 250, 254, 391', 'type': 'BIKE', 'streetName': 'Carrer del Pare Manyanet', 'bikes': '2', 'latitude': '41.428184', 'status': 'OPN', 'id': '252', 'longitude': '2.193402'}, {'altitude': '18', 'slots': '9', 'streetNumber': '37', 'nearbyStations': '250, 252, 254, 257', 'type': 'BIKE', 'streetName': 'Onze de Setembre', 'bikes': '17', 'latitude': '41.429977', 'status': 'OPN', 'id': '253', 'longitude': '2.191821'}, {'altitude': '27', 'slots': '24', 'streetNumber': '93', 'nearbyStations': '250, 252, 253, 255', 'type': 'BIKE', 'streetName': 'Gran de Sant Andreu', 'bikes': '6', 'latitude': '41.430343', 'status': 'OPN', 'id': '254', 'longitude': '2.189581'}, {'altitude': '27', 'slots': '16', 'streetNumber': '11', 'nearbyStations': '253, 254, 257, 274', 'type': 'BIKE', 'streetName': 'Irlanda', 'bikes': '5', 'latitude': '41.431183', 'status': 'OPN', 'id': '255', 'longitude': '2.185852'}, {'altitude': '25', 'slots': '1', 'streetNumber': '28', 'nearbyStations': '255, 257, 259, 285', 'type': 'BIKE', 'streetName': 'Malats', 'bikes': '26', 'latitude': '41.435998', 'status': 'OPN', 'id': '256', 'longitude': '2.189524'}, {'altitude': '25', 'slots': '2', 'streetNumber': '2', 'nearbyStations': '253, 254, 255, 256', 'type': 'BIKE', 'streetName': 'Sant Adrià', 'bikes': '23', 'latitude': '41.433897', 'status': 'OPN', 'id': '257', 'longitude': '2.189614'}, {'altitude': '24', 'slots': '13', 'streetNumber': '6', 'nearbyStations': '256, 257, 259, 263', 'type': 'BIKE', 'streetName': 'Carrer de Palomar', 'bikes': '13', 'latitude': '41.442013', 'status': 'OPN', 'id': '258', 'longitude': '2.189101'}, {'altitude': '25', 'slots': '16', 'streetNumber': '14', 'nearbyStations': '256, 257, 258, 267', 'type': 'BIKE', 'streetName': 'Carrer de Bartrina', 'bikes': '7', 'latitude': '41.439109', 'status': 'OPN', 'id': '259', 'longitude': '2.185818'}, {'altitude': '19', 'slots': '0', 'streetNumber': '6', 'nearbyStations': '256, 257, 263, 264', 'type': 'BIKE', 'streetName': \"Plaça de l'Estació\", 'bikes': '27', 'latitude': '41.43618', 'status': 'OPN', 'id': '260', 'longitude': '2.192952'}, {'altitude': '35', 'slots': '9', 'streetNumber': '39', 'nearbyStations': '70, 71, 84, 90', 'type': 'BIKE', 'streetName': 'Villarroel', 'bikes': '16', 'latitude': '41.382206', 'status': 'OPN', 'id': '261', 'longitude': '2.160644'}, {'altitude': '40', 'slots': '23', 'streetNumber': '103', 'nearbyStations': '81, 82, 111, 191', 'type': 'BIKE', 'streetName': 'Rocafort', 'bikes': '8', 'latitude': '41.379821', 'status': 'OPN', 'id': '262', 'longitude': '2.152496'}, {'altitude': '25', 'slots': '0', 'streetNumber': '28', 'nearbyStations': '256, 257, 260, 264', 'type': 'BIKE', 'streetName': 'C\\\\/Joan Torras', 'bikes': '26', 'latitude': '41.437656', 'status': 'OPN', 'id': '263', 'longitude': '2.191386'}, {'altitude': '19', 'slots': '23', 'streetNumber': '25', 'nearbyStations': '263, 267, 268, 344', 'type': 'BIKE', 'streetName': 'República Dominicana', 'bikes': '9', 'latitude': '41.439949', 'status': 'OPN', 'id': '264', 'longitude': '2.197033'}, {'altitude': '41', 'slots': '15', 'streetNumber': '82', 'nearbyStations': '80, 84, 110, 209', 'type': 'BIKE', 'streetName': 'Casanovas, 71', 'bikes': '11', 'latitude': '41.38566', 'status': 'OPN', 'id': '265', 'longitude': '2.15837'}, {'altitude': '37', 'slots': '24', 'streetNumber': '176', 'nearbyStations': '263, 264, 268, 344', 'type': 'BIKE', 'streetName': 'Concepció Arenal', 'bikes': '2', 'latitude': '41.426841', 'status': 'OPN', 'id': '266', 'longitude': '2.184238'}, {'altitude': '24', 'slots': '0', 'streetNumber': '129', 'nearbyStations': '258, 263, 264, 268', 'type': 'BIKE', 'streetName': 'Passeig Torras i Bages', 'bikes': '24', 'latitude': '41.443395', 'status': 'OPN', 'id': '267', 'longitude': '2.190623'}, {'altitude': '23', 'slots': '10', 'streetNumber': '72', 'nearbyStations': '263, 264, 267, 271', 'type': 'BIKE', 'streetName': 'Fernando Pessoa', 'bikes': '14', 'latitude': '41.445705', 'status': 'OPN', 'id': '268', 'longitude': '2.192892'}, {'altitude': '23', 'slots': '16', 'streetNumber': '121', 'nearbyStations': '264, 268, 270, 271', 'type': 'BIKE', 'streetName': 'Via Barcino', 'bikes': '9', 'latitude': '41.448128', 'status': 'OPN', 'id': '269', 'longitude': '2.192826'}, {'altitude': '24', 'slots': '10', 'streetNumber': '5', 'nearbyStations': '267, 268, 269, 271', 'type': 'BIKE', 'streetName': 'Pl. de la Trinitat, 5-7 \\\\/ amb Mare de Déu de Lorda', 'bikes': '15', 'latitude': '41.449874', 'status': 'OPN', 'id': '270', 'longitude': '2.190978'}, {'altitude': '18', 'slots': '15', 'streetNumber': '71', 'nearbyStations': '267, 268, 269, 270', 'type': 'BIKE', 'streetName': 'Via Barcino', 'bikes': '4', 'latitude': '41.450882', 'status': 'OPN', 'id': '271', 'longitude': '2.192668'}, {'altitude': '27', 'slots': '9', 'streetNumber': '281', 'nearbyStations': '255, 273, 274, 298', 'type': 'BIKE', 'streetName': 'Concepció Arenal', 'bikes': '17', 'latitude': '41.432552', 'status': 'OPN', 'id': '272', 'longitude': '2.18429'}, {'altitude': '27', 'slots': '24', 'streetNumber': '404', 'nearbyStations': '255, 272, 274, 275', 'type': 'BIKE', 'streetName': 'Avda. Meridiana', 'bikes': '9', 'latitude': '41.430404', 'status': 'OPN', 'id': '273', 'longitude': '2.183382'}, {'altitude': '27', 'slots': '19', 'streetNumber': '67', 'nearbyStations': '254, 255, 272, 273', 'type': 'BIKE', 'streetName': 'Rambla Fabra i Puig', 'bikes': '13', 'latitude': '41.430071', 'status': 'OPN', 'id': '274', 'longitude': '2.18473'}, {'altitude': '27', 'slots': '25', 'streetNumber': '3', 'nearbyStations': '272, 273, 274, 298', 'type': 'BIKE', 'streetName': 'Rio de Janeiro', 'bikes': '7', 'latitude': '41.430693', 'status': 'OPN', 'id': '275', 'longitude': '2.182225'}, {'altitude': '87', 'slots': '11', 'streetNumber': '', 'nearbyStations': '231, 277, 278, 318', 'type': 'BIKE', 'streetName': 'Plaça Alfons X el Savi \\\\/ Ronda del Guinardó ', 'bikes': '15', 'latitude': '41.412163', 'status': 'OPN', 'id': '276', 'longitude': '2.165275'}, {'altitude': '59', 'slots': '9', 'streetNumber': '373', 'nearbyStations': '28, 122, 123, 231', 'type': 'BIKE', 'streetName': 'Travessera de Gràcia', 'bikes': '18', 'latitude': '41.408436', 'status': 'OPN', 'id': '277', 'longitude': '2.169074'}, {'altitude': '59', 'slots': '11', 'streetNumber': '41', 'nearbyStations': '20, 21, 28, 277', 'type': 'BIKE', 'streetName': 'Rosalia de Castro', 'bikes': '13', 'latitude': '41.411503', 'status': 'OPN', 'id': '278', 'longitude': '2.172073'}, {'altitude': '72', 'slots': '7', 'streetNumber': '118', 'nearbyStations': '278, 280, 281, 318', 'type': 'BIKE', 'streetName': 'Ronda Guinardo', 'bikes': '19', 'latitude': '41.416658', 'status': 'OPN', 'id': '279', 'longitude': '2.174593'}, {'altitude': '33', 'slots': '18', 'streetNumber': '241', 'nearbyStations': '20, 21, 164, 239', 'type': 'BIKE', 'streetName': 'Industria ', 'bikes': '8', 'latitude': '41.412804', 'status': 'OPN', 'id': '280', 'longitude': '2.17853'}, {'altitude': '37', 'slots': '13', 'streetNumber': '179', 'nearbyStations': '241, 242, 243, 279', 'type': 'BIKE', 'streetName': 'Ronda Guinardo', 'bikes': '13', 'latitude': '41.419384', 'status': 'OPN', 'id': '281', 'longitude': '2.176524'}, {'altitude': '88', 'slots': '18', 'streetNumber': '1', 'nearbyStations': '291, 292, 293, 295', 'type': 'BIKE', 'streetName': \"Font d'en Fargas\", 'bikes': '4', 'latitude': '41.427561', 'status': 'OPN', 'id': '282', 'longitude': '2.166022'}, {'altitude': '88', 'slots': '19', 'streetNumber': '1', 'nearbyStations': '282, 291, 292, 293', 'type': 'BIKE', 'streetName': 'Carrer Fulton', 'bikes': '0', 'latitude': '41.42968', 'status': 'OPN', 'id': '283', 'longitude': '2.16157'}, {'altitude': '60', 'slots': '21', 'streetNumber': '652', 'nearbyStations': '203, 205, 206, 212', 'type': 'BIKE', 'streetName': 'Ada. Diagonal', 'bikes': '3', 'latitude': '41.389503', 'status': 'OPN', 'id': '284', 'longitude': '2.131454'}, {'altitude': '25', 'slots': '12', 'streetNumber': '98', 'nearbyStations': '256, 257, 259, 272', 'type': 'BIKE', 'streetName': 'Malats', 'bikes': '12', 'latitude': '41.436708', 'status': 'OPN', 'id': '285', 'longitude': '2.186059'}, {'altitude': '18', 'slots': '4', 'streetNumber': '76', 'nearbyStations': '42, 44, 142, 143', 'type': 'BIKE', 'streetName': 'Bolívia', 'bikes': '17', 'latitude': '41.403103', 'status': 'OPN', 'id': '286', 'longitude': '2.191428'}, {'altitude': '32', 'slots': '6', 'streetNumber': '632', 'nearbyStations': '61, 64, 66, 406', 'type': 'BIKE', 'streetName': 'Gran Via', 'bikes': '9', 'latitude': '41.389171', 'status': 'OPN', 'id': '287', 'longitude': '2.168113'}, {'altitude': '63', 'slots': '28', 'streetNumber': '', 'nearbyStations': '244, 291, 292, 293', 'type': 'BIKE', 'streetName': 'Pl. Virrei Amat', 'bikes': '3', 'latitude': '41.429636', 'status': 'OPN', 'id': '288', 'longitude': '2.174487'}, {'altitude': '18', 'slots': '0', 'streetNumber': '64', 'nearbyStations': '127, 238, 240, 248', 'type': 'BIKE', 'streetName': 'Múrcia', 'bikes': '25', 'latitude': '41.416828', 'status': 'OPN', 'id': '289', 'longitude': '2.191022'}, {'altitude': '61', 'slots': '16', 'streetNumber': '1', 'nearbyStations': '294, 295, 299, 301', 'type': 'BIKE', 'streetName': \"Plaça dels Jardins d'Alfàbia\", 'bikes': '11', 'latitude': '41.437094', 'status': 'OPN', 'id': '290', 'longitude': '2.174047'}, {'altitude': '63', 'slots': '6', 'streetNumber': '5', 'nearbyStations': '242, 244, 282, 292', 'type': 'BIKE', 'streetName': 'Subirats', 'bikes': '17', 'latitude': '41.426975', 'status': 'OPN', 'id': '291', 'longitude': '2.174598'}, {'altitude': '63', 'slots': '26', 'streetNumber': '1', 'nearbyStations': '282, 291, 293', 'type': 'BIKE', 'streetName': 'Amilcar', 'bikes': '0', 'latitude': '41.430036', 'status': 'OPN', 'id': '292', 'longitude': '2.171974'}, {'altitude': '88', 'slots': '14', 'streetNumber': '44', 'nearbyStations': '282, 291, 292, 295', 'type': 'BIKE', 'streetName': 'Petrarca', 'bikes': '12', 'latitude': '41.428747', 'status': 'OPN', 'id': '293', 'longitude': '2.164559'}, {'altitude': '61', 'slots': '2', 'streetNumber': '', 'nearbyStations': '290, 295, 299, 301', 'type': 'BIKE', 'streetName': 'Seu del Districte (Nou Barris)', 'bikes': '25', 'latitude': '41.436373', 'status': 'OPN', 'id': '294', 'longitude': '2.170678'}, {'altitude': '61', 'slots': '1', 'streetNumber': '60', 'nearbyStations': '282, 292, 294, 301', 'type': 'BIKE', 'streetName': 'Sant Iscle', 'bikes': '26', 'latitude': '41.43345', 'status': 'OPN', 'id': '295', 'longitude': '2.1715'}, {'altitude': '25', 'slots': '0', 'streetNumber': '1', 'nearbyStations': '259, 272, 285, 298', 'type': 'BIKE', 'streetName': 'Carrer de Rosselló i Porcel', 'bikes': '32', 'latitude': '41.436505', 'status': 'OPN', 'id': '296', 'longitude': '2.183877'}, {'altitude': '45', 'slots': '3', 'streetNumber': '1', 'nearbyStations': '290, 296, 298, 299', 'type': 'BIKE', 'streetName': 'Carrer Turó Blau', 'bikes': '20', 'latitude': '41.438864', 'status': 'OPN', 'id': '297', 'longitude': '2.176822'}, {'altitude': '45', 'slots': '11', 'streetNumber': '22', 'nearbyStations': '275, 296', 'type': 'BIKE', 'streetName': 'Andreu Nin', 'bikes': '20', 'latitude': '41.43463', 'status': 'OPN', 'id': '298', 'longitude': '2.181747'}, {'altitude': '45', 'slots': '9', 'streetNumber': '55', 'nearbyStations': '294, 295, 297, 301', 'type': 'BIKE', 'streetName': \"Carrer de l'Escultor Ordóñez\", 'bikes': '16', 'latitude': '41.433965', 'status': 'OPN', 'id': '299', 'longitude': '2.175199'}, {'altitude': '47', 'slots': '21', 'streetNumber': '1', 'nearbyStations': '275, 298, 299, 301', 'type': 'BIKE', 'streetName': 'Carrer de Maladeta', 'bikes': '0', 'latitude': '41.431593', 'status': 'CLS', 'id': '300', 'longitude': '2.176909'}, {'altitude': '61', 'slots': '8', 'streetNumber': '8', 'nearbyStations': '290, 294, 295, 299', 'type': 'BIKE', 'streetName': 'Marie Curie', 'bikes': '16', 'latitude': '41.437053', 'status': 'OPN', 'id': '301', 'longitude': '2.169644'}, {'altitude': '73', 'slots': '1', 'streetNumber': '41', 'nearbyStations': '303, 304, 335, 336', 'type': 'BIKE', 'streetName': 'Cavallers', 'bikes': '0', 'latitude': '41.39065', 'status': 'OPN', 'id': '302', 'longitude': '2.111615'}, {'altitude': '101', 'slots': '14', 'streetNumber': '66', 'nearbyStations': '302, 304, 335, 336', 'type': 'BIKE', 'streetName': 'Cavallers', 'bikes': '11', 'latitude': '41.393075', 'status': 'OPN', 'id': '303', 'longitude': '2.114875'}, {'altitude': '63', 'slots': '13', 'streetNumber': '15', 'nearbyStations': '203, 204, 305, 335', 'type': 'BIKE', 'streetName': 'Jiménez Iglesias', 'bikes': '19', 'latitude': '41.38989', 'status': 'OPN', 'id': '304', 'longitude': '2.12188'}, {'altitude': '63', 'slots': '1', 'streetNumber': '680', 'nearbyStations': '203, 204, 305, 306', 'type': 'BIKE', 'streetName': 'Diagonal', 'bikes': '22', 'latitude': '41.387498', 'status': 'OPN', 'id': '305', 'longitude': '2.123637'}, {'altitude': '63', 'slots': '8', 'streetNumber': '7', 'nearbyStations': '199, 204, 305, 310', 'type': 'BIKE', 'streetName': 'Doctor Salvador Cardenal', 'bikes': '23', 'latitude': '41.385465', 'status': 'OPN', 'id': '306', 'longitude': '2.122912'}, {'altitude': '50', 'slots': '21', 'streetNumber': '', 'nearbyStations': '308, 309, 310, 311', 'type': 'BIKE', 'streetName': 'Pintor Ribalta', 'bikes': '11', 'latitude': '41.379135', 'status': 'OPN', 'id': '307', 'longitude': '2.113505'}, {'altitude': '50', 'slots': '11', 'streetNumber': '11', 'nearbyStations': '307, 309, 310, 311', 'type': 'BIKE', 'streetName': 'Cardenal Reig', 'bikes': '15', 'latitude': '41.376788', 'status': 'OPN', 'id': '308', 'longitude': '2.113864'}, {'altitude': '47', 'slots': '14', 'streetNumber': '26', 'nearbyStations': '307, 308, 310, 311', 'type': 'BIKE', 'streetName': 'Sant Ramón Nonat', 'bikes': '9', 'latitude': '41.37674', 'status': 'OPN', 'id': '309', 'longitude': '2.116973'}, {'altitude': '47', 'slots': '21', 'streetNumber': '', 'nearbyStations': '306, 307, 309, 311', 'type': 'BIKE', 'streetName': 'Josep Samitier', 'bikes': '3', 'latitude': '41.381223', 'status': 'OPN', 'id': '310', 'longitude': '2.119077'}, {'altitude': '47', 'slots': '10', 'streetNumber': '58', 'nearbyStations': '307, 308, 310, 312', 'type': 'BIKE', 'streetName': 'Travessera de les Corts', 'bikes': '14', 'latitude': '41.378172', 'status': 'OPN', 'id': '311', 'longitude': '2.121826'}, {'altitude': '46', 'slots': '22', 'streetNumber': '2', 'nearbyStations': '193, 199, 311, 353', 'type': 'BIKE', 'streetName': 'Felipe de Paz', 'bikes': '11', 'latitude': '41.379816', 'status': 'OPN', 'id': '312', 'longitude': '2.126588'}, {'altitude': '39', 'slots': '10', 'streetNumber': '38', 'nearbyStations': '185, 188, 314, 354', 'type': 'BIKE', 'streetName': 'Cáceres', 'bikes': '17', 'latitude': '41.374558', 'status': 'OPN', 'id': '313', 'longitude': '2.131016'}, {'altitude': '46', 'slots': '8', 'streetNumber': '44', 'nearbyStations': '192, 193, 313, 354', 'type': 'BIKE', 'streetName': 'Rambla del Brasil', 'bikes': '18', 'latitude': '41.37836', 'status': 'OPN', 'id': '314', 'longitude': '2.129737'}, {'altitude': '33', 'slots': '2', 'streetNumber': '32', 'nearbyStations': '177, 239, 241, 280', 'type': 'BIKE', 'streetName': 'Guinardó', 'bikes': '25', 'latitude': '41.415617', 'status': 'OPN', 'id': '315', 'longitude': '2.181966'}, {'altitude': '13', 'slots': '3', 'streetNumber': '55', 'nearbyStations': '128, 130, 131, 317', 'type': 'BIKE', 'streetName': 'Cantàbria', 'bikes': '22', 'latitude': '41.422212', 'status': 'OPN', 'id': '316', 'longitude': '2.198316'}, {'altitude': '12', 'slots': '25', 'streetNumber': '256', 'nearbyStations': '130, 131, 316, 391', 'type': 'BIKE', 'streetName': 'Rambla Prim', 'bikes': '1', 'latitude': '41.425566', 'status': 'OPN', 'id': '317', 'longitude': '2.200693'}, {'altitude': '59', 'slots': '5', 'streetNumber': '83', 'nearbyStations': '21, 276, 278, 279', 'type': 'BIKE', 'streetName': 'Ronda Guinardo', 'bikes': '0', 'latitude': '41.414076', 'status': 'OPN', 'id': '318', 'longitude': '2.170838'}, {'altitude': '69', 'slots': '14', 'streetNumber': '23', 'nearbyStations': '101, 102, 216, 219', 'type': 'BIKE', 'streetName': 'Amigó', 'bikes': '18', 'latitude': '41.39472', 'status': 'OPN', 'id': '319', 'longitude': '2.145161'}, {'altitude': '86', 'slots': '20', 'streetNumber': '21', 'nearbyStations': '217, 221, 230, 321', 'type': 'BIKE', 'streetName': 'Gleva', 'bikes': '5', 'latitude': '41.403384', 'status': 'OPN', 'id': '320', 'longitude': '2.145875'}, {'altitude': '86', 'slots': '19', 'streetNumber': '98', 'nearbyStations': '217, 230, 322, 326', 'type': 'BIKE', 'streetName': 'Carrer de Pádua', 'bikes': '3', 'latitude': '41.404038', 'status': 'OPN', 'id': '321', 'longitude': '2.143648'}, {'altitude': '106', 'slots': '26', 'streetNumber': '165', 'nearbyStations': '217, 323, 324, 328', 'type': 'BIKE', 'streetName': 'Santaló', 'bikes': '0', 'latitude': '41.400977', 'status': 'OPN', 'id': '322', 'longitude': '2.13907'}, {'altitude': '79', 'slots': '4', 'streetNumber': '13', 'nearbyStations': '214, 215, 217, 324', 'type': 'BIKE', 'streetName': 'Vallmajor', 'bikes': '20', 'latitude': '41.397996', 'status': 'OPN', 'id': '323', 'longitude': '2.138717'}, {'altitude': '79', 'slots': '15', 'streetNumber': '31', 'nearbyStations': '214, 215, 322, 323', 'type': 'BIKE', 'streetName': 'Reina Victoria', 'bikes': '12', 'latitude': '41.396938', 'status': 'OPN', 'id': '324', 'longitude': '2.136258'}, {'altitude': '82', 'slots': '21', 'streetNumber': '13', 'nearbyStations': '212, 214, 331, 333', 'type': 'BIKE', 'streetName': 'Alt de Gironella', 'bikes': '3', 'latitude': '41.39493', 'status': 'OPN', 'id': '325', 'longitude': '2.130325'}, {'altitude': '106', 'slots': '17', 'streetNumber': '16', 'nearbyStations': '321, 327, 328, 330', 'type': 'BIKE', 'streetName': 'Castanyer', 'bikes': '15', 'latitude': '41.406983', 'status': 'OPN', 'id': '326', 'longitude': '2.137742'}, {'altitude': '106', 'slots': '7', 'streetNumber': '23', 'nearbyStations': '321, 322, 326, 328', 'type': 'BIKE', 'streetName': 'Reus', 'bikes': '12', 'latitude': '41.405', 'status': 'OPN', 'id': '327', 'longitude': '2.13453'}, {'altitude': '106', 'slots': '18', 'streetNumber': '2', 'nearbyStations': '321, 322, 327, 329', 'type': 'BIKE', 'streetName': 'Artesa de Segre', 'bikes': '5', 'latitude': '41.40293', 'status': 'OPN', 'id': '328', 'longitude': '2.13427'}, {'altitude': '130', 'slots': '3', 'streetNumber': '99', 'nearbyStations': '327, 328, 330, 332', 'type': 'BIKE', 'streetName': 'Carrer de les Escoles Pies', 'bikes': '23', 'latitude': '41.402879', 'status': 'OPN', 'id': '329', 'longitude': '2.128541'}, {'altitude': '130', 'slots': '24', 'streetNumber': '44', 'nearbyStations': '328, 329, 331, 332', 'type': 'BIKE', 'streetName': 'Doctor Carulla', 'bikes': '3', 'latitude': '41.400587', 'status': 'OPN', 'id': '330', 'longitude': '2.130658'}, {'altitude': '82', 'slots': '29', 'streetNumber': '65', 'nearbyStations': '325, 332, 333, 335', 'type': 'BIKE', 'streetName': 'Castellnou', 'bikes': '2', 'latitude': '41.39706', 'status': 'OPN', 'id': '331', 'longitude': '2.12801'}, {'altitude': '82', 'slots': '24', 'streetNumber': '86', 'nearbyStations': '329, 330, 331, 333', 'type': 'BIKE', 'streetName': 'Doctor Roux', 'bikes': '2', 'latitude': '41.399822', 'status': 'OPN', 'id': '332', 'longitude': '2.12809'}, {'altitude': '82', 'slots': '25', 'streetNumber': '3', 'nearbyStations': '325, 331, 335, 336', 'type': 'BIKE', 'streetName': 'Passatge de Senillosa', 'bikes': '0', 'latitude': '41.395632', 'status': 'OPN', 'id': '333', 'longitude': '2.125106'}, {'altitude': '138', 'slots': '5', 'streetNumber': '348', 'nearbyStations': '331, 332, 337, 338', 'type': 'BIKE', 'streetName': 'Via Augusta', 'bikes': '22', 'latitude': '41.400722', 'status': 'OPN', 'id': '334', 'longitude': '2.123268'}, {'altitude': '96', 'slots': '17', 'streetNumber': '2', 'nearbyStations': '212, 304, 333, 336', 'type': 'BIKE', 'streetName': 'Santa Amèlia', 'bikes': '9', 'latitude': '41.393639', 'status': 'OPN', 'id': '335', 'longitude': '2.123224'}, {'altitude': '96', 'slots': '24', 'streetNumber': '10', 'nearbyStations': '333, 335, 337, 338', 'type': 'BIKE', 'streetName': 'Caponata', 'bikes': '0', 'latitude': '41.395274', 'status': 'OPN', 'id': '336', 'longitude': '2.120973'}, {'altitude': '96', 'slots': '20', 'streetNumber': '12', 'nearbyStations': '333, 334, 336, 338', 'type': 'BIKE', 'streetName': 'Carme Karr', 'bikes': '1', 'latitude': '41.398719', 'status': 'OPN', 'id': '337', 'longitude': '2.120422'}, {'altitude': '96', 'slots': '9', 'streetNumber': '63', 'nearbyStations': '333, 334, 336, 337', 'type': 'BIKE', 'streetName': 'Avinguda de J.Foix', 'bikes': '22', 'latitude': '41.397572', 'status': 'OPN', 'id': '338', 'longitude': '2.119506'}, {'altitude': '10', 'slots': '26', 'streetNumber': '51', 'nearbyStations': '153, 154, 165, 382', 'type': 'BIKE', 'streetName': 'Bilbao', 'bikes': '0', 'latitude': '41.4026', 'status': 'OPN', 'id': '339', 'longitude': '2.2037'}, {'altitude': '28', 'slots': '18', 'streetNumber': '113', 'nearbyStations': '264, 341, 343, 344', 'type': 'BIKE', 'streetName': 'Sant Adrià', 'bikes': '6', 'latitude': '41.436145', 'status': 'OPN', 'id': '340', 'longitude': '2.204634'}, {'altitude': '28', 'slots': '25', 'streetNumber': '33', 'nearbyStations': '264, 340, 343, 344', 'type': 'BIKE', 'streetName': 'Passeig Enric Sanchís', 'bikes': '1', 'latitude': '41.434191', 'status': 'OPN', 'id': '341', 'longitude': '2.205886'}, {'altitude': '18', 'slots': '16', 'streetNumber': '134', 'nearbyStations': '142, 152, 153, 393, 428', 'type': 'BIKE', 'streetName': 'Roc Boronat', 'bikes': '9', 'latitude': '41.403502', 'status': 'OPN', 'id': '342', 'longitude': '2.193702'}, {'altitude': '19', 'slots': '14', 'streetNumber': '', 'nearbyStations': '260, 264, 340, 344', 'type': 'BIKE', 'streetName': 'Campana de la Maquinista', 'bikes': '12', 'latitude': '41.438886', 'status': 'OPN', 'id': '343', 'longitude': '2.199598'}, {'altitude': '23', 'slots': '20', 'streetNumber': '73', 'nearbyStations': '260, 263, 264, 343', 'type': 'BIKE', 'streetName': \"Ciutat d'Asunción\", 'bikes': '4', 'latitude': '41.443127', 'status': 'OPN', 'id': '344', 'longitude': '2.199538'}, {'altitude': '48', 'slots': '30', 'streetNumber': '', 'nearbyStations': '179, 180, 346, 351', 'type': 'BIKE', 'streetName': 'Pl. Teresa de Claramunt', 'bikes': '0', 'latitude': '41.363093', 'status': 'OPN', 'id': '345', 'longitude': '2.139771'}, {'altitude': '48', 'slots': '27', 'streetNumber': '33', 'nearbyStations': '345, 347, 348, 349', 'type': 'BIKE', 'streetName': 'Carrer de la Foneria', 'bikes': '5', 'latitude': '41.360654', 'status': 'OPN', 'id': '346', 'longitude': '2.139132'}, {'altitude': '34', 'slots': '17', 'streetNumber': '235', 'nearbyStations': '345, 346, 348, 349', 'type': 'BIKE', 'streetName': 'Mare de Déu dels Ports', 'bikes': '15', 'latitude': '41.358255', 'status': 'OPN', 'id': '347', 'longitude': '2.143401'}, {'altitude': '13', 'slots': '22', 'streetNumber': '', 'nearbyStations': '345, 346, 347, 349', 'type': 'BIKE', 'streetName': 'Jardins de Can Ferrero', 'bikes': '11', 'latitude': '41.357067', 'status': 'OPN', 'id': '348', 'longitude': '2.141563'}, {'altitude': '13', 'slots': '24', 'streetNumber': '2', 'nearbyStations': '345, 347, 348, 351', 'type': 'BIKE', 'streetName': \"Carrer de l'Energia\", 'bikes': '9', 'latitude': '41.357338', 'status': 'OPN', 'id': '349', 'longitude': '2.137172'}, {'altitude': '69', 'slots': '17', 'streetNumber': '208', 'nearbyStations': '88, 90, 101, 109', 'type': 'BIKE', 'streetName': 'Villarroel', 'bikes': '16', 'latitude': '41.391833', 'status': 'OPN', 'id': '350', 'longitude': '2.14812'}, {'altitude': '48', 'slots': '13', 'streetNumber': '26', 'nearbyStations': '179, 345, 352, 404', 'type': 'BIKE', 'streetName': 'Jane Addams', 'bikes': '19', 'latitude': '41.362135', 'status': 'OPN', 'id': '351', 'longitude': '2.135637'}, {'altitude': '48', 'slots': '15', 'streetNumber': '10', 'nearbyStations': '179, 346, 351, 404', 'type': 'BIKE', 'streetName': 'Radi', 'bikes': '17', 'latitude': '41.36335', 'status': 'OPN', 'id': '352', 'longitude': '2.134144'}, {'altitude': '47', 'slots': '13', 'streetNumber': '6', 'nearbyStations': '309, 311, 314, 354', 'type': 'BIKE', 'streetName': 'Munné', 'bikes': '11', 'latitude': '41.375414', 'status': 'OPN', 'id': '353', 'longitude': '2.123191'}, {'altitude': '46', 'slots': '23', 'streetNumber': '5', 'nearbyStations': '188, 312, 313, 314', 'type': 'BIKE', 'streetName': 'Rambla del Brasil', 'bikes': '0', 'latitude': '41.37592', 'status': 'OPN', 'id': '354', 'longitude': '2.13008'}, {'altitude': '39', 'slots': '18', 'streetNumber': '89', 'nearbyStations': '184, 313, 353, 354', 'type': 'BIKE', 'streetName': 'Carreras i Candi', 'bikes': '8', 'latitude': '41.37211', 'status': 'OPN', 'id': '355', 'longitude': '2.12859'}, {'altitude': '87', 'slots': '19', 'streetNumber': '48', 'nearbyStations': '227, 231, 276, 357', 'type': 'BIKE', 'streetName': 'Balcells', 'bikes': '8', 'latitude': '41.411067', 'status': 'OPN', 'id': '356', 'longitude': '2.16107'}, {'altitude': '104', 'slots': '19', 'streetNumber': '82', 'nearbyStations': '227, 228, 231, 356', 'type': 'BIKE', 'streetName': 'Cardener', 'bikes': '7', 'latitude': '41.410538', 'status': 'OPN', 'id': '357', 'longitude': '2.1581'}, {'altitude': '16', 'slots': '2', 'streetNumber': '24', 'nearbyStations': '34, 35, 36, 390', 'type': 'BIKE', 'streetName': 'Gombau', 'bikes': '21', 'latitude': '41.387225', 'status': 'OPN', 'id': '358', 'longitude': '2.17927'}, {'altitude': '16', 'slots': '6', 'streetNumber': '16', 'nearbyStations': '5, 358, 362, 363', 'type': 'BIKE', 'streetName': 'Méndez Núñez', 'bikes': '17', 'latitude': '41.390021', 'status': 'OPN', 'id': '359', 'longitude': '2.177572'}, {'altitude': '42', 'slots': '7', 'streetNumber': '62', 'nearbyStations': '15, 23, 362, 413', 'type': 'BIKE', 'streetName': 'Bailén', 'bikes': '21', 'latitude': '41.395213', 'status': 'OPN', 'id': '360', 'longitude': '2.172984'}, {'altitude': '5', 'slots': '25', 'streetNumber': '', 'nearbyStations': '56, 57, 376, 410', 'type': 'BIKE', 'streetName': 'Passeig de Colom', 'bikes': '6', 'latitude': '41.376292', 'status': 'OPN', 'id': '361', 'longitude': '2.178553'}, {'altitude': '42', 'slots': '18', 'streetNumber': '100', 'nearbyStations': '15, 22, 123, 360', 'type': 'BIKE', 'streetName': 'Bailén', 'bikes': '13', 'latitude': '41.397006', 'status': 'OPN', 'id': '362', 'longitude': '2.17057'}, {'altitude': '32', 'slots': '13', 'streetNumber': '20', 'nearbyStations': '23, 34, 105, 359, 412', 'type': 'BIKE', 'streetName': 'Bruc', 'bikes': '14', 'latitude': '41.39076', 'status': 'OPN', 'id': '363', 'longitude': '2.1744'}, {'altitude': '50', 'slots': '8', 'streetNumber': '61', 'nearbyStations': '60, 72, 92, 374', 'type': 'BIKE', 'streetName': 'Passeig de Gràcia', 'bikes': '22', 'latitude': '41.39324', 'status': 'OPN', 'id': '364', 'longitude': '2.16343'}, {'altitude': '51', 'slots': '24', 'streetNumber': '244', 'nearbyStations': '67, 75, 89, 109', 'type': 'BIKE', 'streetName': 'Viladomat', 'bikes': '9', 'latitude': '41.387499', 'status': 'OPN', 'id': '365', 'longitude': '2.14702'}, {'altitude': '69', 'slots': '30', 'streetNumber': '49', 'nearbyStations': '74, 101, 102, 208', 'type': 'BIKE', 'streetName': 'Loreto', 'bikes': '0', 'latitude': '41.39174', 'status': 'OPN', 'id': '366', 'longitude': '2.142613'}, {'altitude': '57', 'slots': '30', 'streetNumber': '96', 'nearbyStations': '75, 196, 197, 201', 'type': 'BIKE', 'streetName': 'Nicaragua', 'bikes': '0', 'latitude': '41.385482', 'status': 'OPN', 'id': '367', 'longitude': '2.138645'}, {'altitude': '21', 'slots': '19', 'streetNumber': '350', 'nearbyStations': '1, 360, 362, 387', 'type': 'BIKE', 'streetName': 'Diputació', 'bikes': '5', 'latitude': '41.396815', 'status': 'OPN', 'id': '368', 'longitude': '2.175714'}, {'altitude': '28', 'slots': '7', 'streetNumber': '513', 'nearbyStations': '1, 22, 24, 30', 'type': 'BIKE', 'streetName': 'Consell de Cent', 'bikes': '20', 'latitude': '41.400828', 'status': 'OPN', 'id': '369', 'longitude': '2.1786'}, {'altitude': '49', 'slots': '0', 'streetNumber': '234', 'nearbyStations': '18, 19, 22, 120', 'type': 'BIKE', 'streetName': 'Sardenya', 'bikes': '23', 'latitude': '41.403735', 'status': 'OPN', 'id': '370', 'longitude': '2.172987'}, {'altitude': '28', 'slots': '29', 'streetNumber': '49', 'nearbyStations': '26, 30, 218, 369', 'type': 'BIKE', 'streetName': 'Carrer dels Enamorats', 'bikes': '4', 'latitude': '41.404027', 'status': 'OPN', 'id': '371', 'longitude': '2.181264'}, {'altitude': '18', 'slots': '23', 'streetNumber': '159', 'nearbyStations': '1, 16, 119, 426', 'type': 'BIKE', 'streetName': 'Padilla', 'bikes': '4', 'latitude': '41.39999', 'status': 'OPN', 'id': '372', 'longitude': '2.184507'}, {'altitude': '35', 'slots': '17', 'streetNumber': '132', 'nearbyStations': '85, 86, 113, 235', 'type': 'BIKE', 'streetName': 'Av. Paral.lel', 'bikes': '19', 'latitude': '41.375073', 'status': 'OPN', 'id': '373', 'longitude': '2.161305'}, {'altitude': '50', 'slots': '11', 'streetNumber': '89', 'nearbyStations': '27, 68, 72, 92', 'type': 'BIKE', 'streetName': 'Passeig de Gràcia', 'bikes': '21', 'latitude': '41.395', 'status': 'OPN', 'id': '374', 'longitude': '2.16123'}, {'altitude': '1', 'slots': '13', 'streetNumber': '', 'nearbyStations': '56, 57, 114, 376, 410', 'type': 'BIKE', 'streetName': 'World Trade Center', 'bikes': '13', 'latitude': '41.372154', 'status': 'OPN', 'id': '375', 'longitude': '2.180701'}, {'altitude': '1', 'slots': '25', 'streetNumber': '', 'nearbyStations': '56, 57, 361, 375, 378', 'type': 'BIKE', 'streetName': 'World Trade Center', 'bikes': '2', 'latitude': '41.371663', 'status': 'OPN', 'id': '376', 'longitude': '2.180302'}, {'altitude': '1', 'slots': '23', 'streetNumber': '', 'nearbyStations': '37, 38, 126, 402', 'type': 'BIKE', 'streetName': 'Pl. Ictíneo', 'bikes': '6', 'latitude': '41.37747', 'status': 'OPN', 'id': '377', 'longitude': '2.183737'}, {'altitude': '5', 'slots': '4', 'streetNumber': '1', 'nearbyStations': '56, 57, 114, 425', 'type': 'BIKE', 'streetName': 'Pl.Joaquim Xira i Palau', 'bikes': '16', 'latitude': '41.378516', 'status': 'OPN', 'id': '378', 'longitude': '2.176716'}, {'altitude': '5', 'slots': '10', 'streetNumber': '4', 'nearbyStations': '37, 55, 378, 401', 'type': 'BIKE', 'streetName': 'Pl. Sant Miquel', 'bikes': '4', 'latitude': '41.381709', 'status': 'OPN', 'id': '379', 'longitude': '2.177308'}, {'altitude': '32', 'slots': '8', 'streetNumber': '2', 'nearbyStations': '34, 36, 53, 395', 'type': 'BIKE', 'streetName': 'Duran i Bas', 'bikes': '14', 'latitude': '41.385463', 'status': 'OPN', 'id': '380', 'longitude': '2.174252'}, {'altitude': '24', 'slots': '3', 'streetNumber': '10', 'nearbyStations': '51, 388, 415', 'type': 'BIKE', 'streetName': 'Agustí Duran i Sanpere', 'bikes': '28', 'latitude': '41.381607', 'status': 'OPN', 'id': '381', 'longitude': '2.167667'}, {'altitude': '10', 'slots': '24', 'streetNumber': '79', 'nearbyStations': '150, 154, 155, 162', 'type': 'BIKE', 'streetName': 'Lope de Vega', 'bikes': '1', 'latitude': '41.403938', 'status': 'OPN', 'id': '382', 'longitude': '2.204188'}, {'altitude': '44', 'slots': '26', 'streetNumber': '85', 'nearbyStations': '81, 87, 100, 191', 'type': 'BIKE', 'streetName': 'Vilamarí', 'bikes': '0', 'latitude': '41.380708', 'status': 'OPN', 'id': '384', 'longitude': '2.146793'}, {'altitude': '45', 'slots': '5', 'streetNumber': '119', 'nearbyStations': '76, 89, 90, 110', 'type': 'BIKE', 'streetName': 'Casanova', 'bikes': '24', 'latitude': '41.387978', 'status': 'OPN', 'id': '385', 'longitude': '2.155266'}, {'altitude': '40', 'slots': '13', 'streetNumber': '164', 'nearbyStations': '85, 112, 236, 237', 'type': 'BIKE', 'streetName': 'Av.Paral.lel', 'bikes': '12', 'latitude': '41.375086', 'status': 'OPN', 'id': '386', 'longitude': '2.156848'}, {'altitude': '21', 'slots': '14', 'streetNumber': '125', 'nearbyStations': '1, 3, 119, 414', 'type': 'BIKE', 'streetName': 'Nàpols', 'bikes': '13', 'latitude': '41.395796', 'status': 'OPN', 'id': '387', 'longitude': '2.178784'}, {'altitude': '24', 'slots': '25', 'streetNumber': '6', 'nearbyStations': '54, 148, 381', 'type': 'BIKE', 'streetName': 'Riera Alta', 'bikes': '1', 'latitude': '41.380593', 'status': 'OPN', 'id': '388', 'longitude': '2.167418'}, {'altitude': '11', 'slots': '25', 'streetNumber': '', 'nearbyStations': '6, 14, 47', 'type': 'BIKE', 'streetName': 'Recinte Parc de la Ciutadella', 'bikes': '0', 'latitude': '41.38739', 'status': 'CLS', 'id': '389', 'longitude': '2.1875'}, {'altitude': '16', 'slots': '3', 'streetNumber': '36', 'nearbyStations': '7, 9, 10', 'type': 'BIKE', 'streetName': 'Comerç', 'bikes': '23', 'latitude': '41.386955', 'status': 'OPN', 'id': '390', 'longitude': '2.18195'}, {'altitude': '18', 'slots': '13', 'streetNumber': '74', 'nearbyStations': '238, 248, 289, 423', 'type': 'BIKE', 'streetName': 'Sagrera', 'bikes': '14', 'latitude': '41.422873', 'status': 'OPN', 'id': '391', 'longitude': '2.191204'}, {'altitude': '11', 'slots': '22', 'streetNumber': '5', 'nearbyStations': '45, 47, 409', 'type': 'BIKE', 'streetName': 'Ramon Turró', 'bikes': '10', 'latitude': '41.390704', 'status': 'OPN', 'id': '392', 'longitude': '2.190543'}, {'altitude': '16', 'slots': '12', 'streetNumber': '86', 'nearbyStations': '142, 152, 153, 428', 'type': 'BIKE', 'streetName': 'Llacuna', 'bikes': '16', 'latitude': '41.402177', 'status': 'OPN', 'id': '393', 'longitude': '2.197653'}, {'altitude': '41', 'slots': '15', 'streetNumber': '226', 'nearbyStations': '79, 80, 209', 'type': 'BIKE', 'streetName': 'Diputació', 'bikes': '10', 'latitude': '41.38733', 'status': 'OPN', 'id': '394', 'longitude': '2.16305'}, {'altitude': '32', 'slots': '0', 'streetNumber': '22', 'nearbyStations': '64, 65', 'type': 'BIKE', 'streetName': 'Pl. Catalunya', 'bikes': '30', 'latitude': '41.386009', 'status': 'OPN', 'id': '395', 'longitude': '2.170212'}, {'altitude': '1', 'slots': '30', 'streetNumber': '2', 'nearbyStations': '49, 117, 397, 407', 'type': 'BIKE', 'streetName': 'Joan Miró', 'bikes': '3', 'latitude': '41.389028', 'status': 'OPN', 'id': '396', 'longitude': '2.196844'}, {'altitude': '1', 'slots': '1', 'streetNumber': '24', 'nearbyStations': '69, 117, 170, 172', 'type': 'BIKE', 'streetName': 'Av. Del Litoral', 'bikes': '25', 'latitude': '41.388894', 'status': 'OPN', 'id': '397', 'longitude': '2.199334'}, {'altitude': '0', 'slots': '25', 'streetNumber': '', 'nearbyStations': '11, 12, 124, 424', 'type': 'BIKE', 'streetName': 'Passeig Marítim de la Barceloneta', 'bikes': '1', 'latitude': '41.381011', 'status': 'OPN', 'id': '398', 'longitude': '2.193502'}, {'altitude': '5', 'slots': '6', 'streetNumber': '', 'nearbyStations': '31, 32, 33, 41, 124', 'type': 'BIKE', 'streetName': 'Moll Oriental', 'bikes': '21', 'latitude': '41.36958', 'status': 'OPN', 'id': '400', 'longitude': '2.188017'}, {'altitude': '5', 'slots': '6', 'streetNumber': '', 'nearbyStations': '37, 115, 126, 402', 'type': 'BIKE', 'streetName': 'Pl. Antonio López (Via Laietana) annexa a la 37', 'bikes': '17', 'latitude': '41.381241', 'status': 'OPN', 'id': '401', 'longitude': '2.181838'}, {'altitude': '5', 'slots': '22', 'streetNumber': '', 'nearbyStations': '37, 38, 377, 401', 'type': 'BIKE', 'streetName': 'Passeig de Colom', 'bikes': '1', 'latitude': '41.380565', 'status': 'OPN', 'id': '402', 'longitude': '2.182119'}, {'altitude': '16', 'slots': '6', 'streetNumber': '28', 'nearbyStations': '179, 180, 184, 352', 'type': 'BIKE', 'streetName': 'Juan Gris', 'bikes': '20', 'latitude': '41.365374', 'status': 'OPN', 'id': '404', 'longitude': '2.133087'}, {'altitude': '45', 'slots': '24', 'streetNumber': '198', 'nearbyStations': '83, 87, 110, 225', 'type': 'BIKE', 'streetName': 'Comte Borrell', 'bikes': '2', 'latitude': '41.38551', 'status': 'OPN', 'id': '405', 'longitude': '2.152'}, {'altitude': '41', 'slots': '25', 'streetNumber': '592', 'nearbyStations': '78, 79, 287', 'type': 'BIKE', 'streetName': 'Gran Via de Les Corts Catalanes', 'bikes': '8', 'latitude': '41.386512', 'status': 'OPN', 'id': '406', 'longitude': '2.164597'}, {'altitude': '1', 'slots': '3', 'streetNumber': '19', 'nearbyStations': '46, 47, 69, 392', 'type': 'BIKE', 'streetName': 'Ramon Trias Fargas', 'bikes': '23', 'latitude': '41.388471', 'status': 'OPN', 'id': '407', 'longitude': '2.192835'}, {'altitude': '1', 'slots': '28', 'streetNumber': '11', 'nearbyStations': '46, 47, 392, 409', 'type': 'BIKE', 'streetName': 'Villena, 11', 'bikes': '2', 'latitude': '41.388609', 'status': 'OPN', 'id': '408', 'longitude': '2.19231'}, {'altitude': '11', 'slots': '28', 'streetNumber': '50', 'nearbyStations': '45, 47, 149, 392', 'type': 'BIKE', 'streetName': \"Joan d'Àustria\", 'bikes': '5', 'latitude': '41.392422', 'status': 'OPN', 'id': '409', 'longitude': '2.192417'}, {'altitude': '5', 'slots': '29', 'streetNumber': '', 'nearbyStations': '56, 57, 361, 375', 'type': 'BIKE', 'streetName': 'Passeig de Colom, s\\\\/n', 'bikes': '3', 'latitude': '41.376433', 'status': 'OPN', 'id': '410', 'longitude': '2.17871'}, {'altitude': '32', 'slots': '20', 'streetNumber': '3', 'nearbyStations': '34, 64, 65, 105, 363', 'type': 'BIKE', 'streetName': 'Pl. Urquinaona', 'bikes': '6', 'latitude': '41.389012', 'status': 'OPN', 'id': '412', 'longitude': '2.172667'}, {'altitude': '42', 'slots': '26', 'streetNumber': '66', 'nearbyStations': '15, 23, 25, 360', 'type': 'BIKE', 'streetName': 'Bruc', 'bikes': '1', 'latitude': '41.393512', 'status': 'OPN', 'id': '413', 'longitude': '2.170718'}, {'altitude': '21', 'slots': '7', 'streetNumber': '67', 'nearbyStations': '23, 360, 363, 387', 'type': 'BIKE', 'streetName': 'Casp', 'bikes': '20', 'latitude': '41.393744', 'status': 'OPN', 'id': '414', 'longitude': '2.176451'}, {'altitude': '24', 'slots': '14', 'streetNumber': '13', 'nearbyStations': '54, 187, 388, 416', 'type': 'BIKE', 'streetName': 'Rambla del Raval', 'bikes': '12', 'latitude': '41.379374', 'status': 'OPN', 'id': '415', 'longitude': '2.168921'}, {'altitude': '24', 'slots': '11', 'streetNumber': '20', 'nearbyStations': '54, 187, 388, 415', 'type': 'BIKE', 'streetName': 'Rambla del Raval', 'bikes': '15', 'latitude': '41.378134', 'status': 'OPN', 'id': '416', 'longitude': '2.16965'}, {'altitude': '16', 'slots': '16', 'streetNumber': '', 'nearbyStations': '6, 7, 359, 419', 'type': 'BIKE', 'streetName': 'Passeig de Lluís Companys ', 'bikes': '11', 'latitude': '41.390943', 'status': 'OPN', 'id': '418', 'longitude': '2.180251'}, {'altitude': '16', 'slots': '21', 'streetNumber': '', 'nearbyStations': '4, 6, 8, 418', 'type': 'BIKE', 'streetName': 'Passeig de Lluís Companys', 'bikes': '8', 'latitude': '41.391299', 'status': 'OPN', 'id': '419', 'longitude': '2.180828'}, {'altitude': '61', 'slots': '17', 'streetNumber': '361', 'nearbyStations': '93, 94, 95, 96', 'type': 'BIKE', 'streetName': 'Gran Via', 'bikes': '7', 'latitude': '41.374213', 'status': 'OPN', 'id': '420', 'longitude': '2.148082'}, {'altitude': '45', 'slots': '21', 'streetNumber': '', 'nearbyStations': '98, 100, 188, 210', 'type': 'BIKE', 'streetName': 'Plaça de Joan Peiró', 'bikes': '11', 'latitude': '41.377845', 'status': 'OPN', 'id': '421', 'longitude': '2.13923'}, {'altitude': '18', 'slots': '13', 'streetNumber': '32', 'nearbyStations': '240, 248, 289, 391', 'type': 'BIKE', 'streetName': \"Carrer d'Hondures\", 'bikes': '13', 'latitude': '41.420201', 'status': 'OPN', 'id': '423', 'longitude': '2.189532'}, {'altitude': '0', 'slots': '23', 'streetNumber': '5', 'nearbyStations': '11, 41, 124, 398', 'type': 'BIKE', 'streetName': 'Passeig Marítim de la Barceloneta, devant del 5-7', 'bikes': '2', 'latitude': '41.379632', 'status': 'OPN', 'id': '424', 'longitude': '2.192662'}, {'altitude': '24', 'slots': '8', 'streetNumber': '5', 'nearbyStations': '50, 56, 57, 114', 'type': 'BIKE', 'streetName': 'Carrer de Cervelló', 'bikes': '18', 'latitude': '41.37652', 'status': 'OPN', 'id': '425', 'longitude': '2.1749'}, {'altitude': '21', 'slots': '25', 'streetNumber': '59', 'nearbyStations': '1, 24, 119, 372', 'type': 'BIKE', 'streetName': 'Carrer de Ribes', 'bikes': '7', 'latitude': '41.398305', 'status': 'OPN', 'id': '426', 'longitude': '2.183023'}, {'altitude': '24', 'slots': '16', 'streetNumber': '119', 'nearbyStations': '50, 148, 187, 232', 'type': 'BIKE', 'streetName': 'Carrer de Sant Pau', 'bikes': '3', 'latitude': '41.375336', 'status': 'OPN', 'id': '427', 'longitude': '2.168007'}, {'altitude': '11', 'slots': '6', 'streetNumber': '103', 'nearbyStations': '142, 149, 153, 161', 'type': 'BIKE', 'streetName': 'Carrer Pujades', 'bikes': '18', 'latitude': '41.398389', 'status': 'OPN', 'id': '428', 'longitude': '2.196261'}, {'altitude': '35', 'slots': '6', 'streetNumber': '12', 'nearbyStations': '453, 486', 'type': 'BIKE-ELECTRIC', 'streetName': '(PK) C\\\\/ JAUME FABRA', 'bikes': '6', 'latitude': '41.37445', 'status': 'OPN', 'id': '451', 'longitude': '2.159668'}, {'altitude': '18', 'slots': '5', 'streetNumber': '159', 'nearbyStations': '459, 476', 'type': 'BIKE-ELECTRIC', 'streetName': '(PK) C\\\\/ PADILLA', 'bikes': '5', 'latitude': '41.398747', 'status': 'OPN', 'id': '452', 'longitude': '2.186289'}, {'altitude': '35', 'slots': '4', 'streetNumber': '14', 'nearbyStations': '451, 480', 'type': 'BIKE-ELECTRIC', 'streetName': '(PK) C\\\\/ URGELL', 'bikes': '6', 'latitude': '41.379563', 'status': 'OPN', 'id': '453', 'longitude': '2.16204'}, {'altitude': '18', 'slots': '6', 'streetNumber': '24', 'nearbyStations': '469, 490', 'type': 'BIKE-ELECTRIC', 'streetName': '(PK) C\\\\/ BILBAO', 'bikes': '6', 'latitude': '41.402448', 'status': 'OPN', 'id': '454', 'longitude': '2.204131'}, {'altitude': '1', 'slots': '5', 'streetNumber': '34', 'nearbyStations': '467, 479', 'type': 'BIKE-ELECTRIC', 'streetName': '(PK) AV. DEL LITORAL', 'bikes': '5', 'latitude': '41.388966', 'status': 'OPN', 'id': '455', 'longitude': '2.19917'}, {'altitude': '60', 'slots': '5', 'streetNumber': '2', 'nearbyStations': '458, 470', 'type': 'BIKE-ELECTRIC', 'streetName': '(PK) C\\\\/ DE FLOS I CALCAT', 'bikes': '7', 'latitude': '41.389853', 'status': 'OPN', 'id': '456', 'longitude': '2.128581'}, {'altitude': '106', 'slots': '7', 'streetNumber': '2', 'nearbyStations': '465, 470', 'type': 'BIKE-ELECTRIC', 'streetName': '(PK) C\\\\/ DE JOSEP BALARÍ', 'bikes': '5', 'latitude': '41.401519', 'status': 'OPN', 'id': '457', 'longitude': '2.134235'}, {'altitude': '60', 'slots': '2', 'streetNumber': '23-25', 'nearbyStations': '456, 471', 'type': 'BIKE-ELECTRIC', 'streetName': '(PK) AV. JOAN XXIII', 'bikes': '10', 'latitude': '41.384344', 'status': 'OPN', 'id': '458', 'longitude': '2.122085'}, {'altitude': '21', 'slots': '6', 'streetNumber': '54', 'nearbyStations': '452, 492', 'type': 'BIKE-ELECTRIC', 'streetName': \"(PK) C\\\\/ D'ALÍ BEI\", 'bikes': '6', 'latitude': '41.393941', 'status': 'OPN', 'id': '459', 'longitude': '2.181443'}, {'altitude': '16', 'slots': '9', 'streetNumber': '10', 'nearbyStations': '485, 493', 'type': 'BIKE-ELECTRIC', 'streetName': '(PK) AV. FRANCESC CAMBÓ', 'bikes': '3', 'latitude': '41.385702', 'status': 'OPN', 'id': '460', 'longitude': '2.177316'}, {'altitude': '51', 'slots': '4', 'streetNumber': '46', 'nearbyStations': '452, 481', 'type': 'BIKE-ELECTRIC', 'streetName': '(PK) AV. JOSEP TARRADELLAS', 'bikes': '8', 'latitude': '41.384111', 'status': 'OPN', 'id': '461', 'longitude': '2.14274'}, {'altitude': '51', 'slots': '4', 'streetNumber': '139', 'nearbyStations': '461, 487', 'type': 'BIKE-ELECTRIC', 'streetName': '(PK) AV. JOSEP TARRADELLAS', 'bikes': '6', 'latitude': '41.390125', 'status': 'OPN', 'id': '462', 'longitude': '2.143221'}, {'altitude': '1', 'slots': '6', 'streetNumber': '2', 'nearbyStations': '453, 480', 'type': 'BIKE-ELECTRIC', 'streetName': '(PK) C\\\\/ DE L´ABAT SAFONT', 'bikes': '4', 'latitude': '41.375244', 'status': 'OPN', 'id': '463', 'longitude': '2.169795'}, {'altitude': '42', 'slots': '7', 'streetNumber': '77', 'nearbyStations': '468, 488', 'type': 'BIKE-ELECTRIC', 'streetName': '(PK) C\\\\/ DE RAMON ALBÓ, 77s', 'bikes': '5', 'latitude': '41.427727', 'status': 'OPN', 'id': '464', 'longitude': '2.177205'}, {'altitude': '76', 'slots': '3', 'streetNumber': '203', 'nearbyStations': '457, 472', 'type': 'BIKE-ELECTRIC', 'streetName': '(PK) RDA. DEL GENERAL MITRE', 'bikes': '9', 'latitude': '41.40542', 'status': 'OPN', 'id': '465', 'longitude': '2.142456'}, {'altitude': '33', 'slots': '7', 'streetNumber': '54', 'nearbyStations': '475, 488', 'type': 'BIKE-ELECTRIC', 'streetName': '(PK) PG. MARAGALL', 'bikes': '5', 'latitude': '41.415745', 'status': 'OPN', 'id': '466', 'longitude': '2.180684'}, {'altitude': '1', 'slots': '8', 'streetNumber': '86-88', 'nearbyStations': '455, 479', 'type': 'BIKE-ELECTRIC', 'streetName': '(PK) C\\\\/ DEL DR. AIGUADER', 'bikes': '4', 'latitude': '41.38582', 'status': 'OPN', 'id': '467', 'longitude': '2.194135'}, {'altitude': '27', 'slots': '6', 'streetNumber': '2', 'nearbyStations': '464, 488', 'type': 'BIKE-ELECTRIC', 'streetName': '(PK) C\\\\/ DE LES MONGES', 'bikes': '6', 'latitude': '41.430201', 'status': 'OPN', 'id': '468', 'longitude': '2.187974'}, {'altitude': '32', 'slots': '10', 'streetNumber': '130', 'nearbyStations': '454, 476', 'type': 'BIKE-ELECTRIC', 'streetName': '(PK) RAMBLA DEL POBLENOU', 'bikes': '2', 'latitude': '41.404362', 'status': 'OPN', 'id': '469', 'longitude': '2.197132'}, {'altitude': '82', 'slots': '8', 'streetNumber': '8', 'nearbyStations': '457, 471', 'type': 'BIKE-ELECTRIC', 'streetName': '(PK) C\\\\/ CARDENAL DE SENTMENAT', 'bikes': '4', 'latitude': '41.397921', 'status': 'OPN', 'id': '470', 'longitude': '2.125411'}, {'altitude': '101', 'slots': '7', 'streetNumber': '51', 'nearbyStations': '458, 470', 'type': 'BIKE-ELECTRIC', 'streetName': '(PK) C\\\\/ MARQUÈS DE MULHACÉN', 'bikes': '5', 'latitude': '41.39415', 'status': 'OPN', 'id': '471', 'longitude': '2.114973'}, {'altitude': '72', 'slots': '6', 'streetNumber': '221', 'nearbyStations': '465, 474', 'type': 'BIKE-ELECTRIC', 'streetName': '(PK) C\\\\/ DEL TORRENT DE L´OLLA', 'bikes': '4', 'latitude': '41.407353', 'status': 'OPN', 'id': '472', 'longitude': '2.151341'}, {'altitude': '1', 'slots': '8', 'streetNumber': '71', 'nearbyStations': '454, 482', 'type': 'BIKE-ELECTRIC', 'streetName': '(PK) PG. DE GARCIA FÀRIA', 'bikes': '4', 'latitude': '41.404459', 'status': 'OPN', 'id': '473', 'longitude': '2.214978'}, {'altitude': '59', 'slots': '7', 'streetNumber': '2', 'nearbyStations': '483, 486', 'type': 'BIKE-ELECTRIC', 'streetName': '(PK) PL. GAL·LA PLACÍDIA', 'bikes': '3', 'latitude': '41.3989', 'status': 'OPN', 'id': '474', 'longitude': '2.153668'}, {'altitude': '59', 'slots': '6', 'streetNumber': '345', 'nearbyStations': '483, 496', 'type': 'BIKE-ELECTRIC', 'streetName': '(PK) C\\\\/ DE LA MARINA', 'bikes': '6', 'latitude': '41.408528', 'status': 'OPN', 'id': '475', 'longitude': '2.169385'}, {'altitude': '18', 'slots': '8', 'streetNumber': '168', 'nearbyStations': '452, 469', 'type': 'BIKE-ELECTRIC', 'streetName': '(PK) C\\\\/ DE BADAJOZ', 'bikes': '4', 'latitude': '41.402459', 'status': 'OPN', 'id': '476', 'longitude': '2.19042'}, {'altitude': '1', 'slots': '2', 'streetNumber': '1', 'nearbyStations': '478, 493', 'type': 'BIKE-ELECTRIC', 'streetName': '(PK) PG. DE COLOM', 'bikes': '8', 'latitude': '41.376648', 'status': 'OPN', 'id': '477', 'longitude': '2.178745'}, {'altitude': '1', 'slots': '6', 'streetNumber': '27', 'nearbyStations': '467, 477', 'type': 'BIKE-ELECTRIC', 'streetName': '(PK) C\\\\/ DEL BALUARD', 'bikes': '6', 'latitude': '41.3798', 'status': 'OPN', 'id': '478', 'longitude': '2.1891'}, {'altitude': '1', 'slots': '9', 'streetNumber': '13-17', 'nearbyStations': '455, 467', 'type': 'BIKE-ELECTRIC', 'streetName': '(PK) C\\\\/ DE LA MARINA', 'bikes': '3', 'latitude': '41.387298', 'status': 'OPN', 'id': '479', 'longitude': '2.196595'}, {'altitude': '24', 'slots': '5', 'streetNumber': '8', 'nearbyStations': '463, 493', 'type': 'BIKE-ELECTRIC', 'streetName': '(PK) C\\\\/ DELS FLORISTES DE LA RAMBLA ', 'bikes': '7', 'latitude': '41.381516', 'status': 'OPN', 'id': '480', 'longitude': '2.170239'}, {'altitude': '44', 'slots': '8', 'streetNumber': '77', 'nearbyStations': '461, 495', 'type': 'BIKE-ELECTRIC', 'streetName': '(PK) C\\\\/ DE VALÈNCIA', 'bikes': '4', 'latitude': '41.383036', 'status': 'OPN', 'id': '481', 'longitude': '2.150337'}, {'altitude': '1', 'slots': '10', 'streetNumber': 'SN', 'nearbyStations': '473, 489', 'type': 'BIKE-ELECTRIC', 'streetName': \"(PK) PL. D'ERNEST LLUCH I MARTIN\", 'bikes': '2', 'latitude': '41.41142', 'status': 'OPN', 'id': '482', 'longitude': '2.219812'}, {'altitude': '58', 'slots': '6', 'streetNumber': '39-51', 'nearbyStations': '474, 486', 'type': 'BIKE-ELECTRIC', 'streetName': '(PK) C\\\\/ DE SIRACUSA', 'bikes': '6', 'latitude': '41.401752', 'status': 'OPN', 'id': '483', 'longitude': '2.160748'}, {'altitude': '40', 'slots': '5', 'streetNumber': 'SN', 'nearbyStations': '485, 494', 'type': 'BIKE-ELECTRIC', 'streetName': '(PK) RAMBLA CATALUNYA - RDA. UNIVERSITAT', 'bikes': '7', 'latitude': '41.388101', 'status': 'OPN', 'id': '484', 'longitude': '2.166997'}, {'altitude': '32', 'slots': '4', 'streetNumber': 'SN', 'nearbyStations': '460, 492', 'type': 'BIKE-ELECTRIC', 'streetName': '(PK) PLAÇA URQUINAONA', 'bikes': '5', 'latitude': '41.389914', 'status': 'OPN', 'id': '485', 'longitude': '2.173239'}, {'altitude': '50', 'slots': '8', 'streetNumber': '', 'nearbyStations': '451, 474', 'type': 'BIKE-ELECTRIC', 'streetName': '(PK) PG. DE GRÀCIA - DIAGONAL', 'bikes': '4', 'latitude': '41.396934', 'status': 'OPN', 'id': '486', 'longitude': '2.159445'}, {'altitude': '45', 'slots': '4', 'streetNumber': '', 'nearbyStations': '462, 481', 'type': 'BIKE-ELECTRIC', 'streetName': '(PK) PL. DE FERRER I CAJIGAL', 'bikes': '8', 'latitude': '41.38921', 'status': 'OPN', 'id': '487', 'longitude': '2.154'}, {'altitude': '18', 'slots': '8', 'streetNumber': '13', 'nearbyStations': '464, 468', 'type': 'BIKE-ELECTRIC', 'streetName': '(PK) C\\\\/ DE CIENFUEGOS', 'bikes': '4', 'latitude': '41.423976', 'status': 'OPN', 'id': '488', 'longitude': '2.184391'}, {'altitude': '40', 'slots': '7', 'streetNumber': 'SN', 'nearbyStations': '469, 482', 'type': 'BIKE-ELECTRIC', 'streetName': '(PK) PLAÇA CANONGE RODÓ', 'bikes': '5', 'latitude': '41.409532', 'status': 'OPN', 'id': '489', 'longitude': '2.188282'}, {'altitude': '11', 'slots': '6', 'streetNumber': '58', 'nearbyStations': '454, 469', 'type': 'BIKE-ELECTRIC', 'streetName': '(PK) C\\\\/ DE BADAJOZ, 58', 'bikes': '6', 'latitude': '41.39698', 'status': 'OPN', 'id': '490', 'longitude': '2.197721'}, {'altitude': '61', 'slots': '8', 'streetNumber': '65', 'nearbyStations': '458, 495', 'type': 'BIKE-ELECTRIC', 'streetName': '(PK) C\\\\/ DE CARRERAS I CANDI', 'bikes': '4', 'latitude': '41.37252', 'status': 'OPN', 'id': '491', 'longitude': '2.12898'}, {'altitude': '21', 'slots': '19', 'streetNumber': '8-9 ', 'nearbyStations': '459, 485', 'type': 'BIKE-ELECTRIC', 'streetName': 'PL. DE TETUAN', 'bikes': '5', 'latitude': '41.394232', 'status': 'OPN', 'id': '492', 'longitude': '2.175278'}, {'altitude': '8', 'slots': '20', 'streetNumber': '4', 'nearbyStations': '460, 477', 'type': 'BIKE-ELECTRIC', 'streetName': 'PL. SANT MIQUEL', 'bikes': '3', 'latitude': '41.38186', 'status': 'OPN', 'id': '493', 'longitude': '2.177086'}, {'altitude': '41', 'slots': '14', 'streetNumber': '31', 'nearbyStations': '484, 485', 'type': 'BIKE-ELECTRIC', 'streetName': 'RAMBLA CATALUNYA', 'bikes': '9', 'latitude': '41.389481', 'status': 'OPN', 'id': '494', 'longitude': '2.165357'}, {'altitude': '45', 'slots': '14', 'streetNumber': 'SN', 'nearbyStations': '451, 481', 'type': 'BIKE-ELECTRIC', 'streetName': 'C\\\\/ DIPUTACIÓ - TARRAGONA', 'bikes': '8', 'latitude': '41.377191', 'status': 'OPN', 'id': '495', 'longitude': '2.149283'}, {'altitude': '21', 'slots': '8', 'streetNumber': '445', 'nearbyStations': '452, 475', 'type': 'BIKE-ELECTRIC', 'streetName': 'C\\\\/ DE PROVENÇA', 'bikes': '16', 'latitude': '41.404871', 'status': 'OPN', 'id': '496', 'longitude': '2.175141'}]\n"
     ]
    }
   ],
   "source": [
    "url_bcn = urllib.request.urlopen('http://wservice.viabicing.cat/v2/stations').read()\n",
    "url_bcn = url_bcn.split(b'\\n')\n",
    "# url_bcn = url_bcn[1:len(url_bcn)]\n",
    "url_bcn = eval(url_bcn[0])\n",
    "url_bcn = url_bcn[\"stations\"]\n",
    "print((url_bcn))\n",
    "data_bcn = pd.DataFrame(url_bcn)"
   ]
  },
  {
   "cell_type": "code",
   "execution_count": 7,
   "metadata": {
    "collapsed": true
   },
   "outputs": [],
   "source": [
    "data_bcn['servicio']  = 'bicing'"
   ]
  },
  {
   "cell_type": "code",
   "execution_count": 8,
   "metadata": {
    "collapsed": false
   },
   "outputs": [],
   "source": [
    "data_bcn['direccion'] = data_bcn[\"streetName\"] + data_bcn[\"streetNumber\"]\n",
    "data_bcn['slots'] = data_bcn[\"bikes\"].astype(float) + data_bcn[\"slots\"].astype(float)\n",
    "data_bcn['porcenjate'] = data_bcn['bikes'].astype(float) / data_bcn['slots'].astype(float)\n",
    "\n",
    "\n",
    "del data_bcn[\"streetName\"]\n",
    "del data_bcn[\"streetNumber\"]\n",
    "del data_bcn[\"nearbyStations\"]\n",
    "del data_bcn[\"altitude\"]\n",
    "del data_bcn[\"type\"]"
   ]
  },
  {
   "cell_type": "code",
   "execution_count": 9,
   "metadata": {
    "collapsed": false,
    "slideshow": {
     "slide_type": "subslide"
    }
   },
   "outputs": [],
   "source": [
    "del data_mad[\"luz\"]\n",
    "data_mad['slots'] = data_mad['libres'] / data_mad['porcentaje'] *100\n",
    "del data_mad['porcentaje']\n",
    "data_mad['porcentaje'] = data_mad['libres'].astype(float) / data_mad['slots'].astype(float)\n",
    "del data_mad['numero_estacion']\n",
    "del data_mad['nombre']"
   ]
  },
  {
   "cell_type": "code",
   "execution_count": 10,
   "metadata": {
    "collapsed": false
   },
   "outputs": [
    {
     "data": {
      "text/plain": [
       "Index(['bikes', 'id', 'latitude', 'longitude', 'slots', 'status', 'servicio',\n",
       "       'direccion', 'porcenjate'],\n",
       "      dtype='object')"
      ]
     },
     "execution_count": 10,
     "metadata": {},
     "output_type": "execute_result"
    }
   ],
   "source": [
    "data_bcn.columns "
   ]
  },
  {
   "cell_type": "code",
   "execution_count": 11,
   "metadata": {
    "collapsed": false
   },
   "outputs": [
    {
     "data": {
      "text/plain": [
       "Index(['activo', 'direccion', 'idestacion', 'latitud', 'libres', 'longitud',\n",
       "       'servicio', 'slots', 'porcentaje'],\n",
       "      dtype='object')"
      ]
     },
     "execution_count": 11,
     "metadata": {},
     "output_type": "execute_result"
    }
   ],
   "source": [
    "data_mad.columns"
   ]
  },
  {
   "cell_type": "code",
   "execution_count": 12,
   "metadata": {
    "collapsed": false
   },
   "outputs": [
    {
     "data": {
      "text/html": [
       "<div>\n",
       "<table border=\"1\" class=\"dataframe\">\n",
       "  <thead>\n",
       "    <tr style=\"text-align: right;\">\n",
       "      <th></th>\n",
       "      <th>bikes</th>\n",
       "      <th>id</th>\n",
       "      <th>latitude</th>\n",
       "      <th>longitude</th>\n",
       "      <th>slots</th>\n",
       "      <th>status</th>\n",
       "      <th>servicio</th>\n",
       "      <th>direccion</th>\n",
       "      <th>porcenjate</th>\n",
       "    </tr>\n",
       "  </thead>\n",
       "  <tbody>\n",
       "    <tr>\n",
       "      <th>0</th>\n",
       "      <td>10</td>\n",
       "      <td>1</td>\n",
       "      <td>41.397952</td>\n",
       "      <td>2.180042</td>\n",
       "      <td>22.0</td>\n",
       "      <td>OPN</td>\n",
       "      <td>bicing</td>\n",
       "      <td>Gran Via Corts Catalanes760</td>\n",
       "      <td>0.454545</td>\n",
       "    </tr>\n",
       "    <tr>\n",
       "      <th>1</th>\n",
       "      <td>1</td>\n",
       "      <td>2</td>\n",
       "      <td>41.39553</td>\n",
       "      <td>2.17706</td>\n",
       "      <td>25.0</td>\n",
       "      <td>OPN</td>\n",
       "      <td>bicing</td>\n",
       "      <td>Roger de Flor\\/ Gran Vía126</td>\n",
       "      <td>0.040000</td>\n",
       "    </tr>\n",
       "    <tr>\n",
       "      <th>2</th>\n",
       "      <td>11</td>\n",
       "      <td>3</td>\n",
       "      <td>41.393699</td>\n",
       "      <td>2.181137</td>\n",
       "      <td>26.0</td>\n",
       "      <td>OPN</td>\n",
       "      <td>bicing</td>\n",
       "      <td>Ali Bei44</td>\n",
       "      <td>0.423077</td>\n",
       "    </tr>\n",
       "    <tr>\n",
       "      <th>3</th>\n",
       "      <td>6</td>\n",
       "      <td>4</td>\n",
       "      <td>41.39347</td>\n",
       "      <td>2.18149</td>\n",
       "      <td>19.0</td>\n",
       "      <td>OPN</td>\n",
       "      <td>bicing</td>\n",
       "      <td>Ribes13</td>\n",
       "      <td>0.315789</td>\n",
       "    </tr>\n",
       "    <tr>\n",
       "      <th>4</th>\n",
       "      <td>10</td>\n",
       "      <td>5</td>\n",
       "      <td>41.391075</td>\n",
       "      <td>2.180223</td>\n",
       "      <td>38.0</td>\n",
       "      <td>OPN</td>\n",
       "      <td>bicing</td>\n",
       "      <td>Pg Lluís Companys11</td>\n",
       "      <td>0.263158</td>\n",
       "    </tr>\n",
       "  </tbody>\n",
       "</table>\n",
       "</div>"
      ],
      "text/plain": [
       "  bikes id   latitude longitude  slots status servicio  \\\n",
       "0    10  1  41.397952  2.180042   22.0    OPN   bicing   \n",
       "1     1  2   41.39553   2.17706   25.0    OPN   bicing   \n",
       "2    11  3  41.393699  2.181137   26.0    OPN   bicing   \n",
       "3     6  4   41.39347   2.18149   19.0    OPN   bicing   \n",
       "4    10  5  41.391075  2.180223   38.0    OPN   bicing   \n",
       "\n",
       "                     direccion  porcenjate  \n",
       "0  Gran Via Corts Catalanes760    0.454545  \n",
       "1  Roger de Flor\\/ Gran Vía126    0.040000  \n",
       "2                    Ali Bei44    0.423077  \n",
       "3                      Ribes13    0.315789  \n",
       "4          Pg Lluís Companys11    0.263158  "
      ]
     },
     "execution_count": 12,
     "metadata": {},
     "output_type": "execute_result"
    }
   ],
   "source": [
    "data_bcn.head()"
   ]
  },
  {
   "cell_type": "code",
   "execution_count": 13,
   "metadata": {
    "collapsed": false
   },
   "outputs": [],
   "source": [
    "data_bcn.columns = ['libres', 'id_estacion', 'latitud', 'longitud', 'slots', 'status', 'servicio', 'direccion','porcentaje']\n",
    "data_mad.columns = ['status', 'direccion', 'id_estacion', 'latitud', 'libres', 'longitud','servicio', 'slots', 'porcentaje']"
   ]
  },
  {
   "cell_type": "code",
   "execution_count": 14,
   "metadata": {
    "collapsed": false
   },
   "outputs": [],
   "source": [
    "data_mad=data_mad.dropna() \n",
    "data_bcn=data_bcn.dropna() "
   ]
  },
  {
   "cell_type": "code",
   "execution_count": 15,
   "metadata": {
    "collapsed": true
   },
   "outputs": [],
   "source": [
    "import warnings\n",
    "warnings.filterwarnings(\"ignore\")"
   ]
  },
  {
   "cell_type": "code",
   "execution_count": 16,
   "metadata": {
    "collapsed": false
   },
   "outputs": [],
   "source": [
    "data_mad['disponibilidad'] = 'baja disponibilidad'\n",
    "data_mad['disponibilidad'][(data_mad['porcentaje'] > 0.20) & (data_mad['porcentaje'] <= 0.5)] = 'disponibilidad media'\n",
    "data_mad['disponibilidad'][(data_mad['porcentaje'] > 0.50) & (data_mad['porcentaje'] <= 0.8)] = 'alta disponibilidad'\n",
    "data_mad['disponibilidad'][data_mad['porcentaje'] >0.80] = 'muy alta disponibilidad'\n"
   ]
  },
  {
   "cell_type": "code",
   "execution_count": 17,
   "metadata": {
    "collapsed": false
   },
   "outputs": [],
   "source": [
    "data_bcn['disponibilidad'] = 'baja disponibilidad'\n",
    "data_bcn['disponibilidad'][(data_bcn['porcentaje'] > 0.20) & (data_bcn['porcentaje'] <= 0.5)] = 'disponibilidad media'\n",
    "data_bcn['disponibilidad'][(data_bcn['porcentaje'] > 0.50) & (data_bcn['porcentaje'] <= 0.8)] = 'alta disponibilidad'\n",
    "data_bcn['disponibilidad'][data_bcn['porcentaje'] >0.80] = 'muy alta disponibilidad'\n",
    "\n"
   ]
  },
  {
   "cell_type": "code",
   "execution_count": 18,
   "metadata": {
    "collapsed": false
   },
   "outputs": [
    {
     "data": {
      "text/html": [
       "<div>\n",
       "<table border=\"1\" class=\"dataframe\">\n",
       "  <thead>\n",
       "    <tr style=\"text-align: right;\">\n",
       "      <th></th>\n",
       "      <th>status</th>\n",
       "      <th>direccion</th>\n",
       "      <th>id_estacion</th>\n",
       "      <th>latitud</th>\n",
       "      <th>libres</th>\n",
       "      <th>longitud</th>\n",
       "      <th>servicio</th>\n",
       "      <th>slots</th>\n",
       "      <th>porcentaje</th>\n",
       "      <th>disponibilidad</th>\n",
       "    </tr>\n",
       "  </thead>\n",
       "  <tbody>\n",
       "    <tr>\n",
       "      <th>0</th>\n",
       "      <td>True</td>\n",
       "      <td>Puerta del Sol No 1</td>\n",
       "      <td>1a</td>\n",
       "      <td>40.4168961</td>\n",
       "      <td>12</td>\n",
       "      <td>-3.7024255</td>\n",
       "      <td>bicimad</td>\n",
       "      <td>24.0</td>\n",
       "      <td>0.500000</td>\n",
       "      <td>disponibilidad media</td>\n",
       "    </tr>\n",
       "    <tr>\n",
       "      <th>1</th>\n",
       "      <td>True</td>\n",
       "      <td>Calle Fuencarral No 108</td>\n",
       "      <td>5</td>\n",
       "      <td>40.4285280</td>\n",
       "      <td>21</td>\n",
       "      <td>-3.7020599</td>\n",
       "      <td>bicimad</td>\n",
       "      <td>27.0</td>\n",
       "      <td>0.777778</td>\n",
       "      <td>alta disponibilidad</td>\n",
       "    </tr>\n",
       "    <tr>\n",
       "      <th>2</th>\n",
       "      <td>True</td>\n",
       "      <td>Calle Marques de la Ensenada No 16</td>\n",
       "      <td>10</td>\n",
       "      <td>40.4250863</td>\n",
       "      <td>13</td>\n",
       "      <td>-3.6918807</td>\n",
       "      <td>bicimad</td>\n",
       "      <td>24.0</td>\n",
       "      <td>0.541667</td>\n",
       "      <td>alta disponibilidad</td>\n",
       "    </tr>\n",
       "    <tr>\n",
       "      <th>3</th>\n",
       "      <td>True</td>\n",
       "      <td>Calle San Vicente Ferrer No 64</td>\n",
       "      <td>15</td>\n",
       "      <td>40.4261649</td>\n",
       "      <td>15</td>\n",
       "      <td>-3.7073764</td>\n",
       "      <td>bicimad</td>\n",
       "      <td>21.0</td>\n",
       "      <td>0.714286</td>\n",
       "      <td>alta disponibilidad</td>\n",
       "    </tr>\n",
       "    <tr>\n",
       "      <th>4</th>\n",
       "      <td>True</td>\n",
       "      <td>Calle Alcala No 49</td>\n",
       "      <td>20a</td>\n",
       "      <td>40.4192342</td>\n",
       "      <td>12</td>\n",
       "      <td>-3.6954615</td>\n",
       "      <td>bicimad</td>\n",
       "      <td>24.0</td>\n",
       "      <td>0.500000</td>\n",
       "      <td>disponibilidad media</td>\n",
       "    </tr>\n",
       "  </tbody>\n",
       "</table>\n",
       "</div>"
      ],
      "text/plain": [
       "  status                           direccion id_estacion     latitud  libres  \\\n",
       "0   True                 Puerta del Sol No 1          1a  40.4168961      12   \n",
       "1   True             Calle Fuencarral No 108           5  40.4285280      21   \n",
       "2   True  Calle Marques de la Ensenada No 16          10  40.4250863      13   \n",
       "3   True      Calle San Vicente Ferrer No 64          15  40.4261649      15   \n",
       "4   True                  Calle Alcala No 49         20a  40.4192342      12   \n",
       "\n",
       "     longitud servicio  slots  porcentaje        disponibilidad  \n",
       "0  -3.7024255  bicimad   24.0    0.500000  disponibilidad media  \n",
       "1  -3.7020599  bicimad   27.0    0.777778   alta disponibilidad  \n",
       "2  -3.6918807  bicimad   24.0    0.541667   alta disponibilidad  \n",
       "3  -3.7073764  bicimad   21.0    0.714286   alta disponibilidad  \n",
       "4  -3.6954615  bicimad   24.0    0.500000  disponibilidad media  "
      ]
     },
     "execution_count": 18,
     "metadata": {},
     "output_type": "execute_result"
    }
   ],
   "source": [
    "data_mad.head()"
   ]
  },
  {
   "cell_type": "code",
   "execution_count": 19,
   "metadata": {
    "collapsed": false
   },
   "outputs": [
    {
     "data": {
      "text/html": [
       "<div>\n",
       "<table border=\"1\" class=\"dataframe\">\n",
       "  <thead>\n",
       "    <tr style=\"text-align: right;\">\n",
       "      <th></th>\n",
       "      <th>libres</th>\n",
       "      <th>id_estacion</th>\n",
       "      <th>latitud</th>\n",
       "      <th>longitud</th>\n",
       "      <th>slots</th>\n",
       "      <th>status</th>\n",
       "      <th>servicio</th>\n",
       "      <th>direccion</th>\n",
       "      <th>porcentaje</th>\n",
       "      <th>disponibilidad</th>\n",
       "    </tr>\n",
       "  </thead>\n",
       "  <tbody>\n",
       "    <tr>\n",
       "      <th>0</th>\n",
       "      <td>10</td>\n",
       "      <td>1</td>\n",
       "      <td>41.397952</td>\n",
       "      <td>2.180042</td>\n",
       "      <td>22.0</td>\n",
       "      <td>OPN</td>\n",
       "      <td>bicing</td>\n",
       "      <td>Gran Via Corts Catalanes760</td>\n",
       "      <td>0.454545</td>\n",
       "      <td>disponibilidad media</td>\n",
       "    </tr>\n",
       "    <tr>\n",
       "      <th>1</th>\n",
       "      <td>1</td>\n",
       "      <td>2</td>\n",
       "      <td>41.39553</td>\n",
       "      <td>2.17706</td>\n",
       "      <td>25.0</td>\n",
       "      <td>OPN</td>\n",
       "      <td>bicing</td>\n",
       "      <td>Roger de Flor\\/ Gran Vía126</td>\n",
       "      <td>0.040000</td>\n",
       "      <td>baja disponibilidad</td>\n",
       "    </tr>\n",
       "    <tr>\n",
       "      <th>2</th>\n",
       "      <td>11</td>\n",
       "      <td>3</td>\n",
       "      <td>41.393699</td>\n",
       "      <td>2.181137</td>\n",
       "      <td>26.0</td>\n",
       "      <td>OPN</td>\n",
       "      <td>bicing</td>\n",
       "      <td>Ali Bei44</td>\n",
       "      <td>0.423077</td>\n",
       "      <td>disponibilidad media</td>\n",
       "    </tr>\n",
       "    <tr>\n",
       "      <th>3</th>\n",
       "      <td>6</td>\n",
       "      <td>4</td>\n",
       "      <td>41.39347</td>\n",
       "      <td>2.18149</td>\n",
       "      <td>19.0</td>\n",
       "      <td>OPN</td>\n",
       "      <td>bicing</td>\n",
       "      <td>Ribes13</td>\n",
       "      <td>0.315789</td>\n",
       "      <td>disponibilidad media</td>\n",
       "    </tr>\n",
       "    <tr>\n",
       "      <th>4</th>\n",
       "      <td>10</td>\n",
       "      <td>5</td>\n",
       "      <td>41.391075</td>\n",
       "      <td>2.180223</td>\n",
       "      <td>38.0</td>\n",
       "      <td>OPN</td>\n",
       "      <td>bicing</td>\n",
       "      <td>Pg Lluís Companys11</td>\n",
       "      <td>0.263158</td>\n",
       "      <td>disponibilidad media</td>\n",
       "    </tr>\n",
       "  </tbody>\n",
       "</table>\n",
       "</div>"
      ],
      "text/plain": [
       "  libres id_estacion    latitud  longitud  slots status servicio  \\\n",
       "0     10           1  41.397952  2.180042   22.0    OPN   bicing   \n",
       "1      1           2   41.39553   2.17706   25.0    OPN   bicing   \n",
       "2     11           3  41.393699  2.181137   26.0    OPN   bicing   \n",
       "3      6           4   41.39347   2.18149   19.0    OPN   bicing   \n",
       "4     10           5  41.391075  2.180223   38.0    OPN   bicing   \n",
       "\n",
       "                     direccion  porcentaje        disponibilidad  \n",
       "0  Gran Via Corts Catalanes760    0.454545  disponibilidad media  \n",
       "1  Roger de Flor\\/ Gran Vía126    0.040000   baja disponibilidad  \n",
       "2                    Ali Bei44    0.423077  disponibilidad media  \n",
       "3                      Ribes13    0.315789  disponibilidad media  \n",
       "4          Pg Lluís Companys11    0.263158  disponibilidad media  "
      ]
     },
     "execution_count": 19,
     "metadata": {},
     "output_type": "execute_result"
    }
   ],
   "source": [
    "data_bcn.head()"
   ]
  },
  {
   "cell_type": "markdown",
   "metadata": {
    "slideshow": {
     "slide_type": "slide"
    }
   },
   "source": [
    "# importamos los datos de BILBON BIZI\n",
    "<img src=\"http://www.bilbao.net/Agenda21/agenda21cont/bilbon_bizi.jpg\" style=\"width:150px; display:inline\">\n"
   ]
  },
  {
   "cell_type": "code",
   "execution_count": 20,
   "metadata": {
    "collapsed": false
   },
   "outputs": [
    {
     "data": {
      "text/html": [
       "<div>\n",
       "<table border=\"1\" class=\"dataframe\">\n",
       "  <thead>\n",
       "    <tr style=\"text-align: right;\">\n",
       "      <th></th>\n",
       "      <th>AAVERIADOS</th>\n",
       "      <th>ALIBRES</th>\n",
       "      <th>AUSADOS</th>\n",
       "      <th>BAVERIADAS</th>\n",
       "      <th>BLIBRES</th>\n",
       "      <th>ESTADO</th>\n",
       "      <th>ID</th>\n",
       "      <th>LATITUD</th>\n",
       "      <th>LONGITUD</th>\n",
       "      <th>NOMBRE</th>\n",
       "      <th>libres</th>\n",
       "      <th>slots</th>\n",
       "      <th>porcentaje</th>\n",
       "      <th>disponibilidad</th>\n",
       "      <th>servicio</th>\n",
       "    </tr>\n",
       "  </thead>\n",
       "  <tbody>\n",
       "    <tr>\n",
       "      <th>0</th>\n",
       "      <td>1</td>\n",
       "      <td>12</td>\n",
       "      <td>2</td>\n",
       "      <td>0</td>\n",
       "      <td>2</td>\n",
       "      <td>COMUNICA</td>\n",
       "      <td>3001</td>\n",
       "      <td>43.281575</td>\n",
       "      <td>-2.962019</td>\n",
       "      <td>01-PLAZA LEVANTE</td>\n",
       "      <td>2</td>\n",
       "      <td>15</td>\n",
       "      <td>13.333333</td>\n",
       "      <td>muy alta disponibilidad</td>\n",
       "      <td>bilbonbizi</td>\n",
       "    </tr>\n",
       "    <tr>\n",
       "      <th>1</th>\n",
       "      <td>2</td>\n",
       "      <td>10</td>\n",
       "      <td>8</td>\n",
       "      <td>0</td>\n",
       "      <td>8</td>\n",
       "      <td>COMUNICA</td>\n",
       "      <td>3002</td>\n",
       "      <td>43.269819</td>\n",
       "      <td>-2.949229</td>\n",
       "      <td>02-IRUÑA</td>\n",
       "      <td>8</td>\n",
       "      <td>20</td>\n",
       "      <td>40.000000</td>\n",
       "      <td>muy alta disponibilidad</td>\n",
       "      <td>bilbonbizi</td>\n",
       "    </tr>\n",
       "    <tr>\n",
       "      <th>2</th>\n",
       "      <td>0</td>\n",
       "      <td>9</td>\n",
       "      <td>11</td>\n",
       "      <td>0</td>\n",
       "      <td>11</td>\n",
       "      <td>COMUNICA</td>\n",
       "      <td>3003</td>\n",
       "      <td>43.264402</td>\n",
       "      <td>-2.922888</td>\n",
       "      <td>03-AYUNTAMIENTO</td>\n",
       "      <td>11</td>\n",
       "      <td>20</td>\n",
       "      <td>55.000000</td>\n",
       "      <td>muy alta disponibilidad</td>\n",
       "      <td>bilbonbizi</td>\n",
       "    </tr>\n",
       "    <tr>\n",
       "      <th>3</th>\n",
       "      <td>2</td>\n",
       "      <td>24</td>\n",
       "      <td>9</td>\n",
       "      <td>0</td>\n",
       "      <td>9</td>\n",
       "      <td>COMUNICA</td>\n",
       "      <td>3004</td>\n",
       "      <td>43.259518</td>\n",
       "      <td>-2.924383</td>\n",
       "      <td>04-PLAZA ARRIAGA</td>\n",
       "      <td>9</td>\n",
       "      <td>35</td>\n",
       "      <td>25.714286</td>\n",
       "      <td>muy alta disponibilidad</td>\n",
       "      <td>bilbonbizi</td>\n",
       "    </tr>\n",
       "    <tr>\n",
       "      <th>4</th>\n",
       "      <td>0</td>\n",
       "      <td>9</td>\n",
       "      <td>6</td>\n",
       "      <td>0</td>\n",
       "      <td>6</td>\n",
       "      <td>COMUNICA</td>\n",
       "      <td>3005</td>\n",
       "      <td>43.250165</td>\n",
       "      <td>-2.930786</td>\n",
       "      <td>05-SANTIAGO COMPOSTELA</td>\n",
       "      <td>6</td>\n",
       "      <td>15</td>\n",
       "      <td>40.000000</td>\n",
       "      <td>muy alta disponibilidad</td>\n",
       "      <td>bilbonbizi</td>\n",
       "    </tr>\n",
       "  </tbody>\n",
       "</table>\n",
       "</div>"
      ],
      "text/plain": [
       "   AAVERIADOS  ALIBRES  AUSADOS  BAVERIADAS  BLIBRES    ESTADO    ID  \\\n",
       "0           1       12        2           0        2  COMUNICA  3001   \n",
       "1           2       10        8           0        8  COMUNICA  3002   \n",
       "2           0        9       11           0       11  COMUNICA  3003   \n",
       "3           2       24        9           0        9  COMUNICA  3004   \n",
       "4           0        9        6           0        6  COMUNICA  3005   \n",
       "\n",
       "     LATITUD  LONGITUD                  NOMBRE  libres  slots  porcentaje  \\\n",
       "0  43.281575 -2.962019        01-PLAZA LEVANTE       2     15   13.333333   \n",
       "1  43.269819 -2.949229                02-IRUÑA       8     20   40.000000   \n",
       "2  43.264402 -2.922888         03-AYUNTAMIENTO      11     20   55.000000   \n",
       "3  43.259518 -2.924383        04-PLAZA ARRIAGA       9     35   25.714286   \n",
       "4  43.250165 -2.930786  05-SANTIAGO COMPOSTELA       6     15   40.000000   \n",
       "\n",
       "            disponibilidad    servicio  \n",
       "0  muy alta disponibilidad  bilbonbizi  \n",
       "1  muy alta disponibilidad  bilbonbizi  \n",
       "2  muy alta disponibilidad  bilbonbizi  \n",
       "3  muy alta disponibilidad  bilbonbizi  \n",
       "4  muy alta disponibilidad  bilbonbizi  "
      ]
     },
     "execution_count": 20,
     "metadata": {},
     "output_type": "execute_result"
    }
   ],
   "source": [
    "import pandas as pd\n",
    "data_bio = pd.read_csv(\"bilbaoBICI.csv\", sep=';', encoding = \"latin-1\")\n",
    "data_bio['libres'] = data_bio['BLIBRES']\n",
    "data_bio['slots'] = data_bio['ALIBRES'] + data_bio['AAVERIADOS'] + data_bio['AUSADOS']\n",
    "data_bio['porcentaje'] = data_bio['libres'] / data_bio['slots'] *100\n",
    "data_bio['disponibilidad'] = 'baja disponibilidad'\n",
    "data_bio['disponibilidad'][(data_bio['porcentaje'] > 0.20) & (data_bio['porcentaje'] <= 0.5)] = 'disponibilidad media'\n",
    "data_bio['disponibilidad'][(data_bio['porcentaje'] > 0.50) & (data_bio['porcentaje'] <= 0.8)] = 'alta disponibilidad'\n",
    "data_bio['disponibilidad'][data_bio['porcentaje'] >0.80] = 'muy alta disponibilidad'\n",
    "data_bio['servicio']='bilbonbizi'\n",
    "data_bio.head()"
   ]
  },
  {
   "cell_type": "code",
   "execution_count": 21,
   "metadata": {
    "collapsed": false
   },
   "outputs": [
    {
     "data": {
      "text/html": [
       "<div>\n",
       "<table border=\"1\" class=\"dataframe\">\n",
       "  <thead>\n",
       "    <tr style=\"text-align: right;\">\n",
       "      <th></th>\n",
       "      <th>status</th>\n",
       "      <th>id_estacion</th>\n",
       "      <th>latitud</th>\n",
       "      <th>longitud</th>\n",
       "      <th>direccion</th>\n",
       "      <th>libres</th>\n",
       "      <th>slots</th>\n",
       "      <th>porcentaje</th>\n",
       "      <th>disponibilidad</th>\n",
       "      <th>servicio</th>\n",
       "    </tr>\n",
       "  </thead>\n",
       "  <tbody>\n",
       "    <tr>\n",
       "      <th>0</th>\n",
       "      <td>COMUNICA</td>\n",
       "      <td>3001</td>\n",
       "      <td>43.281575</td>\n",
       "      <td>-2.962019</td>\n",
       "      <td>01-PLAZA LEVANTE</td>\n",
       "      <td>2</td>\n",
       "      <td>15</td>\n",
       "      <td>13.333333</td>\n",
       "      <td>muy alta disponibilidad</td>\n",
       "      <td>bilbonbizi</td>\n",
       "    </tr>\n",
       "    <tr>\n",
       "      <th>1</th>\n",
       "      <td>COMUNICA</td>\n",
       "      <td>3002</td>\n",
       "      <td>43.269819</td>\n",
       "      <td>-2.949229</td>\n",
       "      <td>02-IRUÑA</td>\n",
       "      <td>8</td>\n",
       "      <td>20</td>\n",
       "      <td>40.000000</td>\n",
       "      <td>muy alta disponibilidad</td>\n",
       "      <td>bilbonbizi</td>\n",
       "    </tr>\n",
       "    <tr>\n",
       "      <th>2</th>\n",
       "      <td>COMUNICA</td>\n",
       "      <td>3003</td>\n",
       "      <td>43.264402</td>\n",
       "      <td>-2.922888</td>\n",
       "      <td>03-AYUNTAMIENTO</td>\n",
       "      <td>11</td>\n",
       "      <td>20</td>\n",
       "      <td>55.000000</td>\n",
       "      <td>muy alta disponibilidad</td>\n",
       "      <td>bilbonbizi</td>\n",
       "    </tr>\n",
       "    <tr>\n",
       "      <th>3</th>\n",
       "      <td>COMUNICA</td>\n",
       "      <td>3004</td>\n",
       "      <td>43.259518</td>\n",
       "      <td>-2.924383</td>\n",
       "      <td>04-PLAZA ARRIAGA</td>\n",
       "      <td>9</td>\n",
       "      <td>35</td>\n",
       "      <td>25.714286</td>\n",
       "      <td>muy alta disponibilidad</td>\n",
       "      <td>bilbonbizi</td>\n",
       "    </tr>\n",
       "    <tr>\n",
       "      <th>4</th>\n",
       "      <td>COMUNICA</td>\n",
       "      <td>3005</td>\n",
       "      <td>43.250165</td>\n",
       "      <td>-2.930786</td>\n",
       "      <td>05-SANTIAGO COMPOSTELA</td>\n",
       "      <td>6</td>\n",
       "      <td>15</td>\n",
       "      <td>40.000000</td>\n",
       "      <td>muy alta disponibilidad</td>\n",
       "      <td>bilbonbizi</td>\n",
       "    </tr>\n",
       "  </tbody>\n",
       "</table>\n",
       "</div>"
      ],
      "text/plain": [
       "     status  id_estacion    latitud  longitud               direccion  libres  \\\n",
       "0  COMUNICA         3001  43.281575 -2.962019        01-PLAZA LEVANTE       2   \n",
       "1  COMUNICA         3002  43.269819 -2.949229                02-IRUÑA       8   \n",
       "2  COMUNICA         3003  43.264402 -2.922888         03-AYUNTAMIENTO      11   \n",
       "3  COMUNICA         3004  43.259518 -2.924383        04-PLAZA ARRIAGA       9   \n",
       "4  COMUNICA         3005  43.250165 -2.930786  05-SANTIAGO COMPOSTELA       6   \n",
       "\n",
       "   slots  porcentaje           disponibilidad    servicio  \n",
       "0     15   13.333333  muy alta disponibilidad  bilbonbizi  \n",
       "1     20   40.000000  muy alta disponibilidad  bilbonbizi  \n",
       "2     20   55.000000  muy alta disponibilidad  bilbonbizi  \n",
       "3     35   25.714286  muy alta disponibilidad  bilbonbizi  \n",
       "4     15   40.000000  muy alta disponibilidad  bilbonbizi  "
      ]
     },
     "execution_count": 21,
     "metadata": {},
     "output_type": "execute_result"
    }
   ],
   "source": [
    "del data_bio[\"BAVERIADAS\"]\n",
    "del data_bio[\"AAVERIADOS\"]\n",
    "del data_bio[\"ALIBRES\"]\n",
    "del data_bio[\"AUSADOS\"]\n",
    "del data_bio[\"BLIBRES\"]\n",
    "# data_bio['status'] = data_bio[\"ESTADO\"]\n",
    "data_bio.columns = ['status', 'id_estacion', 'latitud', 'longitud', 'direccion', 'libres','slots', 'porcentaje', 'disponibilidad', 'servicio']\n",
    "data_bio.head()\n"
   ]
  },
  {
   "cell_type": "markdown",
   "metadata": {},
   "source": [
    "## guardamos en mongoDB"
   ]
  },
  {
   "cell_type": "code",
   "execution_count": 22,
   "metadata": {
    "collapsed": false
   },
   "outputs": [
    {
     "data": {
      "text/plain": [
       "<pymongo.results.InsertManyResult at 0x7f6e707c4048>"
      ]
     },
     "execution_count": 22,
     "metadata": {},
     "output_type": "execute_result"
    }
   ],
   "source": [
    "from pymongo import MongoClient\n",
    "#mongodb conection\n",
    "client = MongoClient('localhost', 27017)\n",
    "db = client.bici\n",
    "collection = db.datacleaned\n",
    "collection.insert_many(data_mad.to_dict(\"records\"))\n",
    "collection.insert_many(data_bcn.to_dict(\"records\"))\n",
    "collection.insert_many(data_bio.to_dict(\"records\"))"
   ]
  }
 ],
 "metadata": {
  "anaconda-cloud": {},
  "celltoolbar": "Slideshow",
  "kernelspec": {
   "display_name": "Python [Root]",
   "language": "python",
   "name": "Python [Root]"
  },
  "language_info": {
   "codemirror_mode": {
    "name": "ipython",
    "version": 3
   },
   "file_extension": ".py",
   "mimetype": "text/x-python",
   "name": "python",
   "nbconvert_exporter": "python",
   "pygments_lexer": "ipython3",
   "version": "3.5.2"
  }
 },
 "nbformat": 4,
 "nbformat_minor": 0
}
