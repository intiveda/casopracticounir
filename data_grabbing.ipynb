{
 "cells": [
  {
   "cell_type": "markdown",
   "metadata": {
    "slideshow": {
     "slide_type": "slide"
    }
   },
   "source": [
    "## borramos collection en mongoDB"
   ]
  },
  {
   "cell_type": "code",
   "execution_count": 1,
   "metadata": {
    "collapsed": true,
    "slideshow": {
     "slide_type": "fragment"
    }
   },
   "outputs": [],
   "source": [
    "from pymongo import MongoClient\n",
    "#mongodb conection\n",
    "client = MongoClient('localhost', 27017)\n",
    "db = client.bici\n",
    "collection = db.datacleaned\n",
    "collection.drop()"
   ]
  },
  {
   "cell_type": "markdown",
   "metadata": {
    "slideshow": {
     "slide_type": "slide"
    }
   },
   "source": [
    "# importamos los datos de BICIMAD\n",
    "<img src=\"https://pbs.twimg.com/profile_images/621342633655271424/26fdqUsf.png\" style=\"width:150px; display:inline\">\n"
   ]
  },
  {
   "cell_type": "code",
   "execution_count": 2,
   "metadata": {
    "collapsed": false,
    "slideshow": {
     "slide_type": "subslide"
    }
   },
   "outputs": [],
   "source": [
    "# from urllib import urlopen\n",
    "import urllib.request\n",
    "\n",
    "import simplejson as json\n",
    "\n",
    "#Es un api no oficial pero que ofrece datos cada 10 min\n",
    "\n",
    "url = urllib.request.urlopen('http://bicimad-api.herokuapp.com/api-v1/locations/').read()\n",
    "url = json.loads(url)"
   ]
  },
  {
   "cell_type": "code",
   "execution_count": 3,
   "metadata": {
    "collapsed": false,
    "slideshow": {
     "slide_type": "subslide"
    }
   },
   "outputs": [],
   "source": [
    "import pandas as pd\n",
    "dataPre = url[\"locations\"]\n",
    "data_mad = pd.DataFrame(dataPre)"
   ]
  },
  {
   "cell_type": "code",
   "execution_count": 4,
   "metadata": {
    "collapsed": true,
    "slideshow": {
     "slide_type": "subslide"
    }
   },
   "outputs": [],
   "source": [
    "data_mad['servicio']  = 'bicimad'"
   ]
  },
  {
   "cell_type": "code",
   "execution_count": 5,
   "metadata": {
    "collapsed": false
   },
   "outputs": [
    {
     "data": {
      "text/html": [
       "<div>\n",
       "<table border=\"1\" class=\"dataframe\">\n",
       "  <thead>\n",
       "    <tr style=\"text-align: right;\">\n",
       "      <th></th>\n",
       "      <th>activo</th>\n",
       "      <th>direccion</th>\n",
       "      <th>idestacion</th>\n",
       "      <th>latitud</th>\n",
       "      <th>libres</th>\n",
       "      <th>longitud</th>\n",
       "      <th>luz</th>\n",
       "      <th>nombre</th>\n",
       "      <th>numero_estacion</th>\n",
       "      <th>porcentaje</th>\n",
       "      <th>servicio</th>\n",
       "    </tr>\n",
       "  </thead>\n",
       "  <tbody>\n",
       "    <tr>\n",
       "      <th>0</th>\n",
       "      <td>True</td>\n",
       "      <td>Puerta del Sol No 1</td>\n",
       "      <td>1a</td>\n",
       "      <td>40.4168961</td>\n",
       "      <td>12</td>\n",
       "      <td>-3.7024255</td>\n",
       "      <td>False</td>\n",
       "      <td>Puerta del Sol A</td>\n",
       "      <td>1a</td>\n",
       "      <td>50.000000</td>\n",
       "      <td>bicimad</td>\n",
       "    </tr>\n",
       "    <tr>\n",
       "      <th>1</th>\n",
       "      <td>True</td>\n",
       "      <td>Calle Fuencarral No 108</td>\n",
       "      <td>5</td>\n",
       "      <td>40.4285280</td>\n",
       "      <td>21</td>\n",
       "      <td>-3.7020599</td>\n",
       "      <td>False</td>\n",
       "      <td>Fuencarral</td>\n",
       "      <td>5</td>\n",
       "      <td>77.777778</td>\n",
       "      <td>bicimad</td>\n",
       "    </tr>\n",
       "    <tr>\n",
       "      <th>2</th>\n",
       "      <td>True</td>\n",
       "      <td>Calle Marques de la Ensenada No 16</td>\n",
       "      <td>10</td>\n",
       "      <td>40.4250863</td>\n",
       "      <td>13</td>\n",
       "      <td>-3.6918807</td>\n",
       "      <td>False</td>\n",
       "      <td>Marques de la Ensenada</td>\n",
       "      <td>10</td>\n",
       "      <td>54.166667</td>\n",
       "      <td>bicimad</td>\n",
       "    </tr>\n",
       "    <tr>\n",
       "      <th>3</th>\n",
       "      <td>True</td>\n",
       "      <td>Calle San Vicente Ferrer No 64</td>\n",
       "      <td>15</td>\n",
       "      <td>40.4261649</td>\n",
       "      <td>15</td>\n",
       "      <td>-3.7073764</td>\n",
       "      <td>False</td>\n",
       "      <td>S.Vicente Ferrer</td>\n",
       "      <td>15</td>\n",
       "      <td>71.428571</td>\n",
       "      <td>bicimad</td>\n",
       "    </tr>\n",
       "    <tr>\n",
       "      <th>4</th>\n",
       "      <td>True</td>\n",
       "      <td>Calle Alcala No 49</td>\n",
       "      <td>20a</td>\n",
       "      <td>40.4192342</td>\n",
       "      <td>12</td>\n",
       "      <td>-3.6954615</td>\n",
       "      <td>False</td>\n",
       "      <td>Banco de España A</td>\n",
       "      <td>20a</td>\n",
       "      <td>50.000000</td>\n",
       "      <td>bicimad</td>\n",
       "    </tr>\n",
       "  </tbody>\n",
       "</table>\n",
       "</div>"
      ],
      "text/plain": [
       "  activo                           direccion idestacion     latitud  libres  \\\n",
       "0   True                 Puerta del Sol No 1         1a  40.4168961      12   \n",
       "1   True             Calle Fuencarral No 108          5  40.4285280      21   \n",
       "2   True  Calle Marques de la Ensenada No 16         10  40.4250863      13   \n",
       "3   True      Calle San Vicente Ferrer No 64         15  40.4261649      15   \n",
       "4   True                  Calle Alcala No 49        20a  40.4192342      12   \n",
       "\n",
       "     longitud    luz                  nombre numero_estacion  porcentaje  \\\n",
       "0  -3.7024255  False        Puerta del Sol A              1a   50.000000   \n",
       "1  -3.7020599  False              Fuencarral               5   77.777778   \n",
       "2  -3.6918807  False  Marques de la Ensenada              10   54.166667   \n",
       "3  -3.7073764  False        S.Vicente Ferrer              15   71.428571   \n",
       "4  -3.6954615  False       Banco de España A             20a   50.000000   \n",
       "\n",
       "  servicio  \n",
       "0  bicimad  \n",
       "1  bicimad  \n",
       "2  bicimad  \n",
       "3  bicimad  \n",
       "4  bicimad  "
      ]
     },
     "execution_count": 5,
     "metadata": {},
     "output_type": "execute_result"
    }
   ],
   "source": [
    "data_mad.head()"
   ]
  },
  {
   "cell_type": "markdown",
   "metadata": {
    "slideshow": {
     "slide_type": "slide"
    }
   },
   "source": [
    "# importamos los datos de BICING\n",
    "<img src=\"https://upload.wikimedia.org/wikipedia/commons/thumb/a/a1/Bicing_logo.svg/200px-Bicing_logo.svg.png\" style=\"width:150px; display:inline\">\n"
   ]
  },
  {
   "cell_type": "code",
   "execution_count": 14,
   "metadata": {
    "collapsed": false
   },
   "outputs": [
    {
     "name": "stdout",
     "output_type": "stream",
     "text": [
      "2\n",
      "[{'status': 'OPN', 'slots': '2', 'streetName': 'Gran Via Corts Catalanes', 'nearbyStations': '24, 369, 387, 426', 'longitude': '2.180042', 'id': '1', 'altitude': '21', 'latitude': '41.397952', 'type': 'BIKE', 'streetNumber': '760', 'bikes': '20'}, {'status': 'OPN', 'slots': '15', 'streetName': 'Roger de Flor\\\\/ Gran Vía', 'nearbyStations': '360, 368, 387, 414', 'longitude': '2.17706', 'id': '2', 'altitude': '21', 'latitude': '41.39553', 'type': 'BIKE', 'streetNumber': '126', 'bikes': '9'}, {'status': 'OPN', 'slots': '16', 'streetName': 'Ali Bei', 'nearbyStations': '4, 6, 119, 419', 'longitude': '2.181137', 'id': '3', 'altitude': '21', 'latitude': '41.393699', 'type': 'BIKE', 'streetNumber': '44', 'bikes': '7'}, {'status': 'OPN', 'slots': '18', 'streetName': 'Ribes', 'nearbyStations': '3, 5, 359, 419', 'longitude': '2.18149', 'id': '4', 'altitude': '21', 'latitude': '41.39347', 'type': 'BIKE', 'streetNumber': '13', 'bikes': '3'}, {'status': 'OPN', 'slots': '14', 'streetName': 'Pg Lluís Companys', 'nearbyStations': '6, 7, 359, 418', 'longitude': '2.180223', 'id': '5', 'altitude': '16', 'latitude': '41.391075', 'type': 'BIKE', 'streetNumber': '11', 'bikes': '22'}, {'status': 'OPN', 'slots': '34', 'streetName': 'Pg Lluís Companys', 'nearbyStations': '5, 8, 359, 419', 'longitude': '2.18061', 'id': '6', 'altitude': '16', 'latitude': '41.391349', 'type': 'BIKE', 'streetNumber': '18', 'bikes': '2'}, {'status': 'OPN', 'slots': '2', 'streetName': 'Pg Lluís Companys', 'nearbyStations': '8, 10, 118, 389', 'longitude': '2.183251', 'id': '7', 'altitude': '16', 'latitude': '41.388856', 'type': 'BIKE', 'streetNumber': '1', 'bikes': '22'}, {'status': 'OPN', 'slots': '7', 'streetName': 'Pg Lluís Companys', 'nearbyStations': '6, 10, 118, 389', 'longitude': '2.183568', 'id': '8', 'altitude': '11', 'latitude': '41.389088', 'type': 'BIKE', 'streetNumber': '2', 'bikes': '18'}, {'status': 'OPN', 'slots': '9', 'streetName': \"Marquès de l'Argentera\", 'nearbyStations': '10, 14, 115, 389', 'longitude': '2.185249', 'id': '9', 'altitude': '11', 'latitude': '41.385031', 'type': 'BIKE', 'streetNumber': '17', 'bikes': '9'}, {'status': 'OPN', 'slots': '4', 'streetName': 'Carrer Comerç', 'nearbyStations': '9, 14, 115, 389', 'longitude': '2.18417', 'id': '10', 'altitude': '11', 'latitude': '41.38498', 'type': 'BIKE', 'streetNumber': '27', 'bikes': '28'}, {'status': 'OPN', 'slots': '0', 'streetName': 'Trelawny', 'nearbyStations': '116, 124, 125, 396', 'longitude': '2.193914', 'id': '11', 'altitude': '1', 'latitude': '41.381689', 'type': 'BIKE', 'streetNumber': '2', 'bikes': '21'}, {'status': 'OPN', 'slots': '16', 'streetName': 'Pg Marítim Barceloneta', 'nearbyStations': '11, 13, 116, 396', 'longitude': '2.195679', 'id': '12', 'altitude': '0', 'latitude': '41.384538', 'type': 'BIKE', 'streetNumber': '23', 'bikes': '12'}, {'status': 'OPN', 'slots': '31', 'streetName': 'Avinguda Litoral', 'nearbyStations': '11, 12, 46, 69', 'longitude': '2.195761', 'id': '13', 'altitude': '1', 'latitude': '41.386861', 'type': 'BIKE', 'streetNumber': '16', 'bikes': '0'}, {'status': 'OPN', 'slots': '6', 'streetName': 'Avinguda del Marques Argentera', 'nearbyStations': '9, 10, 115, 389', 'longitude': '2.185074', 'id': '14', 'altitude': '11', 'latitude': '41.384825', 'type': 'BIKE', 'streetNumber': '19', 'bikes': '15'}, {'status': 'OPN', 'slots': '19', 'streetName': 'Girona', 'nearbyStations': '23, 25, 362, 413', 'longitude': '2.17076', 'id': '15', 'altitude': '42', 'latitude': '41.39515', 'type': 'BIKE', 'streetNumber': '74', 'bikes': '0'}, {'status': 'OPN', 'slots': '9', 'streetName': 'Av. Meridiana', 'nearbyStations': '17, 44, 48, 372', 'longitude': '2.186708', 'id': '16', 'altitude': '18', 'latitude': '41.39827', 'type': 'BIKE', 'streetNumber': '47', 'bikes': '11'}, {'status': 'OPN', 'slots': '12', 'streetName': 'Av. Meridiana', 'nearbyStations': '16, 48, 211, 372', 'longitude': '2.186711', 'id': '17', 'altitude': '18', 'latitude': '41.398237', 'type': 'BIKE', 'streetNumber': '47', 'bikes': '8'}, {'status': 'OPN', 'slots': '4', 'streetName': 'Rosselló', 'nearbyStations': '19, 28, 120, 370', 'longitude': '2.17414', 'id': '18', 'altitude': '49', 'latitude': '41.405881', 'type': 'BIKE', 'streetNumber': '412', 'bikes': '29'}, {'status': 'OPN', 'slots': '23', 'streetName': 'Rosselló', 'nearbyStations': '18, 22, 29, 370', 'longitude': '2.170726', 'id': '19', 'altitude': '49', 'latitude': '41.403282', 'type': 'BIKE', 'streetNumber': '354', 'bikes': '4'}, {'status': 'OPN', 'slots': '17', 'streetName': 'Indústria', 'nearbyStations': '21, 28, 164, 278', 'longitude': '2.17462', 'id': '20', 'altitude': '59', 'latitude': '41.409758', 'type': 'BIKE', 'streetNumber': '157', 'bikes': '3'}, {'status': 'OPN', 'slots': '16', 'streetName': 'Sant Antoni Maria Claret', 'nearbyStations': '20, 28, 164, 278', 'longitude': '2.17402', 'id': '21', 'altitude': '59', 'latitude': '41.410897', 'type': 'BIKE', 'streetNumber': '214', 'bikes': '3'}, {'status': 'OPN', 'slots': '13', 'streetName': 'Sardenya', 'nearbyStations': '29, 120, 369, 370', 'longitude': '2.175206', 'id': '22', 'altitude': '28', 'latitude': '41.402051', 'type': 'BIKE', 'streetNumber': '296', 'bikes': '13'}, {'status': 'OPN', 'slots': '22', 'streetName': 'Bruc', 'nearbyStations': '15, 360, 363, 413', 'longitude': '2.171812', 'id': '23', 'altitude': '42', 'latitude': '41.392526', 'type': 'BIKE', 'streetNumber': '45', 'bikes': '0'}, {'status': 'OPN', 'slots': '9', 'streetName': 'Marina', 'nearbyStations': '1, 30, 369, 426', 'longitude': '2.180319', 'id': '24', 'altitude': '21', 'latitude': '41.399982', 'type': 'BIKE', 'streetNumber': '185', 'bikes': '9'}, {'status': 'OPN', 'slots': '20', 'streetName': 'Bruc', 'nearbyStations': '15, 123, 362, 413', 'longitude': '2.168294', 'id': '25', 'altitude': '42', 'latitude': '41.395179', 'type': 'BIKE', 'streetNumber': '102', 'bikes': '0'}, {'status': 'OPN', 'slots': '8', 'streetName': 'Dos Maig', 'nearbyStations': '120, 121, 177, 371', 'longitude': '2.181981', 'id': '26', 'altitude': '28', 'latitude': '41.407035', 'type': 'BIKE', 'streetNumber': '230', 'bikes': '9'}, {'status': 'OPN', 'slots': '18', 'streetName': 'Provença', 'nearbyStations': '123, 189, 224, 374', 'longitude': '2.164415', 'id': '27', 'altitude': '49', 'latitude': '41.396881', 'type': 'BIKE', 'streetNumber': '322', 'bikes': '0'}, {'status': 'OPN', 'slots': '2', 'streetName': 'Marina', 'nearbyStations': '18, 20, 122, 277', 'longitude': '2.170871', 'id': '28', 'altitude': '49', 'latitude': '41.407261', 'type': 'BIKE', 'streetNumber': '311', 'bikes': '19'}, {'status': 'OPN', 'slots': '16', 'streetName': 'Provença', 'nearbyStations': '19, 224, 360, 370', 'longitude': '2.170082', 'id': '29', 'altitude': '50', 'latitude': '41.401101', 'type': 'BIKE', 'streetNumber': '388', 'bikes': '1'}, {'status': 'OPN', 'slots': '9', 'streetName': 'Diagonal', 'nearbyStations': '24, 218, 369, 371', 'longitude': '2.182286', 'id': '30', 'altitude': '28', 'latitude': '41.402046', 'type': 'BIKE', 'streetNumber': '231', 'bikes': '10'}, {'status': 'OPN', 'slots': '7', 'streetName': 'Plaça del Mar', 'nearbyStations': '33, 39, 41, 124', 'longitude': '2.18895', 'id': '31', 'altitude': '1', 'latitude': '41.37481', 'type': 'BIKE', 'streetNumber': '72', 'bikes': '9'}, {'status': 'OPN', 'slots': '11', 'streetName': 'Plaça del Mar', 'nearbyStations': '31, 33, 124, 400', 'longitude': '2.188927', 'id': '32', 'altitude': '1', 'latitude': '41.373698', 'type': 'BIKE', 'streetNumber': '1', 'bikes': '15'}, {'status': 'OPN', 'slots': '3', 'streetName': 'Baluart', 'nearbyStations': '31, 41, 124, 424', 'longitude': '2.190773', 'id': '33', 'altitude': '1', 'latitude': '41.376862', 'type': 'BIKE', 'streetNumber': '58', 'bikes': '17'}, {'status': 'OPN', 'slots': '0', 'streetName': 'Sant Pere Més Alt', 'nearbyStations': '36, 105, 359, 380', 'longitude': '2.175247', 'id': '34', 'altitude': '16', 'latitude': '41.387074', 'type': 'BIKE', 'streetNumber': '4', 'bikes': '18'}, {'status': 'OPN', 'slots': '13', 'streetName': 'Sant Ramon de Penyafort', 'nearbyStations': '157, 158, 159, 160', 'longitude': '2.221153', 'id': '35', 'altitude': '1', 'latitude': '41.413592', 'type': 'BIKE', 'streetNumber': '1', 'bikes': '13'}, {'status': 'OPN', 'slots': '2', 'streetName': 'Catedral', 'nearbyStations': '34, 35, 53, 358, 380', 'longitude': '2.176804', 'id': '36', 'altitude': '16', 'latitude': '41.385151', 'type': 'BIKE', 'streetNumber': '6', 'bikes': '19'}, {'status': 'OPN', 'slots': '19', 'streetName': 'Pl. Antonio López', 'nearbyStations': '38, 115, 126, 401', 'longitude': '2.181888', 'id': '37', 'altitude': '5', 'latitude': '41.381226', 'type': 'BIKE', 'streetNumber': '', 'bikes': '4'}, {'status': 'OPN', 'slots': '19', 'streetName': 'Pl. Pau Vila', 'nearbyStations': '39, 40, 124, 126', 'longitude': '2.186397', 'id': '38', 'altitude': '1', 'latitude': '41.381129', 'type': 'BIKE', 'streetNumber': '', 'bikes': '0'}, {'status': 'OPN', 'slots': '3', 'streetName': 'Pl. Pau Vila', 'nearbyStations': '38, 40, 124, 126', 'longitude': '2.186576', 'id': '39', 'altitude': '1', 'latitude': '41.381046', 'type': 'BIKE', 'streetNumber': '', 'bikes': '17'}, {'status': 'OPN', 'slots': '2', 'streetName': 'Doctor Aiguader', 'nearbyStations': '37, 38, 116, 402', 'longitude': '2.186275', 'id': '40', 'altitude': '1', 'latitude': '41.382246', 'type': 'BIKE', 'streetNumber': '2', 'bikes': '8'}, {'status': 'OPN', 'slots': '4', 'streetName': 'Pl. Poeta Boscà\\\\/Atlàntida', 'nearbyStations': '31, 39, 124, 424', 'longitude': '2.189906', 'id': '41', 'altitude': '1', 'latitude': '41.379326', 'type': 'BIKE', 'streetNumber': '', 'bikes': '16'}, {'status': 'OPN', 'slots': '18', 'streetName': 'Ciutat de Granada', 'nearbyStations': '43, 44, 133, 286', 'longitude': '2.190379', 'id': '42', 'altitude': '18', 'latitude': '41.404418', 'type': 'BIKE', 'streetNumber': '168', 'bikes': '0'}, {'status': 'OPN', 'slots': '21', 'streetName': 'Av Meridiana', 'nearbyStations': '30, 42, 44, 218', 'longitude': '2.18712', 'id': '43', 'altitude': '18', 'latitude': '41.40541', 'type': 'BIKE', 'streetNumber': '80', 'bikes': '3'}, {'status': 'OPN', 'slots': '21', 'streetName': 'Av Meridiana', 'nearbyStations': '30, 42, 43, 286', 'longitude': '2.187136', 'id': '44', 'altitude': '18', 'latitude': '41.402165', 'type': 'BIKE', 'streetNumber': '66', 'bikes': '0'}, {'status': 'OPN', 'slots': '8', 'streetName': 'Marina ', 'nearbyStations': '47, 118, 392, 409', 'longitude': '2.190426', 'id': '45', 'altitude': '18', 'latitude': '41.392005', 'type': 'BIKE', 'streetNumber': '65', 'bikes': '9'}, {'status': 'OPN', 'slots': '28', 'streetName': 'Ramon trias Fargas', 'nearbyStations': '47, 69, 392, 407', 'longitude': '2.193004', 'id': '46', 'altitude': '1', 'latitude': '41.388359', 'type': 'BIKE', 'streetNumber': '19', 'bikes': '1'}, {'status': 'OPN', 'slots': '30', 'streetName': 'Ramon Trias Fargas', 'nearbyStations': '13, 46, 392, 407', 'longitude': '2.192104', 'id': '47', 'altitude': '1', 'latitude': '41.389076', 'type': 'BIKE', 'streetNumber': '', 'bikes': '0'}, {'status': 'OPN', 'slots': '12', 'streetName': 'Meridiana', 'nearbyStations': '16, 118, 149, 211', 'longitude': '2.18708', 'id': '48', 'altitude': '18', 'latitude': '41.395261', 'type': 'BIKE', 'streetNumber': '40', 'bikes': '3'}, {'status': 'OPN', 'slots': '6', 'streetName': 'Rosa Sensat en front', 'nearbyStations': '46, 117, 163, 396', 'longitude': '2.196457', 'id': '49', 'altitude': '1', 'latitude': '41.39106', 'type': 'BIKE', 'streetNumber': '20', 'bikes': '14'}, {'status': 'OPN', 'slots': '5', 'streetName': 'Av. Paral.lel', 'nearbyStations': '114, 187, 232, 233', 'longitude': '2.17035', 'id': '50', 'altitude': '1', 'latitude': '41.375', 'type': 'BIKE', 'streetNumber': '54', 'bikes': '21'}, {'status': 'OPN', 'slots': '6', 'streetName': 'Pl. Vicenç Martorell', 'nearbyStations': '55, 58, 59, 63', 'longitude': '2.169019', 'id': '51', 'altitude': '32', 'latitude': '41.384054', 'type': 'BIKE', 'streetNumber': '', 'bikes': '13'}, {'status': 'OPN', 'slots': '16', 'streetName': 'Pl. Carles Pi i Sunyer', 'nearbyStations': '34, 36, 380, 395', 'longitude': '2.173878', 'id': '53', 'altitude': '32', 'latitude': '41.385227', 'type': 'BIKE', 'streetNumber': '', 'bikes': '8'}, {'status': 'OPN', 'slots': '12', 'streetName': 'Sant Oleguer', 'nearbyStations': '114, 187, 388, 415', 'longitude': '2.17074', 'id': '54', 'altitude': '24', 'latitude': '41.377553', 'type': 'BIKE', 'streetNumber': '16', 'bikes': '3'}, {'status': 'OPN', 'slots': '6', 'streetName': 'La Rambla', 'nearbyStations': '54, 378, 379, 395', 'longitude': '2.173497', 'id': '55', 'altitude': '24', 'latitude': '41.381154', 'type': 'BIKE', 'streetNumber': '80', 'bikes': '14'}, {'status': 'OPN', 'slots': '18', 'streetName': 'Portal de Santa Madrona', 'nearbyStations': '54, 57, 378, 425', 'longitude': '2.175834', 'id': '56', 'altitude': '5', 'latitude': '41.377011', 'type': 'BIKE', 'streetNumber': '2', 'bikes': '6'}, {'status': 'OPN', 'slots': '25', 'streetName': 'La Rambla', 'nearbyStations': '56, 114, 361, 378', 'longitude': '2.177093', 'id': '57', 'altitude': '5', 'latitude': '41.376758', 'type': 'BIKE', 'streetNumber': '2', 'bikes': '1'}, {'status': 'OPN', 'slots': '6', 'streetName': 'Plaça dels Àngels', 'nearbyStations': '51, 59, 381, 388', 'longitude': '2.167154', 'id': '58', 'altitude': '24', 'latitude': '41.382822', 'type': 'BIKE', 'streetNumber': '1', 'bikes': '14'}, {'status': 'OPN', 'slots': '14', 'streetName': 'Plaça dels Àngels', 'nearbyStations': '51, 58, 381, 388', 'longitude': '2.167203', 'id': '59', 'altitude': '24', 'latitude': '41.382781', 'type': 'BIKE', 'streetNumber': '2', 'bikes': '6'}, {'status': 'OPN', 'slots': '27', 'streetName': 'Rambla Catalunya ', 'nearbyStations': '61, 66, 80, 364', 'longitude': '2.16424', 'id': '60', 'altitude': '41', 'latitude': '41.390349', 'type': 'BIKE', 'streetNumber': '47', 'bikes': '0'}, {'status': 'OPN', 'slots': '24', 'streetName': 'Rambla Catalunya', 'nearbyStations': '60, 80, 287, 364', 'longitude': '2.164946', 'id': '61', 'altitude': '41', 'latitude': '41.390143', 'type': 'BIKE', 'streetNumber': '42', 'bikes': '0'}, {'status': 'OPN', 'slots': '16', 'streetName': 'Pl. Catalunya ', 'nearbyStations': '63, 64, 65, 395', 'longitude': '2.168858', 'id': '62', 'altitude': '32', 'latitude': '41.387142', 'type': 'BIKE', 'streetNumber': '5', 'bikes': '5'}, {'status': 'OPN', 'slots': '25', 'streetName': 'Pl. Catalunya', 'nearbyStations': '62, 64, 65, 395', 'longitude': '2.169417', 'id': '63', 'altitude': '32', 'latitude': '41.386439', 'type': 'BIKE', 'streetNumber': '7', 'bikes': '0'}, {'status': 'OPN', 'slots': '9', 'streetName': 'Pl. Catalunya', 'nearbyStations': '62, 63, 65, 395', 'longitude': '2.169048', 'id': '64', 'altitude': '32', 'latitude': '41.387469', 'type': 'BIKE', 'streetNumber': '', 'bikes': '10'}, {'status': 'OPN', 'slots': '20', 'streetName': 'Pl. Catalunya', 'nearbyStations': '62, 63, 64, 395', 'longitude': '2.169587', 'id': '65', 'altitude': '32', 'latitude': '41.387678', 'type': 'BIKE', 'streetNumber': '', 'bikes': '0'}, {'status': 'OPN', 'slots': '15', 'streetName': 'Gran Via', 'nearbyStations': '61, 64, 79, 287', 'longitude': '2.167933', 'id': '66', 'altitude': '32', 'latitude': '41.389097', 'type': 'BIKE', 'streetNumber': '609', 'bikes': '0'}, {'status': 'OPN', 'slots': '20', 'streetName': 'Rocafort', 'nearbyStations': '75, 87, 89, 365', 'longitude': '2.145843', 'id': '67', 'altitude': '51', 'latitude': '41.385012', 'type': 'BIKE', 'streetNumber': '214', 'bikes': '2'}, {'status': 'OPN', 'slots': '22', 'streetName': 'Rambla Catalunya', 'nearbyStations': '72, 73, 92, 374', 'longitude': '2.157356', 'id': '68', 'altitude': '59', 'latitude': '41.395364', 'type': 'BIKE', 'streetNumber': '133', 'bikes': '3'}, {'status': 'OPN', 'slots': '33', 'streetName': 'Avda. Litoral', 'nearbyStations': '12, 13, 125, 397', 'longitude': '2.195689', 'id': '69', 'altitude': '1', 'latitude': '41.386814', 'type': 'BIKE', 'streetNumber': '', 'bikes': '0'}, {'status': 'OPN', 'slots': '10', 'streetName': 'Villarroel', 'nearbyStations': '71, 91, 113, 261', 'longitude': '2.161786', 'id': '70', 'altitude': '35', 'latitude': '41.381328', 'type': 'BIKE', 'streetNumber': '2', 'bikes': '11'}, {'status': 'OPN', 'slots': '1', 'streetName': 'Floridablanca ', 'nearbyStations': '70, 78, 113, 148', 'longitude': '2.162969', 'id': '71', 'altitude': '35', 'latitude': '41.381931', 'type': 'BIKE', 'streetNumber': '145', 'bikes': '18'}, {'status': 'OPN', 'slots': '25', 'streetName': 'Rosselló', 'nearbyStations': '68, 73, 92, 374', 'longitude': '2.157081', 'id': '72', 'altitude': '59', 'latitude': '41.393173', 'type': 'BIKE', 'streetNumber': '217', 'bikes': '1'}, {'status': 'OPN', 'slots': '18', 'streetName': 'Enric Granados', 'nearbyStations': '68, 72, 76, 92', 'longitude': '2.155788', 'id': '73', 'altitude': '59', 'latitude': '41.392846', 'type': 'BIKE', 'streetNumber': '99', 'bikes': '3'}, {'status': 'OPN', 'slots': '19', 'streetName': 'Josep Tarradellas', 'nearbyStations': '101, 102, 109, 366', 'longitude': '2.143102', 'id': '74', 'altitude': '51', 'latitude': '41.389391', 'type': 'BIKE', 'streetNumber': '129', 'bikes': '1'}, {'status': 'OPN', 'slots': '17', 'streetName': 'Josep Tarradellas', 'nearbyStations': '67, 99, 197, 365', 'longitude': '2.142868', 'id': '75', 'altitude': '51', 'latitude': '41.385081', 'type': 'BIKE', 'streetNumber': '58', 'bikes': '0'}, {'status': 'OPN', 'slots': '31', 'streetName': 'Còrsega', 'nearbyStations': '72, 73, 88, 90', 'longitude': '2.153123', 'id': '76', 'altitude': '45', 'latitude': '41.391751', 'type': 'BIKE', 'streetNumber': '216', 'bikes': '0'}, {'status': 'OPN', 'slots': '24', 'streetName': 'Pl. Universitat', 'nearbyStations': '71, 79, 209, 406', 'longitude': '2.16338', 'id': '78', 'altitude': '41', 'latitude': '41.385598', 'type': 'BIKE', 'streetNumber': '', 'bikes': '2'}, {'status': 'OPN', 'slots': '21', 'streetName': 'Pl. Universitat', 'nearbyStations': '78, 209, 287, 406', 'longitude': '2.16333', 'id': '79', 'altitude': '41', 'latitude': '41.38547', 'type': 'BIKE', 'streetNumber': '', 'bikes': '1'}, {'status': 'OPN', 'slots': '17', 'streetName': 'Enric Granados', 'nearbyStations': '60, 209, 385, 394', 'longitude': '2.159999', 'id': '80', 'altitude': '41', 'latitude': '41.389687', 'type': 'BIKE', 'streetNumber': '35', 'bikes': '0'}, {'status': 'OPN', 'slots': '18', 'streetName': 'Vilamarí davant', 'nearbyStations': '82, 95, 97, 384', 'longitude': '2.149174', 'id': '81', 'altitude': '44', 'latitude': '41.378915', 'type': 'BIKE', 'streetNumber': '61', 'bikes': '3'}, {'status': 'OPN', 'slots': '1', 'streetName': 'Rocafort', 'nearbyStations': '67, 81, 111, 112', 'longitude': '2.153799', 'id': '82', 'altitude': '40', 'latitude': '41.379016', 'type': 'BIKE', 'streetNumber': '72', 'bikes': '29'}, {'status': 'OPN', 'slots': '19', 'streetName': 'Comte Borrell', 'nearbyStations': '87, 89, 110, 111', 'longitude': '2.153654', 'id': '83', 'altitude': '45', 'latitude': '41.384075', 'type': 'BIKE', 'streetNumber': '177', 'bikes': '4'}, {'status': 'OPN', 'slots': '13', 'streetName': 'Diputació', 'nearbyStations': '78, 91, 110, 209', 'longitude': '2.157577', 'id': '84', 'altitude': '35', 'latitude': '41.383374', 'type': 'BIKE', 'streetNumber': '152', 'bikes': '8'}, {'status': 'OPN', 'slots': '3', 'streetName': 'Paral·lel', 'nearbyStations': '112, 129, 235, 236', 'longitude': '2.159046', 'id': '85', 'altitude': '35', 'latitude': '41.375076', 'type': 'BIKE', 'streetNumber': '146', 'bikes': '20'}, {'status': 'OPN', 'slots': '0', 'streetName': 'Viladomat', 'nearbyStations': '85, 187, 235, 373', 'longitude': '2.163', 'id': '86', 'altitude': '35', 'latitude': '41.37544', 'type': 'BIKE', 'streetNumber': '2', 'bikes': '26'}, {'status': 'OPN', 'slots': '19', 'streetName': 'Mallorca', 'nearbyStations': '67, 111, 191, 384', 'longitude': '2.148506', 'id': '87', 'altitude': '44', 'latitude': '41.383156', 'type': 'BIKE', 'streetNumber': '41', 'bikes': '2'}, {'status': 'OPN', 'slots': '20', 'streetName': 'Londres', 'nearbyStations': '76, 109, 220, 350', 'longitude': '2.150764', 'id': '88', 'altitude': '59', 'latitude': '41.393547', 'type': 'BIKE', 'streetNumber': '101', 'bikes': '0'}, {'status': 'OPN', 'slots': '23', 'streetName': 'Rosselló', 'nearbyStations': '76, 90, 110, 365', 'longitude': '2.150169', 'id': '89', 'altitude': '45', 'latitude': '41.387953', 'type': 'BIKE', 'streetNumber': '101', 'bikes': '0'}, {'status': 'OPN', 'slots': '15', 'streetName': 'Rosselló', 'nearbyStations': '76, 89, 365, 385', 'longitude': '2.150825', 'id': '90', 'altitude': '45', 'latitude': '41.38834', 'type': 'BIKE', 'streetNumber': '108', 'bikes': '0'}, {'status': 'OPN', 'slots': '4', 'streetName': 'Comte Borrell', 'nearbyStations': '70, 112, 113, 261', 'longitude': '2.158403', 'id': '91', 'altitude': '35', 'latitude': '41.380452', 'type': 'BIKE', 'streetNumber': '119', 'bikes': '24'}, {'status': 'OPN', 'slots': '15', 'streetName': 'Provença', 'nearbyStations': '72, 73, 364, 374', 'longitude': '2.160237', 'id': '92', 'altitude': '50', 'latitude': '41.39386', 'type': 'BIKE', 'streetNumber': '241', 'bikes': '0'}, {'status': 'OPN', 'slots': '1', 'streetName': 'Gran Via', 'nearbyStations': '94, 95, 96, 420', 'longitude': '2.149786', 'id': '93', 'altitude': '40', 'latitude': '41.375454', 'type': 'BIKE', 'streetNumber': '375', 'bikes': '19'}, {'status': 'OPN', 'slots': '0', 'streetName': 'Gran Via', 'nearbyStations': '93, 95, 96, 420', 'longitude': '2.149889', 'id': '94', 'altitude': '40', 'latitude': '41.375619', 'type': 'BIKE', 'streetNumber': '375', 'bikes': '19'}, {'status': 'OPN', 'slots': '19', 'streetName': 'Tarragona', 'nearbyStations': '93, 96, 97, 186', 'longitude': '2.147734', 'id': '95', 'altitude': '44', 'latitude': '41.376428', 'type': 'BIKE', 'streetNumber': '103', 'bikes': '11'}, {'status': 'OPN', 'slots': '16', 'streetName': 'Gran Via', 'nearbyStations': '93, 95, 186, 420', 'longitude': '2.148154', 'id': '96', 'altitude': '61', 'latitude': '41.374152', 'type': 'BIKE', 'streetNumber': '361', 'bikes': '4'}, {'status': 'OPN', 'slots': '8', 'streetName': 'Tarragona', 'nearbyStations': '81, 95, 100, 186', 'longitude': '2.145389', 'id': '97', 'altitude': '44', 'latitude': '41.378124', 'type': 'BIKE', 'streetNumber': '141', 'bikes': '11'}, {'status': 'OPN', 'slots': '5', 'streetName': 'Viriat', 'nearbyStations': '75, 99, 100, 421', 'longitude': '2.141697', 'id': '98', 'altitude': '44', 'latitude': '41.380658', 'type': 'BIKE', 'streetNumber': '45', 'bikes': '13'}, {'status': 'OPN', 'slots': '12', 'streetName': 'Viriat', 'nearbyStations': '98, 100, 195, 421', 'longitude': '2.141548', 'id': '99', 'altitude': '44', 'latitude': '41.380632', 'type': 'BIKE', 'streetNumber': '53', 'bikes': '6'}, {'status': 'OPN', 'slots': '11', 'streetName': 'Tarragona', 'nearbyStations': '97, 98, 99, 384', 'longitude': '2.14409', 'id': '100', 'altitude': '44', 'latitude': '41.379135', 'type': 'BIKE', 'streetNumber': '159', 'bikes': '5'}, {'status': 'OPN', 'slots': '20', 'streetName': 'Av. Diagonal', 'nearbyStations': '74, 102, 319, 366', 'longitude': '2.14321', 'id': '101', 'altitude': '69', 'latitude': '41.39243', 'type': 'BIKE', 'streetNumber': '602', 'bikes': '1'}, {'status': 'OPN', 'slots': '22', 'streetName': 'Av. Diagonal', 'nearbyStations': '74, 102, 319, 366', 'longitude': '2.14213', 'id': '102', 'altitude': '69', 'latitude': '41.39218', 'type': 'BIKE', 'streetNumber': '612', 'bikes': '0'}, {'status': 'OPN', 'slots': '19', 'streetName': 'Aragó', 'nearbyStations': '26, 104, 127, 132', 'longitude': '2.188217', 'id': '103', 'altitude': '17', 'latitude': '41.409856', 'type': 'BIKE', 'streetNumber': '629', 'bikes': '0'}, {'status': 'OPN', 'slots': '21', 'streetName': 'C\\\\/València', 'nearbyStations': '26, 103, 127, 177', 'longitude': '2.187365', 'id': '104', 'altitude': '17', 'latitude': '41.410821', 'type': 'BIKE', 'streetNumber': '621', 'bikes': '3'}, {'status': 'OPN', 'slots': '19', 'streetName': 'PL. Urquinaona', 'nearbyStations': '65, 359, 363, 412', 'longitude': '2.173424', 'id': '105', 'altitude': '32', 'latitude': '41.389069', 'type': 'BIKE', 'streetNumber': '9', 'bikes': '2'}, {'status': 'OPN', 'slots': '15', 'streetName': 'Pl. Joanic', 'nearbyStations': '108, 122, 226, 231', 'longitude': '2.162317', 'id': '106', 'altitude': '59', 'latitude': '41.405587', 'type': 'BIKE', 'streetNumber': 's\\\\/n', 'bikes': '5'}, {'status': 'OPN', 'slots': '20', 'streetName': 'Travessera de Gracia', 'nearbyStations': '68, 219, 220, 223', 'longitude': '2.153128', 'id': '107', 'altitude': '59', 'latitude': '41.398298', 'type': 'BIKE', 'streetNumber': '92', 'bikes': '0'}, {'status': 'OPN', 'slots': '15', 'streetName': 'Indústria', 'nearbyStations': '29, 122, 224, 226', 'longitude': '2.164961', 'id': '108', 'altitude': '59', 'latitude': '41.402314', 'type': 'BIKE', 'streetNumber': '10', 'bikes': '4'}, {'status': 'OPN', 'slots': '19', 'streetName': 'C\\\\/ Londres', 'nearbyStations': '89, 101, 350, 365', 'longitude': '2.14737', 'id': '109', 'altitude': '51', 'latitude': '41.390981', 'type': 'BIKE', 'streetNumber': '53', 'bikes': '0'}, {'status': 'OPN', 'slots': '21', 'streetName': 'Avda. Roma', 'nearbyStations': '83, 84, 209, 385', 'longitude': '2.154813', 'id': '110', 'altitude': '45', 'latitude': '41.385554', 'type': 'BIKE', 'streetNumber': '117', 'bikes': '0'}, {'status': 'OPN', 'slots': '3', 'streetName': 'Calabria', 'nearbyStations': '81, 82, 83, 262', 'longitude': '2.15308', 'id': '111', 'altitude': '40', 'latitude': '41.38122', 'type': 'BIKE', 'streetNumber': '134', 'bikes': '15'}, {'status': 'OPN', 'slots': '4', 'streetName': 'Floridablanca', 'nearbyStations': '82, 91, 94, 113', 'longitude': '2.15725', 'id': '112', 'altitude': '40', 'latitude': '41.377644', 'type': 'BIKE', 'streetNumber': '49', 'bikes': '16'}, {'status': 'OPN', 'slots': '0', 'streetName': 'Comte Borrell', 'nearbyStations': '70, 91, 112, 129', 'longitude': '2.160801', 'id': '113', 'altitude': '35', 'latitude': '41.378836', 'type': 'BIKE', 'streetNumber': '60', 'bikes': '27'}, {'status': 'OPN', 'slots': '5', 'streetName': 'Pl. Jean Genet', 'nearbyStations': '50, 54, 56, 425', 'longitude': '2.173039', 'id': '114', 'altitude': '24', 'latitude': '41.376801', 'type': 'BIKE', 'streetNumber': '1', 'bikes': '15'}, {'status': 'OPN', 'slots': '0', 'streetName': \"Marqués d'Argentera\", 'nearbyStations': '10, 14, 37, 401', 'longitude': '2.18424', 'id': '115', 'altitude': '1', 'latitude': '41.38377', 'type': 'BIKE', 'streetNumber': '3', 'bikes': '20'}, {'status': 'OPN', 'slots': '25', 'streetName': 'Salvat Papasseit', 'nearbyStations': '11, 13, 38, 39', 'longitude': '2.191414', 'id': '116', 'altitude': '11', 'latitude': '41.383718', 'type': 'BIKE', 'streetNumber': '72', 'bikes': '2'}, {'status': 'OPN', 'slots': '6', 'streetName': 'Rosa Sensat', 'nearbyStations': '46, 49, 163, 396', 'longitude': '2.197024', 'id': '117', 'altitude': '1', 'latitude': '41.390666', 'type': 'BIKE', 'streetNumber': '12', 'bikes': '15'}, {'status': 'OPN', 'slots': '12', 'streetName': 'Pujades', 'nearbyStations': '7, 8, 45, 149', 'longitude': '2.187302', 'id': '118', 'altitude': '18', 'latitude': '41.391884', 'type': 'BIKE', 'streetNumber': '1', 'bikes': '14'}, {'status': 'OPN', 'slots': '9', 'streetName': 'Ausiàs March', 'nearbyStations': '3, 372, 387, 426', 'longitude': '2.182802', 'id': '119', 'altitude': '21', 'latitude': '41.396632', 'type': 'BIKE', 'streetNumber': '122', 'bikes': '9'}, {'status': 'OPN', 'slots': '12', 'streetName': 'Lepant', 'nearbyStations': '18, 22, 121, 370', 'longitude': '2.176515', 'id': '120', 'altitude': '28', 'latitude': '41.404666', 'type': 'BIKE', 'streetNumber': '278', 'bikes': '9'}, {'status': 'OPN', 'slots': '12', 'streetName': 'Castillejos', 'nearbyStations': '18, 26, 120, 371', 'longitude': '2.178689', 'id': '121', 'altitude': '28', 'latitude': '41.406293', 'type': 'BIKE', 'streetNumber': '258', 'bikes': '9'}, {'status': 'OPN', 'slots': '17', 'streetName': 'Nàpols', 'nearbyStations': '19, 106, 108, 277', 'longitude': '2.16624', 'id': '122', 'altitude': '59', 'latitude': '41.405435', 'type': 'BIKE', 'streetNumber': '344', 'bikes': '2'}, {'status': 'OPN', 'slots': '11', 'streetName': 'Girona', 'nearbyStations': '27, 189, 224, 362', 'longitude': '2.167798', 'id': '123', 'altitude': '42', 'latitude': '41.397411', 'type': 'BIKE', 'streetNumber': '126', 'bikes': '9'}, {'status': 'OPN', 'slots': '21', 'streetName': 'Passeig Joan de Borbó', 'nearbyStations': '31, 32, 41, 400', 'longitude': '2.187808', 'id': '124', 'altitude': '5', 'latitude': '41.370297', 'type': 'BIKE', 'streetNumber': 's\\\\/n', 'bikes': '2'}, {'status': 'OPN', 'slots': '17', 'streetName': 'Passeig Maritim', 'nearbyStations': '12, 13, 69, 398', 'longitude': '2.195595', 'id': '125', 'altitude': '1', 'latitude': '41.384426', 'type': 'BIKE', 'streetNumber': '31', 'bikes': '1'}, {'status': 'OPN', 'slots': '10', 'streetName': 'Passeig de Colom', 'nearbyStations': '37, 115, 377, 402', 'longitude': '2.182243', 'id': '126', 'altitude': '5', 'latitude': '41.380641', 'type': 'BIKE', 'streetNumber': '', 'bikes': '9'}, {'status': 'OPN', 'slots': '4', 'streetName': 'Aragó', 'nearbyStations': '103, 104, 128, 238', 'longitude': '2.19142', 'id': '127', 'altitude': '17', 'latitude': '41.412322', 'type': 'BIKE', 'streetNumber': '661', 'bikes': '23'}, {'status': 'OPN', 'slots': '15', 'streetName': 'Rambla Guipúscoa', 'nearbyStations': '127, 130, 135, 238', 'longitude': '2.19581', 'id': '128', 'altitude': '13', 'latitude': '41.415581', 'type': 'BIKE', 'streetNumber': '43', 'bikes': '15'}, {'status': 'OPN', 'slots': '14', 'streetName': 'Manso', 'nearbyStations': '91, 112, 113, 148', 'longitude': '2.16124', 'id': '129', 'altitude': '35', 'latitude': '41.37709', 'type': 'BIKE', 'streetNumber': '46', 'bikes': '12'}, {'status': 'OPN', 'slots': '1', 'streetName': 'Rambla Guipúscoa', 'nearbyStations': '127, 128, 131, 139', 'longitude': '2.201573', 'id': '130', 'altitude': '9', 'latitude': '41.419905', 'type': 'BIKE', 'streetNumber': '103', 'bikes': '22'}, {'status': 'OPN', 'slots': '7', 'streetName': 'Rambla Guipúscoa', 'nearbyStations': '130, 139, 316, 317', 'longitude': '2.206036', 'id': '131', 'altitude': '9', 'latitude': '41.422808', 'type': 'BIKE', 'streetNumber': '158', 'bikes': '19'}, {'status': 'OPN', 'slots': '25', 'streetName': 'Pl. Valentí Amirall', 'nearbyStations': '42, 103, 133, 141', 'longitude': '2.192173', 'id': '132', 'altitude': '13', 'latitude': '41.408439', 'type': 'BIKE', 'streetNumber': '', 'bikes': '0'}, {'status': 'OPN', 'slots': '15', 'streetName': 'Gran Vía', 'nearbyStations': '42, 43, 132, 141', 'longitude': '2.192819', 'id': '133', 'altitude': '16', 'latitude': '41.407411', 'type': 'BIKE', 'streetNumber': '902', 'bikes': '3'}, {'status': 'OPN', 'slots': '2', 'streetName': 'Gran Via', 'nearbyStations': '135, 136, 141, 145', 'longitude': '2.198126', 'id': '134', 'altitude': '13', 'latitude': '41.411315', 'type': 'BIKE', 'streetNumber': '990', 'bikes': '17'}, {'status': 'OPN', 'slots': '13', 'streetName': 'Gran Vía', 'nearbyStations': '136, 137, 141', 'longitude': '2.197936', 'id': '135', 'altitude': '13', 'latitude': '41.411908', 'type': 'BIKE', 'streetNumber': '981', 'bikes': '5'}, {'status': 'OPN', 'slots': '7', 'streetName': 'Gran Vía', 'nearbyStations': '137, 138, 146', 'longitude': '2.201734', 'id': '136', 'altitude': '9', 'latitude': '41.414226', 'type': 'BIKE', 'streetNumber': '1062', 'bikes': '18'}, {'status': 'OPN', 'slots': '18', 'streetName': 'Gran Vía, 1041\\\\/ Selva de Mar', 'nearbyStations': '130, 136, 138, 146', 'longitude': '2.201538', 'id': '137', 'altitude': '9', 'latitude': '41.414758', 'type': 'BIKE', 'streetNumber': '1041', 'bikes': '7'}, {'status': 'OPN', 'slots': '18', 'streetName': 'Gran Vía', 'nearbyStations': '136, 137, 139, 147', 'longitude': '2.205397', 'id': '138', 'altitude': '9', 'latitude': '41.416966', 'type': 'BIKE', 'streetNumber': '1118', 'bikes': '4'}, {'status': 'OPN', 'slots': '10', 'streetName': 'Gran Vía', 'nearbyStations': '130, 131, 138, 147', 'longitude': '2.206023', 'id': '139', 'altitude': '9', 'latitude': '41.418035', 'type': 'BIKE', 'streetNumber': '1131', 'bikes': '15'}, {'status': 'OPN', 'slots': '9', 'streetName': 'Viladomat', 'nearbyStations': '82, 91, 111, 262', 'longitude': '2.15614', 'id': '140', 'altitude': '41', 'latitude': '41.38063', 'type': 'BIKE', 'streetNumber': '122', 'bikes': '17'}, {'status': 'OPN', 'slots': '26', 'streetName': 'Gran Via ', 'nearbyStations': '42, 132, 133, 135', 'longitude': '2.194896', 'id': '141', 'altitude': '13', 'latitude': '41.40902', 'type': 'BIKE', 'streetNumber': '940', 'bikes': '0'}, {'status': 'OPN', 'slots': '33', 'streetName': 'Sancho de Ávila', 'nearbyStations': '42, 44, 143, 211', 'longitude': '2.192511', 'id': '142', 'altitude': '16', 'latitude': '41.400503', 'type': 'BIKE', 'streetNumber': '104', 'bikes': '0'}, {'status': 'OPN', 'slots': '23', 'streetName': 'Sancho de Ávila', 'nearbyStations': '42, 144, 152, 153, 428', 'longitude': '2.19606', 'id': '143', 'altitude': '16', 'latitude': '41.40325', 'type': 'BIKE', 'streetNumber': '170', 'bikes': '4'}, {'status': 'OPN', 'slots': '22', 'streetName': 'Castella', 'nearbyStations': '42, 143, 150, 286', 'longitude': '2.19764', 'id': '144', 'altitude': '16', 'latitude': '41.40562', 'type': 'BIKE', 'streetNumber': '28', 'bikes': '2'}, {'status': 'OPN', 'slots': '16', 'streetName': 'Pere IV', 'nearbyStations': '135, 146, 150, 156', 'longitude': '2.202904', 'id': '145', 'altitude': '9', 'latitude': '41.40982', 'type': 'BIKE', 'streetNumber': '301', 'bikes': '9'}, {'status': 'OPN', 'slots': '16', 'streetName': 'Pere IV', 'nearbyStations': '136, 137, 138, 145', 'longitude': '2.204841', 'id': '146', 'altitude': '9', 'latitude': '41.412453', 'type': 'BIKE', 'streetNumber': '383', 'bikes': '11'}, {'status': 'OPN', 'slots': '5', 'streetName': 'Rambla Prim', 'nearbyStations': '146, 157, 158, 159', 'longitude': '2.212658', 'id': '147', 'altitude': '5', 'latitude': '41.416018', 'type': 'BIKE', 'streetNumber': '79', 'bikes': '20'}, {'status': 'OPN', 'slots': '3', 'streetName': 'Ronda Sant Pau', 'nearbyStations': '70, 113, 388, 415', 'longitude': '2.163324', 'id': '148', 'altitude': '79', 'latitude': '41.378436', 'type': 'BIKE', 'streetNumber': '79', 'bikes': '21'}, {'status': 'OPN', 'slots': '25', 'streetName': 'Pujades', 'nearbyStations': '45, 48, 118, 409', 'longitude': '2.192958', 'id': '149', 'altitude': '11', 'latitude': '41.395905', 'type': 'BIKE', 'streetNumber': '57B', 'bikes': '0'}, {'status': 'OPN', 'slots': '22', 'streetName': 'Espronceda', 'nearbyStations': '144, 145, 154, 155', 'longitude': '2.203112', 'id': '150', 'altitude': '10', 'latitude': '41.406549', 'type': 'BIKE', 'streetNumber': '124', 'bikes': '2'}, {'status': 'OPN', 'slots': '18', 'streetName': 'Pallars', 'nearbyStations': '152, 153, 211, 393, 428', 'longitude': '2.19719', 'id': '151', 'altitude': '6', 'latitude': '41.40065', 'type': 'BIKE', 'streetNumber': '462', 'bikes': '6'}, {'status': 'OPN', 'slots': '21', 'streetName': 'Pujades', 'nearbyStations': '143, 149, 153, 393', 'longitude': '2.197421', 'id': '152', 'altitude': '11', 'latitude': '41.39925', 'type': 'BIKE', 'streetNumber': '121', 'bikes': '4'}, {'status': 'OPN', 'slots': '1', 'streetName': 'Pujades', 'nearbyStations': '152, 154, 165, 393, 428', 'longitude': '2.200769', 'id': '153', 'altitude': '10', 'latitude': '41.401778', 'type': 'BIKE', 'streetNumber': '173', 'bikes': '23'}, {'status': 'OPN', 'slots': '4', 'streetName': 'Pujades', 'nearbyStations': '141, 153, 165, 382', 'longitude': '2.201656', 'id': '154', 'altitude': '10', 'latitude': '41.402454', 'type': 'BIKE', 'streetNumber': '191', 'bikes': '22'}, {'status': 'OPN', 'slots': '26', 'streetName': 'Pujades', 'nearbyStations': '150, 156, 162, 382', 'longitude': '2.207602', 'id': '155', 'altitude': '10', 'latitude': '41.406977', 'type': 'BIKE', 'streetNumber': '311', 'bikes': '3'}, {'status': 'OPN', 'slots': '16', 'streetName': 'Diagonal', 'nearbyStations': '145, 155, 157, 159', 'longitude': '2.208551', 'id': '156', 'altitude': '5', 'latitude': '41.408923', 'type': 'BIKE', 'streetNumber': '82', 'bikes': '9'}, {'status': 'OPN', 'slots': '8', 'streetName': 'C\\\\/Llull', 'nearbyStations': '35, 147, 158, 159, 160', 'longitude': '2.216337', 'id': '157', 'altitude': '5', 'latitude': '41.411636', 'type': 'BIKE', 'streetNumber': '396', 'bikes': '17'}, {'status': 'OPN', 'slots': '24', 'streetName': 'Rambla de Prim', 'nearbyStations': '35, 156, 157, 159, 160', 'longitude': '2.218742', 'id': '158', 'altitude': '1', 'latitude': '41.411655', 'type': 'BIKE', 'streetNumber': '1', 'bikes': '1'}, {'status': 'OPN', 'slots': '22', 'streetName': 'Avda. Diagonal', 'nearbyStations': '35, 156, 157, 158, 160', 'longitude': '2.216381', 'id': '159', 'altitude': '5', 'latitude': '41.410916', 'type': 'BIKE', 'streetNumber': '26', 'bikes': '9'}, {'status': 'OPN', 'slots': '16', 'streetName': \"Avda. d'Eduard Maristany\", 'nearbyStations': '35, 156, 157, 158, 159', 'longitude': '2.219377', 'id': '160', 'altitude': '1', 'latitude': '41.411026', 'type': 'BIKE', 'streetNumber': '1', 'bikes': '15'}, {'status': 'OPN', 'slots': '22', 'streetName': 'Ramon Turro', 'nearbyStations': '49, 149, 163, 409', 'longitude': '2.196308', 'id': '161', 'altitude': '11', 'latitude': '41.395009', 'type': 'BIKE', 'streetNumber': '91', 'bikes': '4'}, {'status': 'OPN', 'slots': '21', 'streetName': 'Ramon Turro', 'nearbyStations': '155, 166, 167, 168', 'longitude': '2.208752', 'id': '162', 'altitude': '0', 'latitude': '41.404367', 'type': 'BIKE', 'streetNumber': '287', 'bikes': '3'}, {'status': 'OPN', 'slots': '24', 'streetName': 'Avda. Icaria', 'nearbyStations': '49, 117, 161, 172', 'longitude': '2.20077', 'id': '163', 'altitude': '11', 'latitude': '41.3942', 'type': 'BIKE', 'streetNumber': '202', 'bikes': '1'}, {'status': 'OPN', 'slots': '17', 'streetName': 'Independència', 'nearbyStations': '20, 21, 177, 280', 'longitude': '2.178037', 'id': '164', 'altitude': '33', 'latitude': '41.41194', 'type': 'BIKE', 'streetNumber': '379', 'bikes': '10'}, {'status': 'OPN', 'slots': '0', 'streetName': 'Carrer del Doctor Trueta', 'nearbyStations': '153, 154, 166, 173', 'longitude': '2.204253', 'id': '165', 'altitude': '0', 'latitude': '41.399196', 'type': 'BIKE', 'streetNumber': '221', 'bikes': '20'}, {'status': 'OPN', 'slots': '9', 'streetName': 'Passeig de Taulat', 'nearbyStations': '162, 165, 173, 174', 'longitude': '2.207632', 'id': '166', 'altitude': '10', 'latitude': '41.401077', 'type': 'BIKE', 'streetNumber': '116', 'bikes': '16'}, {'status': 'OPN', 'slots': '21', 'streetName': 'Passeig de Taulat', 'nearbyStations': '162, 166, 168, 176', 'longitude': '2.211166', 'id': '167', 'altitude': '0', 'latitude': '41.403446', 'type': 'BIKE', 'streetNumber': '188', 'bikes': '5'}, {'status': 'OPN', 'slots': '19', 'streetName': 'Passeig de Taulat', 'nearbyStations': '162, 167, 176, 178', 'longitude': '2.213518', 'id': '168', 'altitude': '0', 'latitude': '41.405216', 'type': 'BIKE', 'streetNumber': '238', 'bikes': '6'}, {'status': 'OPN', 'slots': '23', 'streetName': 'Avda. Litoral', 'nearbyStations': '11, 170, 172, 397', 'longitude': '2.200055', 'id': '169', 'altitude': '0', 'latitude': '41.389896', 'type': 'BIKE', 'streetNumber': '40', 'bikes': '2'}, {'status': 'OPN', 'slots': '15', 'streetName': 'Avda. Litoral', 'nearbyStations': '117, 169, 172, 397', 'longitude': '2.199934', 'id': '170', 'altitude': '1', 'latitude': '41.389732', 'type': 'BIKE', 'streetNumber': '40', 'bikes': '10'}, {'status': 'OPN', 'slots': '7', 'streetName': 'Passeig Marítim de la Nova Icària', 'nearbyStations': '163, 169, 170, 172', 'longitude': '2.203699', 'id': '171', 'altitude': '0', 'latitude': '41.391986', 'type': 'BIKE', 'streetNumber': '83', 'bikes': '20'}, {'status': 'OPN', 'slots': '21', 'streetName': 'Passeig Marítim de la Nova Icària', 'nearbyStations': '163, 169, 170, 171', 'longitude': '2.203436', 'id': '172', 'altitude': '0', 'latitude': '41.391831', 'type': 'BIKE', 'streetNumber': '83', 'bikes': '0'}, {'status': 'OPN', 'slots': '15', 'streetName': 'Avda. Litoral', 'nearbyStations': '166, 171, 174, 190', 'longitude': '2.208982', 'id': '173', 'altitude': '0', 'latitude': '41.398027', 'type': 'BIKE', 'streetNumber': '84', 'bikes': '9'}, {'status': 'OPN', 'slots': '10', 'streetName': 'Passeig de Garcia Fària', 'nearbyStations': '166, 173, 176, 178', 'longitude': '2.210461', 'id': '174', 'altitude': '0', 'latitude': '41.40061', 'type': 'BIKE', 'streetNumber': '21', 'bikes': '13'}, {'status': 'OPN', 'slots': '24', 'streetName': 'Llull \\\\/ Provençals', 'nearbyStations': '155, 156, 162, 167', 'longitude': '2.20956', 'id': '175', 'altitude': '10', 'latitude': '41.40666', 'type': 'BIKE', 'streetNumber': '309', 'bikes': '1'}, {'status': 'OPN', 'slots': '23', 'streetName': 'Passeig de Garcia Fària', 'nearbyStations': '167, 168, 174, 178', 'longitude': '2.212641', 'id': '176', 'altitude': '0', 'latitude': '41.402541', 'type': 'BIKE', 'streetNumber': '37', 'bikes': '2'}, {'status': 'OPN', 'slots': '3', 'streetName': 'Rosselló', 'nearbyStations': '20, 121, 164, 280', 'longitude': '2.181119', 'id': '177', 'altitude': '0', 'latitude': '41.411089', 'type': 'BIKE', 'streetNumber': '557', 'bikes': '23'}, {'status': 'OPN', 'slots': '25', 'streetName': 'Passeig de Garcia Fària', 'nearbyStations': '162, 166, 167, 168', 'longitude': '2.216212', 'id': '178', 'altitude': '0', 'latitude': '41.405389', 'type': 'BIKE', 'streetNumber': '85', 'bikes': '0'}, {'status': 'OPN', 'slots': '23', 'streetName': 'Rambla Badal', 'nearbyStations': '184, 351, 352, 404', 'longitude': '2.135678', 'id': '179', 'altitude': '48', 'latitude': '41.365306', 'type': 'BIKE', 'streetNumber': '2', 'bikes': '3'}, {'status': 'OPN', 'slots': '22', 'streetName': 'Gran Via', 'nearbyStations': '179, 181, 182, 183', 'longitude': '2.13926', 'id': '180', 'altitude': '50', 'latitude': '41.36778', 'type': 'BIKE', 'streetNumber': '181', 'bikes': '2'}, {'status': 'OPN', 'slots': '25', 'streetName': 'Gran Via', 'nearbyStations': '179, 180, 182, 183', 'longitude': '2.13911', 'id': '181', 'altitude': '50', 'latitude': '41.36766', 'type': 'BIKE', 'streetNumber': '180', 'bikes': '0'}, {'status': 'OPN', 'slots': '7', 'streetName': 'Gran Via', 'nearbyStations': '96, 180, 183, 420', 'longitude': '2.143882', 'id': '182', 'altitude': '61', 'latitude': '41.371455', 'type': 'BIKE', 'streetNumber': '273', 'bikes': '18'}, {'status': 'OPN', 'slots': '22', 'streetName': 'Gavà', 'nearbyStations': '181, 182, 185, 420', 'longitude': '2.141875', 'id': '183', 'altitude': '61', 'latitude': '41.372338', 'type': 'BIKE', 'streetNumber': '1', 'bikes': '4'}, {'status': 'OPN', 'slots': '16', 'streetName': 'Quetzal', 'nearbyStations': '179, 180, 185, 404', 'longitude': '2.134088', 'id': '184', 'altitude': '50', 'latitude': '41.367504', 'type': 'BIKE', 'streetNumber': '22', 'bikes': '9'}, {'status': 'OPN', 'slots': '16', 'streetName': 'Gavà', 'nearbyStations': '180, 181, 184, 404', 'longitude': '2.138994', 'id': '185', 'altitude': '50', 'latitude': '41.37046', 'type': 'BIKE', 'streetNumber': '81', 'bikes': '3'}, {'status': 'OPN', 'slots': '23', 'streetName': 'Consell de Cent', 'nearbyStations': '95, 96, 210, 420', 'longitude': '2.143812', 'id': '186', 'altitude': '44', 'latitude': '41.375571', 'type': 'BIKE', 'streetNumber': '6', 'bikes': '4'}, {'status': 'OPN', 'slots': '14', 'streetName': 'Carrer de Sant Pau', 'nearbyStations': '50, 54, 416, 427', 'longitude': '2.169811', 'id': '187', 'altitude': '24', 'latitude': '41.376858', 'type': 'BIKE', 'streetNumber': '89', 'bikes': '2'}, {'status': 'OPN', 'slots': '3', 'streetName': 'Pl. Sants (Ps. S. Antoni)', 'nearbyStations': '210, 313, 354, 421', 'longitude': '2.135543', 'id': '188', 'altitude': '45', 'latitude': '41.375471', 'type': 'BIKE', 'streetNumber': '0', 'bikes': '24'}, {'status': 'OPN', 'slots': '26', 'streetName': 'Bruc', 'nearbyStations': '25, 27, 123, 224', 'longitude': '2.166163', 'id': '189', 'altitude': '50', 'latitude': '41.396918', 'type': 'BIKE', 'streetNumber': '130', 'bikes': '1'}, {'status': 'OPN', 'slots': '15', 'streetName': 'Avinguda Litoral', 'nearbyStations': '165, 171, 172, 173', 'longitude': '2.207803', 'id': '190', 'altitude': '0', 'latitude': '41.39606', 'type': 'BIKE', 'streetNumber': '72', 'bikes': '16'}, {'status': 'OPN', 'slots': '26', 'streetName': 'Rocafort', 'nearbyStations': '81, 87, 111, 384', 'longitude': '2.149094', 'id': '191', 'altitude': '44', 'latitude': '41.382564', 'type': 'BIKE', 'streetNumber': '167', 'bikes': '0'}, {'status': 'OPN', 'slots': '8', 'streetName': 'Joan Güell', 'nearbyStations': '188, 193, 194, 314', 'longitude': '2.132802', 'id': '192', 'altitude': '46', 'latitude': '41.379814', 'type': 'BIKE', 'streetNumber': '85', 'bikes': '15'}, {'status': 'OPN', 'slots': '15', 'streetName': 'Figols', 'nearbyStations': '192, 194, 199, 312', 'longitude': '2.128912', 'id': '193', 'altitude': '46', 'latitude': '41.381311', 'type': 'BIKE', 'streetNumber': '1', 'bikes': '6'}, {'status': 'OPN', 'slots': '26', 'streetName': 'Joan Güell', 'nearbyStations': '192, 193, 196, 200', 'longitude': '2.131652', 'id': '194', 'altitude': '46', 'latitude': '41.382258', 'type': 'BIKE', 'streetNumber': '139', 'bikes': '0'}, {'status': 'OPN', 'slots': '26', 'streetName': 'Comtes de Bell-lloc', 'nearbyStations': '192, 194, 196, 367', 'longitude': '2.136186', 'id': '195', 'altitude': '45', 'latitude': '41.38234', 'type': 'BIKE', 'streetNumber': '148', 'bikes': '0'}, {'status': 'OPN', 'slots': '27', 'streetName': 'Comte Bell-lloch', 'nearbyStations': '195, 198, 200, 367', 'longitude': '2.134698', 'id': '196', 'altitude': '57', 'latitude': '41.384522', 'type': 'BIKE', 'streetNumber': '216', 'bikes': '0'}, {'status': 'OPN', 'slots': '24', 'streetName': 'Taquigraf Serra', 'nearbyStations': '75, 196, 201, 367', 'longitude': '2.139821', 'id': '197', 'altitude': '57', 'latitude': '41.386398', 'type': 'BIKE', 'streetNumber': '18', 'bikes': '0'}, {'status': 'OPN', 'slots': '23', 'streetName': 'Vallespir', 'nearbyStations': '196, 200, 201, 205', 'longitude': '2.133282', 'id': '198', 'altitude': '60', 'latitude': '41.38512', 'type': 'BIKE', 'streetNumber': '198', 'bikes': '1'}, {'status': 'OPN', 'slots': '25', 'streetName': 'Mejía Lequerica', 'nearbyStations': '193, 200, 202, 312', 'longitude': '2.126933', 'id': '199', 'altitude': '46', 'latitude': '41.38182', 'type': 'BIKE', 'streetNumber': '2', 'bikes': '0'}, {'status': 'OPN', 'slots': '23', 'streetName': 'Can bruixa', 'nearbyStations': '193, 194, 196, 198', 'longitude': '2.131273', 'id': '200', 'altitude': '60', 'latitude': '41.383756', 'type': 'BIKE', 'streetNumber': '1', 'bikes': '0'}, {'status': 'OPN', 'slots': '30', 'streetName': 'Déu i Mata', 'nearbyStations': '198, 206, 207, 208', 'longitude': '2.135826', 'id': '201', 'altitude': '57', 'latitude': '41.388455', 'type': 'BIKE', 'streetNumber': '56', 'bikes': '1'}, {'status': 'OPN', 'slots': '27', 'streetName': 'Carrer de les Corts', 'nearbyStations': '199, 200, 203, 205', 'longitude': '2.128737', 'id': '202', 'altitude': '60', 'latitude': '41.385331', 'type': 'BIKE', 'streetNumber': '20', 'bikes': '0'}, {'status': 'OPN', 'slots': '14', 'streetName': 'Avda. Diagonal', 'nearbyStations': '204, 205, 212, 284', 'longitude': '2.128503', 'id': '203', 'altitude': '60', 'latitude': '41.388742', 'type': 'BIKE', 'streetNumber': '664', 'bikes': '19'}, {'status': 'OPN', 'slots': '31', 'streetName': 'Avda. Diagonal', 'nearbyStations': '202, 203, 205, 212', 'longitude': '2.125593', 'id': '204', 'altitude': '60', 'latitude': '41.388011', 'type': 'BIKE', 'streetNumber': '668', 'bikes': '0'}, {'status': 'OPN', 'slots': '8', 'streetName': 'Europa ', 'nearbyStations': '198, 202, 203, 284', 'longitude': '2.130838', 'id': '205', 'altitude': '60', 'latitude': '41.387465', 'type': 'BIKE', 'streetNumber': '25', 'bikes': '25'}, {'status': 'OPN', 'slots': '32', 'streetName': 'Avda. Diagonal', 'nearbyStations': '201, 207, 208, 284', 'longitude': '2.13284', 'id': '206', 'altitude': '60', 'latitude': '41.389845', 'type': 'BIKE', 'streetNumber': '650', 'bikes': '0'}, {'status': 'OPN', 'slots': '15', 'streetName': 'Avda. Diagonal', 'nearbyStations': '201, 204, 206, 208', 'longitude': '2.136665', 'id': '207', 'altitude': '57', 'latitude': '41.390828', 'type': 'BIKE', 'streetNumber': '634', 'bikes': '2'}, {'status': 'OPN', 'slots': '33', 'streetName': 'Avda. Diagonal', 'nearbyStations': '201, 206, 207, 366', 'longitude': '2.139116', 'id': '208', 'altitude': '57', 'latitude': '41.391451', 'type': 'BIKE', 'streetNumber': '630', 'bikes': '0'}, {'status': 'OPN', 'slots': '18', 'streetName': 'Diputació', 'nearbyStations': '71, 78, 84, 261', 'longitude': '2.161004', 'id': '209', 'altitude': '41', 'latitude': '41.385755', 'type': 'BIKE', 'streetNumber': '200', 'bikes': '9'}, {'status': 'OPN', 'slots': '3', 'streetName': 'Vilardell', 'nearbyStations': '183, 185, 186, 421', 'longitude': '2.142356', 'id': '210', 'altitude': '50', 'latitude': '41.37453', 'type': 'BIKE', 'streetNumber': '18', 'bikes': '24'}, {'status': 'OPN', 'slots': '28', 'streetName': 'Sancho de Ávila', 'nearbyStations': '16, 44, 48, 142', 'longitude': '2.190291', 'id': '211', 'altitude': '18', 'latitude': '41.398848', 'type': 'BIKE', 'streetNumber': '60', 'bikes': '1'}, {'status': 'OPN', 'slots': '11', 'streetName': 'Numancia', 'nearbyStations': '203, 206, 284, 325', 'longitude': '2.130319', 'id': '212', 'altitude': '82', 'latitude': '41.392173', 'type': 'BIKE', 'streetNumber': '212', 'bikes': '11'}, {'status': 'OPN', 'slots': '32', 'streetName': 'Doctor Fleming', 'nearbyStations': '207, 208, 214, 215', 'longitude': '2.135586', 'id': '213', 'altitude': '79', 'latitude': '41.392485', 'type': 'BIKE', 'streetNumber': '9', 'bikes': '0'}, {'status': 'OPN', 'slots': '30', 'streetName': 'Doctor Fleming', 'nearbyStations': '207, 208, 212, 213', 'longitude': '2.13496', 'id': '214', 'altitude': '79', 'latitude': '41.393976', 'type': 'BIKE', 'streetNumber': '19', 'bikes': '0'}, {'status': 'OPN', 'slots': '22', 'streetName': 'Carrer de Francesc Pérez Cabrero', 'nearbyStations': '102, 213, 214, 324', 'longitude': '2.138637', 'id': '215', 'altitude': '79', 'latitude': '41.394527', 'type': 'BIKE', 'streetNumber': '6', 'bikes': '0'}, {'status': 'OPN', 'slots': '26', 'streetName': 'Madrazo', 'nearbyStations': '101, 217, 219, 319', 'longitude': '2.144534', 'id': '216', 'altitude': '69', 'latitude': '41.396809', 'type': 'BIKE', 'streetNumber': '131', 'bikes': '0'}, {'status': 'OPN', 'slots': '25', 'streetName': 'Rector Ubach', 'nearbyStations': '102, 216, 219, 319', 'longitude': '2.143924', 'id': '217', 'altitude': '69', 'latitude': '41.398463', 'type': 'BIKE', 'streetNumber': '24', 'bikes': '0'}, {'status': 'OPN', 'slots': '15', 'streetName': 'Consell de Cent', 'nearbyStations': '30, 43, 369, 371', 'longitude': '2.183203', 'id': '218', 'altitude': '28', 'latitude': '41.404114', 'type': 'BIKE', 'streetNumber': '566', 'bikes': '11'}, {'status': 'OPN', 'slots': '8', 'streetName': 'Carre Laforja', 'nearbyStations': '107, 216, 217, 220', 'longitude': '2.147585', 'id': '219', 'altitude': '69', 'latitude': '41.397812', 'type': 'BIKE', 'streetNumber': '74', 'bikes': '19'}, {'status': 'OPN', 'slots': '26', 'streetName': 'Tuset', 'nearbyStations': '68, 88, 107, 219', 'longitude': '2.151482', 'id': '220', 'altitude': '59', 'latitude': '41.396229', 'type': 'BIKE', 'streetNumber': '19', 'bikes': '0'}, {'status': 'OPN', 'slots': '22', 'streetName': 'Gran de Gràcia', 'nearbyStations': '107, 222, 229, 230', 'longitude': '2.152519', 'id': '221', 'altitude': '71', 'latitude': '41.402535', 'type': 'BIKE', 'streetNumber': '155', 'bikes': '5'}, {'status': 'OPN', 'slots': '19', 'streetName': 'Carrer del Canó', 'nearbyStations': '107, 221, 226, 229', 'longitude': '2.157483', 'id': '222', 'altitude': '71', 'latitude': '41.40124', 'type': 'BIKE', 'streetNumber': '1', 'bikes': '3'}, {'status': 'OPN', 'slots': '30', 'streetName': 'Carrer de Bonavista', 'nearbyStations': '68, 224, 225, 374', 'longitude': '2.159865', 'id': '223', 'altitude': '50', 'latitude': '41.398311', 'type': 'BIKE', 'streetNumber': '14', 'bikes': '4'}, {'status': 'OPN', 'slots': '17', 'streetName': 'Bailèn', 'nearbyStations': '27, 108, 123, 189', 'longitude': '2.16644', 'id': '224', 'altitude': '50', 'latitude': '41.40011', 'type': 'BIKE', 'streetNumber': '158', 'bikes': '0'}, {'status': 'OPN', 'slots': '20', 'streetName': 'Mallorca', 'nearbyStations': '83, 87, 89, 191', 'longitude': '2.15057', 'id': '225', 'altitude': '44', 'latitude': '41.38482', 'type': 'BIKE', 'streetNumber': '84', 'bikes': '5'}, {'status': 'OPN', 'slots': '21', 'streetName': 'Montmany', 'nearbyStations': '106, 108, 122, 231', 'longitude': '2.161096', 'id': '226', 'altitude': '59', 'latitude': '41.403465', 'type': 'BIKE', 'streetNumber': '1', 'bikes': '2'}, {'status': 'OPN', 'slots': '21', 'streetName': 'Torrent de Les Flors', 'nearbyStations': '106, 228, 231, 357', 'longitude': '2.158678', 'id': '227', 'altitude': '59', 'latitude': '41.407837', 'type': 'BIKE', 'streetNumber': '102', 'bikes': '2'}, {'status': 'OPN', 'slots': '23', 'streetName': 'Pl. Del Nord', 'nearbyStations': '106, 227, 229, 230', 'longitude': '2.155794', 'id': '228', 'altitude': '71', 'latitude': '41.40694', 'type': 'BIKE', 'streetNumber': '5', 'bikes': '0'}, {'status': 'OPN', 'slots': '18', 'streetName': 'Carrer de la Santacreu', 'nearbyStations': '106, 226, 227, 228', 'longitude': '2.156874', 'id': '229', 'altitude': '71', 'latitude': '41.405107', 'type': 'BIKE', 'streetNumber': '2', 'bikes': '8'}, {'status': 'OPN', 'slots': '22', 'streetName': 'C. De Nil Fabra', 'nearbyStations': '221, 222, 228, 229', 'longitude': '2.151633', 'id': '230', 'altitude': '71', 'latitude': '41.405986', 'type': 'BIKE', 'streetNumber': '16', 'bikes': '5'}, {'status': 'OPN', 'slots': '7', 'streetName': 'C. Del Secretari Coloma', 'nearbyStations': '106, 122, 227, 276', 'longitude': '2.16327', 'id': '231', 'altitude': '87', 'latitude': '41.409115', 'type': 'BIKE', 'streetNumber': '59', 'bikes': '18'}, {'status': 'OPN', 'slots': '1', 'streetName': 'Vilà i Vilà', 'nearbyStations': '50, 233, 234, 427', 'longitude': '2.171002', 'id': '232', 'altitude': '1', 'latitude': '41.373509', 'type': 'BIKE', 'streetNumber': '45', 'bikes': '26'}, {'status': 'OPN', 'slots': '18', 'streetName': 'Nou de la Rambla', 'nearbyStations': '50, 232, 234, 427', 'longitude': '2.166871', 'id': '233', 'altitude': '1', 'latitude': '41.371965', 'type': 'BIKE', 'streetNumber': '164', 'bikes': '6'}, {'status': 'OPN', 'slots': '23', 'streetName': \"Passeig de l'Exposició\", 'nearbyStations': '85, 233, 235, 236', 'longitude': '2.162166', 'id': '234', 'altitude': '44', 'latitude': '41.371515', 'type': 'BIKE', 'streetNumber': '30', 'bikes': '2'}, {'status': 'OPN', 'slots': '9', 'streetName': 'Elkano', 'nearbyStations': '85, 129, 234, 236', 'longitude': '2.161632', 'id': '235', 'altitude': '44', 'latitude': '41.373764', 'type': 'BIKE', 'streetNumber': '64', 'bikes': '14'}, {'status': 'OPN', 'slots': '19', 'streetName': 'Carrer de la França Xica', 'nearbyStations': '85, 94, 235, 237', 'longitude': '2.156554', 'id': '236', 'altitude': '67', 'latitude': '41.372162', 'type': 'BIKE', 'streetNumber': '42', 'bikes': '0'}, {'status': 'OPN', 'slots': '5', 'streetName': 'Rius i Taulet', 'nearbyStations': '85, 93, 234, 236', 'longitude': '2.154471', 'id': '237', 'altitude': '67', 'latitude': '41.372891', 'type': 'BIKE', 'streetNumber': '4', 'bikes': '21'}, {'status': 'OPN', 'slots': '7', 'streetName': 'Espronceda', 'nearbyStations': '127, 240, 248, 289', 'longitude': '2.190986', 'id': '238', 'altitude': '17', 'latitude': '41.415684', 'type': 'BIKE', 'streetNumber': '298', 'bikes': '17'}, {'status': 'OPN', 'slots': '24', 'streetName': 'Indústria', 'nearbyStations': '240, 241, 248, 315', 'longitude': '2.184712', 'id': '239', 'altitude': '18', 'latitude': '41.417315', 'type': 'BIKE', 'streetNumber': '344', 'bikes': '2'}, {'status': 'OPN', 'slots': '9', 'streetName': 'Josep Estivill', 'nearbyStations': '128, 238, 248, 289', 'longitude': '2.187558', 'id': '240', 'altitude': '18', 'latitude': '41.417763', 'type': 'BIKE', 'streetNumber': '32', 'bikes': '18'}, {'status': 'OPN', 'slots': '17', 'streetName': 'Pl. Maragall', 'nearbyStations': '239, 240, 248, 315', 'longitude': '2.181234', 'id': '241', 'altitude': '37', 'latitude': '41.419858', 'type': 'BIKE', 'streetNumber': '22', 'bikes': '9'}, {'status': 'OPN', 'slots': '22', 'streetName': 'Ramon Albó', 'nearbyStations': '241, 243, 244, 291', 'longitude': '2.177284', 'id': '242', 'altitude': '37', 'latitude': '41.424451', 'type': 'BIKE', 'streetNumber': '1', 'bikes': '3'}, {'status': 'OPN', 'slots': '11', 'streetName': 'Alenxadre Galí', 'nearbyStations': '241, 242, 244, 247', 'longitude': '2.181298', 'id': '243', 'altitude': '37', 'latitude': '41.423939', 'type': 'BIKE', 'streetNumber': '1', 'bikes': '11'}, {'status': 'OPN', 'slots': '2', 'streetName': 'Felip II', 'nearbyStations': '242, 243, 251', 'longitude': '2.178511', 'id': '244', 'altitude': '47', 'latitude': '41.426896', 'type': 'BIKE', 'streetNumber': '214', 'bikes': '25'}, {'status': 'OPN', 'slots': '28', 'streetName': 'Juan de Garay', 'nearbyStations': '247, 249, 250, 251', 'longitude': '2.185734', 'id': '246', 'altitude': '18', 'latitude': '41.422561', 'type': 'BIKE', 'streetNumber': '116', 'bikes': '1'}, {'status': 'OPN', 'slots': '17', 'streetName': 'Olesa', 'nearbyStations': '241, 243, 246, 251', 'longitude': '2.185171', 'id': '247', 'altitude': '18', 'latitude': '41.422811', 'type': 'BIKE', 'streetNumber': '43', 'bikes': '8'}, {'status': 'OPN', 'slots': '10', 'streetName': 'Palència', 'nearbyStations': '128, 238, 240, 423', 'longitude': '2.190374', 'id': '248', 'altitude': '18', 'latitude': '41.418208', 'type': 'BIKE', 'streetNumber': '31', 'bikes': '13'}, {'status': 'OPN', 'slots': '12', 'streetName': 'Açores', 'nearbyStations': '246, 250, 251, 391', 'longitude': '2.188997', 'id': '249', 'altitude': '18', 'latitude': '41.425216', 'type': 'BIKE', 'streetNumber': '1', 'bikes': '11'}, {'status': 'OPN', 'slots': '12', 'streetName': 'Portugal', 'nearbyStations': '249, 252, 253, 254', 'longitude': '2.190132', 'id': '250', 'altitude': '27', 'latitude': '41.426248', 'type': 'BIKE', 'streetNumber': '12', 'bikes': '10'}, {'status': 'OPN', 'slots': '24', 'streetName': 'Cardenal Tedeschini', 'nearbyStations': '243, 246, 247, 249', 'longitude': '2.185226', 'id': '251', 'altitude': '27', 'latitude': '41.425405', 'type': 'BIKE', 'streetNumber': '13', 'bikes': '8'}, {'status': 'OPN', 'slots': '22', 'streetName': 'Carrer del Pare Manyanet', 'nearbyStations': '249, 250, 254, 391', 'longitude': '2.193402', 'id': '252', 'altitude': '18', 'latitude': '41.428184', 'type': 'BIKE', 'streetNumber': '23', 'bikes': '7'}, {'status': 'OPN', 'slots': '20', 'streetName': 'Onze de Setembre', 'nearbyStations': '250, 252, 254, 257', 'longitude': '2.191821', 'id': '253', 'altitude': '18', 'latitude': '41.429977', 'type': 'BIKE', 'streetNumber': '37', 'bikes': '7'}, {'status': 'OPN', 'slots': '8', 'streetName': 'Gran de Sant Andreu', 'nearbyStations': '250, 252, 253, 255', 'longitude': '2.189581', 'id': '254', 'altitude': '27', 'latitude': '41.430343', 'type': 'BIKE', 'streetNumber': '93', 'bikes': '24'}, {'status': 'OPN', 'slots': '4', 'streetName': 'Irlanda', 'nearbyStations': '253, 254, 257, 274', 'longitude': '2.185852', 'id': '255', 'altitude': '27', 'latitude': '41.431183', 'type': 'BIKE', 'streetNumber': '11', 'bikes': '17'}, {'status': 'OPN', 'slots': '1', 'streetName': 'Malats', 'nearbyStations': '255, 257, 259, 285', 'longitude': '2.189524', 'id': '256', 'altitude': '25', 'latitude': '41.435998', 'type': 'BIKE', 'streetNumber': '28', 'bikes': '24'}, {'status': 'OPN', 'slots': '2', 'streetName': 'Sant Adrià', 'nearbyStations': '253, 254, 255, 256', 'longitude': '2.189614', 'id': '257', 'altitude': '25', 'latitude': '41.433897', 'type': 'BIKE', 'streetNumber': '2', 'bikes': '23'}, {'status': 'OPN', 'slots': '22', 'streetName': 'Carrer de Palomar', 'nearbyStations': '256, 257, 259, 263', 'longitude': '2.189101', 'id': '258', 'altitude': '24', 'latitude': '41.442013', 'type': 'BIKE', 'streetNumber': '6', 'bikes': '4'}, {'status': 'OPN', 'slots': '10', 'streetName': 'Carrer de Bartrina', 'nearbyStations': '256, 257, 258, 267', 'longitude': '2.185818', 'id': '259', 'altitude': '25', 'latitude': '41.439109', 'type': 'BIKE', 'streetNumber': '14', 'bikes': '15'}, {'status': 'OPN', 'slots': '0', 'streetName': \"Plaça de l'Estació\", 'nearbyStations': '256, 257, 263, 264', 'longitude': '2.192952', 'id': '260', 'altitude': '19', 'latitude': '41.43618', 'type': 'BIKE', 'streetNumber': '6', 'bikes': '26'}, {'status': 'OPN', 'slots': '25', 'streetName': 'Villarroel', 'nearbyStations': '70, 71, 84, 90', 'longitude': '2.160644', 'id': '261', 'altitude': '35', 'latitude': '41.382206', 'type': 'BIKE', 'streetNumber': '39', 'bikes': '2'}, {'status': 'OPN', 'slots': '16', 'streetName': 'Rocafort', 'nearbyStations': '81, 82, 111, 191', 'longitude': '2.152496', 'id': '262', 'altitude': '40', 'latitude': '41.379821', 'type': 'BIKE', 'streetNumber': '103', 'bikes': '16'}, {'status': 'OPN', 'slots': '1', 'streetName': 'C\\\\/Joan Torras', 'nearbyStations': '256, 257, 260, 264', 'longitude': '2.191386', 'id': '263', 'altitude': '25', 'latitude': '41.437656', 'type': 'BIKE', 'streetNumber': '28', 'bikes': '24'}, {'status': 'OPN', 'slots': '21', 'streetName': 'República Dominicana', 'nearbyStations': '263, 267, 268, 344', 'longitude': '2.197033', 'id': '264', 'altitude': '19', 'latitude': '41.439949', 'type': 'BIKE', 'streetNumber': '25', 'bikes': '10'}, {'status': 'OPN', 'slots': '21', 'streetName': 'Casanovas, 71', 'nearbyStations': '80, 84, 110, 209', 'longitude': '2.15837', 'id': '265', 'altitude': '41', 'latitude': '41.38566', 'type': 'BIKE', 'streetNumber': '82', 'bikes': '2'}, {'status': 'OPN', 'slots': '18', 'streetName': 'Concepció Arenal', 'nearbyStations': '263, 264, 268, 344', 'longitude': '2.184238', 'id': '266', 'altitude': '37', 'latitude': '41.426841', 'type': 'BIKE', 'streetNumber': '176', 'bikes': '3'}, {'status': 'OPN', 'slots': '14', 'streetName': 'Passeig Torras i Bages', 'nearbyStations': '258, 263, 264, 268', 'longitude': '2.190623', 'id': '267', 'altitude': '24', 'latitude': '41.443395', 'type': 'BIKE', 'streetNumber': '129', 'bikes': '11'}, {'status': 'OPN', 'slots': '15', 'streetName': 'Fernando Pessoa', 'nearbyStations': '263, 264, 267, 271', 'longitude': '2.192892', 'id': '268', 'altitude': '23', 'latitude': '41.445705', 'type': 'BIKE', 'streetNumber': '72', 'bikes': '9'}, {'status': 'OPN', 'slots': '8', 'streetName': 'Via Barcino', 'nearbyStations': '264, 268, 270, 271', 'longitude': '2.192826', 'id': '269', 'altitude': '23', 'latitude': '41.448128', 'type': 'BIKE', 'streetNumber': '121', 'bikes': '18'}, {'status': 'OPN', 'slots': '11', 'streetName': 'Pl. de la Trinitat, 5-7 \\\\/ amb Mare de Déu de Lorda', 'nearbyStations': '267, 268, 269, 271', 'longitude': '2.190978', 'id': '270', 'altitude': '24', 'latitude': '41.449874', 'type': 'BIKE', 'streetNumber': '5', 'bikes': '14'}, {'status': 'OPN', 'slots': '0', 'streetName': 'Via Barcino', 'nearbyStations': '267, 268, 269, 270', 'longitude': '2.192668', 'id': '271', 'altitude': '18', 'latitude': '41.450882', 'type': 'BIKE', 'streetNumber': '71', 'bikes': '21'}, {'status': 'OPN', 'slots': '7', 'streetName': 'Concepció Arenal', 'nearbyStations': '255, 273, 274, 298', 'longitude': '2.18429', 'id': '272', 'altitude': '27', 'latitude': '41.432552', 'type': 'BIKE', 'streetNumber': '281', 'bikes': '19'}, {'status': 'OPN', 'slots': '31', 'streetName': 'Avda. Meridiana', 'nearbyStations': '255, 272, 274, 275', 'longitude': '2.183382', 'id': '273', 'altitude': '27', 'latitude': '41.430404', 'type': 'BIKE', 'streetNumber': '404', 'bikes': '2'}, {'status': 'OPN', 'slots': '13', 'streetName': 'Rambla Fabra i Puig', 'nearbyStations': '254, 255, 272, 273', 'longitude': '2.18473', 'id': '274', 'altitude': '27', 'latitude': '41.430071', 'type': 'BIKE', 'streetNumber': '67', 'bikes': '18'}, {'status': 'OPN', 'slots': '25', 'streetName': 'Rio de Janeiro', 'nearbyStations': '272, 273, 274, 298', 'longitude': '2.182225', 'id': '275', 'altitude': '27', 'latitude': '41.430693', 'type': 'BIKE', 'streetNumber': '3', 'bikes': '7'}, {'status': 'OPN', 'slots': '13', 'streetName': 'Plaça Alfons X el Savi \\\\/ Ronda del Guinardó ', 'nearbyStations': '231, 277, 278, 318', 'longitude': '2.165275', 'id': '276', 'altitude': '87', 'latitude': '41.412163', 'type': 'BIKE', 'streetNumber': '', 'bikes': '12'}, {'status': 'OPN', 'slots': '16', 'streetName': 'Travessera de Gràcia', 'nearbyStations': '28, 122, 123, 231', 'longitude': '2.169074', 'id': '277', 'altitude': '59', 'latitude': '41.408436', 'type': 'BIKE', 'streetNumber': '373', 'bikes': '9'}, {'status': 'OPN', 'slots': '16', 'streetName': 'Rosalia de Castro', 'nearbyStations': '20, 21, 28, 277', 'longitude': '2.172073', 'id': '278', 'altitude': '59', 'latitude': '41.411503', 'type': 'BIKE', 'streetNumber': '41', 'bikes': '5'}, {'status': 'OPN', 'slots': '26', 'streetName': 'Ronda Guinardo', 'nearbyStations': '278, 280, 281, 318', 'longitude': '2.174593', 'id': '279', 'altitude': '72', 'latitude': '41.416658', 'type': 'BIKE', 'streetNumber': '118', 'bikes': '0'}, {'status': 'OPN', 'slots': '23', 'streetName': 'Industria ', 'nearbyStations': '20, 21, 164, 239', 'longitude': '2.17853', 'id': '280', 'altitude': '33', 'latitude': '41.412804', 'type': 'BIKE', 'streetNumber': '241', 'bikes': '1'}, {'status': 'OPN', 'slots': '8', 'streetName': 'Ronda Guinardo', 'nearbyStations': '241, 242, 243, 279', 'longitude': '2.176524', 'id': '281', 'altitude': '37', 'latitude': '41.419384', 'type': 'BIKE', 'streetNumber': '179', 'bikes': '19'}, {'status': 'OPN', 'slots': '17', 'streetName': \"Font d'en Fargas\", 'nearbyStations': '291, 292, 293, 295', 'longitude': '2.166022', 'id': '282', 'altitude': '88', 'latitude': '41.427561', 'type': 'BIKE', 'streetNumber': '1', 'bikes': '9'}, {'status': 'OPN', 'slots': '20', 'streetName': 'Carrer Fulton', 'nearbyStations': '282, 291, 292, 293', 'longitude': '2.16157', 'id': '283', 'altitude': '88', 'latitude': '41.42968', 'type': 'BIKE', 'streetNumber': '1', 'bikes': '1'}, {'status': 'OPN', 'slots': '24', 'streetName': 'Ada. Diagonal', 'nearbyStations': '203, 205, 206, 212', 'longitude': '2.131454', 'id': '284', 'altitude': '60', 'latitude': '41.389503', 'type': 'BIKE', 'streetNumber': '652', 'bikes': '1'}, {'status': 'OPN', 'slots': '0', 'streetName': 'Malats', 'nearbyStations': '256, 257, 259, 272', 'longitude': '2.186059', 'id': '285', 'altitude': '25', 'latitude': '41.436708', 'type': 'BIKE', 'streetNumber': '98', 'bikes': '23'}, {'status': 'OPN', 'slots': '20', 'streetName': 'Bolívia', 'nearbyStations': '42, 44, 142, 143', 'longitude': '2.191428', 'id': '286', 'altitude': '18', 'latitude': '41.403103', 'type': 'BIKE', 'streetNumber': '76', 'bikes': '0'}, {'status': 'OPN', 'slots': '14', 'streetName': 'Gran Via', 'nearbyStations': '61, 64, 66, 406', 'longitude': '2.168113', 'id': '287', 'altitude': '32', 'latitude': '41.389171', 'type': 'BIKE', 'streetNumber': '632', 'bikes': '0'}, {'status': 'OPN', 'slots': '18', 'streetName': 'Pl. Virrei Amat', 'nearbyStations': '244, 291, 292, 293', 'longitude': '2.174487', 'id': '288', 'altitude': '63', 'latitude': '41.429636', 'type': 'BIKE', 'streetNumber': '', 'bikes': '13'}, {'status': 'OPN', 'slots': '7', 'streetName': 'Múrcia', 'nearbyStations': '127, 238, 240, 248', 'longitude': '2.191022', 'id': '289', 'altitude': '18', 'latitude': '41.416828', 'type': 'BIKE', 'streetNumber': '64', 'bikes': '20'}, {'status': 'OPN', 'slots': '15', 'streetName': \"Plaça dels Jardins d'Alfàbia\", 'nearbyStations': '294, 295, 299, 301', 'longitude': '2.174047', 'id': '290', 'altitude': '61', 'latitude': '41.437094', 'type': 'BIKE', 'streetNumber': '1', 'bikes': '12'}, {'status': 'OPN', 'slots': '23', 'streetName': 'Subirats', 'nearbyStations': '242, 244, 282, 292', 'longitude': '2.174598', 'id': '291', 'altitude': '63', 'latitude': '41.426975', 'type': 'BIKE', 'streetNumber': '5', 'bikes': '2'}, {'status': 'OPN', 'slots': '7', 'streetName': 'Amilcar', 'nearbyStations': '282, 291, 293', 'longitude': '2.171974', 'id': '292', 'altitude': '63', 'latitude': '41.430036', 'type': 'BIKE', 'streetNumber': '1', 'bikes': '19'}, {'status': 'OPN', 'slots': '24', 'streetName': 'Petrarca', 'nearbyStations': '282, 291, 292, 295', 'longitude': '2.164559', 'id': '293', 'altitude': '88', 'latitude': '41.428747', 'type': 'BIKE', 'streetNumber': '44', 'bikes': '3'}, {'status': 'OPN', 'slots': '17', 'streetName': 'Seu del Districte (Nou Barris)', 'nearbyStations': '290, 295, 299, 301', 'longitude': '2.170678', 'id': '294', 'altitude': '61', 'latitude': '41.436373', 'type': 'BIKE', 'streetNumber': '', 'bikes': '5'}, {'status': 'OPN', 'slots': '25', 'streetName': 'Sant Iscle', 'nearbyStations': '282, 292, 294, 301', 'longitude': '2.1715', 'id': '295', 'altitude': '61', 'latitude': '41.43345', 'type': 'BIKE', 'streetNumber': '60', 'bikes': '1'}, {'status': 'OPN', 'slots': '12', 'streetName': 'Carrer de Rosselló i Porcel', 'nearbyStations': '259, 272, 285, 298', 'longitude': '2.183877', 'id': '296', 'altitude': '25', 'latitude': '41.436505', 'type': 'BIKE', 'streetNumber': '1', 'bikes': '20'}, {'status': 'OPN', 'slots': '12', 'streetName': 'Carrer Turó Blau', 'nearbyStations': '290, 296, 298, 299', 'longitude': '2.176822', 'id': '297', 'altitude': '45', 'latitude': '41.438864', 'type': 'BIKE', 'streetNumber': '1', 'bikes': '11'}, {'status': 'OPN', 'slots': '22', 'streetName': 'Andreu Nin', 'nearbyStations': '275, 296', 'longitude': '2.181747', 'id': '298', 'altitude': '45', 'latitude': '41.43463', 'type': 'BIKE', 'streetNumber': '22', 'bikes': '10'}, {'status': 'OPN', 'slots': '6', 'streetName': \"Carrer de l'Escultor Ordóñez\", 'nearbyStations': '294, 295, 297, 301', 'longitude': '2.175199', 'id': '299', 'altitude': '45', 'latitude': '41.433965', 'type': 'BIKE', 'streetNumber': '55', 'bikes': '20'}, {'status': 'CLS', 'slots': '21', 'streetName': 'Carrer de Maladeta', 'nearbyStations': '275, 298, 299, 301', 'longitude': '2.176909', 'id': '300', 'altitude': '47', 'latitude': '41.431593', 'type': 'BIKE', 'streetNumber': '1', 'bikes': '0'}, {'status': 'OPN', 'slots': '19', 'streetName': 'Marie Curie', 'nearbyStations': '290, 294, 295, 299', 'longitude': '2.169644', 'id': '301', 'altitude': '61', 'latitude': '41.437053', 'type': 'BIKE', 'streetNumber': '8', 'bikes': '8'}, {'status': 'OPN', 'slots': '24', 'streetName': 'Cavallers', 'nearbyStations': '303, 304, 335, 336', 'longitude': '2.111615', 'id': '302', 'altitude': '73', 'latitude': '41.39065', 'type': 'BIKE', 'streetNumber': '41', 'bikes': '0'}, {'status': 'OPN', 'slots': '26', 'streetName': 'Cavallers', 'nearbyStations': '302, 304, 335, 336', 'longitude': '2.114875', 'id': '303', 'altitude': '101', 'latitude': '41.393075', 'type': 'BIKE', 'streetNumber': '66', 'bikes': '0'}, {'status': 'OPN', 'slots': '30', 'streetName': 'Jiménez Iglesias', 'nearbyStations': '203, 204, 305, 335', 'longitude': '2.12188', 'id': '304', 'altitude': '63', 'latitude': '41.38989', 'type': 'BIKE', 'streetNumber': '15', 'bikes': '1'}, {'status': 'OPN', 'slots': '26', 'streetName': 'Diagonal', 'nearbyStations': '203, 204, 305, 306', 'longitude': '2.123637', 'id': '305', 'altitude': '63', 'latitude': '41.387498', 'type': 'BIKE', 'streetNumber': '680', 'bikes': '0'}, {'status': 'OPN', 'slots': '24', 'streetName': 'Doctor Salvador Cardenal', 'nearbyStations': '199, 204, 305, 310', 'longitude': '2.122912', 'id': '306', 'altitude': '63', 'latitude': '41.385465', 'type': 'BIKE', 'streetNumber': '7', 'bikes': '0'}, {'status': 'OPN', 'slots': '29', 'streetName': 'Pintor Ribalta', 'nearbyStations': '308, 309, 310, 311', 'longitude': '2.113505', 'id': '307', 'altitude': '50', 'latitude': '41.379135', 'type': 'BIKE', 'streetNumber': '', 'bikes': '2'}, {'status': 'OPN', 'slots': '23', 'streetName': 'Cardenal Reig', 'nearbyStations': '307, 309, 310, 311', 'longitude': '2.113864', 'id': '308', 'altitude': '50', 'latitude': '41.376788', 'type': 'BIKE', 'streetNumber': '11', 'bikes': '1'}, {'status': 'OPN', 'slots': '23', 'streetName': 'Sant Ramón Nonat', 'nearbyStations': '307, 308, 310, 311', 'longitude': '2.116973', 'id': '309', 'altitude': '47', 'latitude': '41.37674', 'type': 'BIKE', 'streetNumber': '26', 'bikes': '4'}, {'status': 'OPN', 'slots': '23', 'streetName': 'Josep Samitier', 'nearbyStations': '306, 307, 309, 311', 'longitude': '2.119077', 'id': '310', 'altitude': '47', 'latitude': '41.381223', 'type': 'BIKE', 'streetNumber': '', 'bikes': '0'}, {'status': 'OPN', 'slots': '21', 'streetName': 'Travessera de les Corts', 'nearbyStations': '307, 308, 310, 312', 'longitude': '2.121826', 'id': '311', 'altitude': '47', 'latitude': '41.378172', 'type': 'BIKE', 'streetNumber': '58', 'bikes': '1'}, {'status': 'OPN', 'slots': '17', 'streetName': 'Felipe de Paz', 'nearbyStations': '193, 199, 311, 353', 'longitude': '2.126588', 'id': '312', 'altitude': '46', 'latitude': '41.379816', 'type': 'BIKE', 'streetNumber': '2', 'bikes': '15'}, {'status': 'OPN', 'slots': '1', 'streetName': 'Cáceres', 'nearbyStations': '185, 188, 314, 354', 'longitude': '2.131016', 'id': '313', 'altitude': '39', 'latitude': '41.374558', 'type': 'BIKE', 'streetNumber': '38', 'bikes': '25'}, {'status': 'OPN', 'slots': '0', 'streetName': 'Rambla del Brasil', 'nearbyStations': '192, 193, 313, 354', 'longitude': '2.129737', 'id': '314', 'altitude': '46', 'latitude': '41.37836', 'type': 'BIKE', 'streetNumber': '44', 'bikes': '25'}, {'status': 'OPN', 'slots': '9', 'streetName': 'Guinardó', 'nearbyStations': '177, 239, 241, 280', 'longitude': '2.181966', 'id': '315', 'altitude': '33', 'latitude': '41.415617', 'type': 'BIKE', 'streetNumber': '32', 'bikes': '18'}, {'status': 'OPN', 'slots': '16', 'streetName': 'Cantàbria', 'nearbyStations': '128, 130, 131, 317', 'longitude': '2.198316', 'id': '316', 'altitude': '13', 'latitude': '41.422212', 'type': 'BIKE', 'streetNumber': '55', 'bikes': '10'}, {'status': 'OPN', 'slots': '7', 'streetName': 'Rambla Prim', 'nearbyStations': '130, 131, 316, 391', 'longitude': '2.200693', 'id': '317', 'altitude': '12', 'latitude': '41.425566', 'type': 'BIKE', 'streetNumber': '256', 'bikes': '17'}, {'status': 'OPN', 'slots': '25', 'streetName': 'Ronda Guinardo', 'nearbyStations': '21, 276, 278, 279', 'longitude': '2.170838', 'id': '318', 'altitude': '59', 'latitude': '41.414076', 'type': 'BIKE', 'streetNumber': '83', 'bikes': '0'}, {'status': 'OPN', 'slots': '19', 'streetName': 'Amigó', 'nearbyStations': '101, 102, 216, 219', 'longitude': '2.145161', 'id': '319', 'altitude': '69', 'latitude': '41.39472', 'type': 'BIKE', 'streetNumber': '23', 'bikes': '3'}, {'status': 'OPN', 'slots': '24', 'streetName': 'Gleva', 'nearbyStations': '217, 221, 230, 321', 'longitude': '2.145875', 'id': '320', 'altitude': '86', 'latitude': '41.403384', 'type': 'BIKE', 'streetNumber': '21', 'bikes': '0'}, {'status': 'OPN', 'slots': '22', 'streetName': 'Carrer de Pádua', 'nearbyStations': '217, 230, 322, 326', 'longitude': '2.143648', 'id': '321', 'altitude': '86', 'latitude': '41.404038', 'type': 'BIKE', 'streetNumber': '98', 'bikes': '0'}, {'status': 'OPN', 'slots': '15', 'streetName': 'Santaló', 'nearbyStations': '217, 323, 324, 328', 'longitude': '2.13907', 'id': '322', 'altitude': '106', 'latitude': '41.400977', 'type': 'BIKE', 'streetNumber': '165', 'bikes': '12'}, {'status': 'OPN', 'slots': '26', 'streetName': 'Vallmajor', 'nearbyStations': '214, 215, 217, 324', 'longitude': '2.138717', 'id': '323', 'altitude': '79', 'latitude': '41.397996', 'type': 'BIKE', 'streetNumber': '13', 'bikes': '0'}, {'status': 'OPN', 'slots': '27', 'streetName': 'Reina Victoria', 'nearbyStations': '214, 215, 322, 323', 'longitude': '2.136258', 'id': '324', 'altitude': '79', 'latitude': '41.396938', 'type': 'BIKE', 'streetNumber': '31', 'bikes': '0'}, {'status': 'OPN', 'slots': '22', 'streetName': 'Alt de Gironella', 'nearbyStations': '212, 214, 331, 333', 'longitude': '2.130325', 'id': '325', 'altitude': '82', 'latitude': '41.39493', 'type': 'BIKE', 'streetNumber': '13', 'bikes': '0'}, {'status': 'OPN', 'slots': '29', 'streetName': 'Castanyer', 'nearbyStations': '321, 327, 328, 330', 'longitude': '2.137742', 'id': '326', 'altitude': '106', 'latitude': '41.406983', 'type': 'BIKE', 'streetNumber': '16', 'bikes': '3'}, {'status': 'OPN', 'slots': '22', 'streetName': 'Reus', 'nearbyStations': '321, 322, 326, 328', 'longitude': '2.13453', 'id': '327', 'altitude': '106', 'latitude': '41.405', 'type': 'BIKE', 'streetNumber': '23', 'bikes': '0'}, {'status': 'OPN', 'slots': '23', 'streetName': 'Artesa de Segre', 'nearbyStations': '321, 322, 327, 329', 'longitude': '2.13427', 'id': '328', 'altitude': '106', 'latitude': '41.40293', 'type': 'BIKE', 'streetNumber': '2', 'bikes': '0'}, {'status': 'OPN', 'slots': '3', 'streetName': 'Carrer de les Escoles Pies', 'nearbyStations': '327, 328, 330, 332', 'longitude': '2.128541', 'id': '329', 'altitude': '130', 'latitude': '41.402879', 'type': 'BIKE', 'streetNumber': '99', 'bikes': '23'}, {'status': 'OPN', 'slots': '23', 'streetName': 'Doctor Carulla', 'nearbyStations': '328, 329, 331, 332', 'longitude': '2.130658', 'id': '330', 'altitude': '130', 'latitude': '41.400587', 'type': 'BIKE', 'streetNumber': '44', 'bikes': '0'}, {'status': 'OPN', 'slots': '32', 'streetName': 'Castellnou', 'nearbyStations': '325, 332, 333, 335', 'longitude': '2.12801', 'id': '331', 'altitude': '82', 'latitude': '41.39706', 'type': 'BIKE', 'streetNumber': '65', 'bikes': '0'}, {'status': 'OPN', 'slots': '25', 'streetName': 'Doctor Roux', 'nearbyStations': '329, 330, 331, 333', 'longitude': '2.12809', 'id': '332', 'altitude': '82', 'latitude': '41.399822', 'type': 'BIKE', 'streetNumber': '86', 'bikes': '0'}, {'status': 'OPN', 'slots': '24', 'streetName': 'Passatge de Senillosa', 'nearbyStations': '325, 331, 335, 336', 'longitude': '2.125106', 'id': '333', 'altitude': '82', 'latitude': '41.395632', 'type': 'BIKE', 'streetNumber': '3', 'bikes': '0'}, {'status': 'OPN', 'slots': '27', 'streetName': 'Via Augusta', 'nearbyStations': '331, 332, 337, 338', 'longitude': '2.123268', 'id': '334', 'altitude': '138', 'latitude': '41.400722', 'type': 'BIKE', 'streetNumber': '348', 'bikes': '0'}, {'status': 'OPN', 'slots': '15', 'streetName': 'Santa Amèlia', 'nearbyStations': '212, 304, 333, 336', 'longitude': '2.123224', 'id': '335', 'altitude': '96', 'latitude': '41.393639', 'type': 'BIKE', 'streetNumber': '2', 'bikes': '12'}, {'status': 'OPN', 'slots': '25', 'streetName': 'Caponata', 'nearbyStations': '333, 335, 337, 338', 'longitude': '2.120973', 'id': '336', 'altitude': '96', 'latitude': '41.395274', 'type': 'BIKE', 'streetNumber': '10', 'bikes': '1'}, {'status': 'OPN', 'slots': '18', 'streetName': 'Carme Karr', 'nearbyStations': '333, 334, 336, 338', 'longitude': '2.120422', 'id': '337', 'altitude': '96', 'latitude': '41.398719', 'type': 'BIKE', 'streetNumber': '12', 'bikes': '5'}, {'status': 'OPN', 'slots': '19', 'streetName': 'Avinguda de J.Foix', 'nearbyStations': '333, 334, 336, 337', 'longitude': '2.119506', 'id': '338', 'altitude': '96', 'latitude': '41.397572', 'type': 'BIKE', 'streetNumber': '63', 'bikes': '11'}, {'status': 'OPN', 'slots': '23', 'streetName': 'Bilbao', 'nearbyStations': '153, 154, 165, 382', 'longitude': '2.2037', 'id': '339', 'altitude': '10', 'latitude': '41.4026', 'type': 'BIKE', 'streetNumber': '51', 'bikes': '4'}, {'status': 'OPN', 'slots': '10', 'streetName': 'Sant Adrià', 'nearbyStations': '264, 341, 343, 344', 'longitude': '2.204634', 'id': '340', 'altitude': '28', 'latitude': '41.436145', 'type': 'BIKE', 'streetNumber': '113', 'bikes': '14'}, {'status': 'OPN', 'slots': '16', 'streetName': 'Passeig Enric Sanchís', 'nearbyStations': '264, 340, 343, 344', 'longitude': '2.205886', 'id': '341', 'altitude': '28', 'latitude': '41.434191', 'type': 'BIKE', 'streetNumber': '33', 'bikes': '2'}, {'status': 'OPN', 'slots': '25', 'streetName': 'Roc Boronat', 'nearbyStations': '142, 152, 153, 393, 428', 'longitude': '2.193702', 'id': '342', 'altitude': '18', 'latitude': '41.403502', 'type': 'BIKE', 'streetNumber': '134', 'bikes': '0'}, {'status': 'OPN', 'slots': '4', 'streetName': 'Campana de la Maquinista', 'nearbyStations': '260, 264, 340, 344', 'longitude': '2.199598', 'id': '343', 'altitude': '19', 'latitude': '41.438886', 'type': 'BIKE', 'streetNumber': '', 'bikes': '22'}, {'status': 'OPN', 'slots': '17', 'streetName': \"Ciutat d'Asunción\", 'nearbyStations': '260, 263, 264, 343', 'longitude': '2.199538', 'id': '344', 'altitude': '23', 'latitude': '41.443127', 'type': 'BIKE', 'streetNumber': '73', 'bikes': '8'}, {'status': 'OPN', 'slots': '25', 'streetName': 'Pl. Teresa de Claramunt', 'nearbyStations': '179, 180, 346, 351', 'longitude': '2.139771', 'id': '345', 'altitude': '48', 'latitude': '41.363093', 'type': 'BIKE', 'streetNumber': '', 'bikes': '7'}, {'status': 'OPN', 'slots': '19', 'streetName': 'Carrer de la Foneria', 'nearbyStations': '345, 347, 348, 349', 'longitude': '2.139132', 'id': '346', 'altitude': '48', 'latitude': '41.360654', 'type': 'BIKE', 'streetNumber': '33', 'bikes': '10'}, {'status': 'OPN', 'slots': '28', 'streetName': 'Mare de Déu dels Ports', 'nearbyStations': '345, 346, 348, 349', 'longitude': '2.143401', 'id': '347', 'altitude': '34', 'latitude': '41.358255', 'type': 'BIKE', 'streetNumber': '235', 'bikes': '4'}, {'status': 'OPN', 'slots': '23', 'streetName': 'Jardins de Can Ferrero', 'nearbyStations': '345, 346, 347, 349', 'longitude': '2.141563', 'id': '348', 'altitude': '13', 'latitude': '41.357067', 'type': 'BIKE', 'streetNumber': '', 'bikes': '9'}, {'status': 'OPN', 'slots': '31', 'streetName': \"Carrer de l'Energia\", 'nearbyStations': '345, 347, 348, 351', 'longitude': '2.137172', 'id': '349', 'altitude': '13', 'latitude': '41.357338', 'type': 'BIKE', 'streetNumber': '2', 'bikes': '0'}, {'status': 'OPN', 'slots': '33', 'streetName': 'Villarroel', 'nearbyStations': '88, 90, 101, 109', 'longitude': '2.14812', 'id': '350', 'altitude': '69', 'latitude': '41.391833', 'type': 'BIKE', 'streetNumber': '208', 'bikes': '0'}, {'status': 'OPN', 'slots': '27', 'streetName': 'Jane Addams', 'nearbyStations': '179, 345, 352, 404', 'longitude': '2.135637', 'id': '351', 'altitude': '48', 'latitude': '41.362135', 'type': 'BIKE', 'streetNumber': '26', 'bikes': '3'}, {'status': 'OPN', 'slots': '28', 'streetName': 'Radi', 'nearbyStations': '179, 346, 351, 404', 'longitude': '2.134144', 'id': '352', 'altitude': '48', 'latitude': '41.36335', 'type': 'BIKE', 'streetNumber': '10', 'bikes': '3'}, {'status': 'OPN', 'slots': '13', 'streetName': 'Munné', 'nearbyStations': '309, 311, 314, 354', 'longitude': '2.123191', 'id': '353', 'altitude': '47', 'latitude': '41.375414', 'type': 'BIKE', 'streetNumber': '6', 'bikes': '14'}, {'status': 'OPN', 'slots': '4', 'streetName': 'Rambla del Brasil', 'nearbyStations': '188, 312, 313, 314', 'longitude': '2.13008', 'id': '354', 'altitude': '46', 'latitude': '41.37592', 'type': 'BIKE', 'streetNumber': '5', 'bikes': '20'}, {'status': 'OPN', 'slots': '4', 'streetName': 'Carreras i Candi', 'nearbyStations': '184, 313, 353, 354', 'longitude': '2.12859', 'id': '355', 'altitude': '39', 'latitude': '41.37211', 'type': 'BIKE', 'streetNumber': '89', 'bikes': '20'}, {'status': 'OPN', 'slots': '10', 'streetName': 'Balcells', 'nearbyStations': '227, 231, 276, 357', 'longitude': '2.16107', 'id': '356', 'altitude': '87', 'latitude': '41.411067', 'type': 'BIKE', 'streetNumber': '48', 'bikes': '16'}, {'status': 'OPN', 'slots': '2', 'streetName': 'Cardener', 'nearbyStations': '227, 228, 231, 356', 'longitude': '2.1581', 'id': '357', 'altitude': '104', 'latitude': '41.410538', 'type': 'BIKE', 'streetNumber': '82', 'bikes': '17'}, {'status': 'OPN', 'slots': '2', 'streetName': 'Gombau', 'nearbyStations': '34, 35, 36, 390', 'longitude': '2.17927', 'id': '358', 'altitude': '16', 'latitude': '41.387225', 'type': 'BIKE', 'streetNumber': '24', 'bikes': '23'}, {'status': 'OPN', 'slots': '19', 'streetName': 'Méndez Núñez', 'nearbyStations': '5, 358, 362, 363', 'longitude': '2.177572', 'id': '359', 'altitude': '16', 'latitude': '41.390021', 'type': 'BIKE', 'streetNumber': '16', 'bikes': '7'}, {'status': 'OPN', 'slots': '22', 'streetName': 'Bailén', 'nearbyStations': '15, 23, 362, 413', 'longitude': '2.172984', 'id': '360', 'altitude': '42', 'latitude': '41.395213', 'type': 'BIKE', 'streetNumber': '62', 'bikes': '4'}, {'status': 'OPN', 'slots': '27', 'streetName': 'Passeig de Colom', 'nearbyStations': '56, 57, 376, 410', 'longitude': '2.178553', 'id': '361', 'altitude': '5', 'latitude': '41.376292', 'type': 'BIKE', 'streetNumber': '', 'bikes': '3'}, {'status': 'OPN', 'slots': '20', 'streetName': 'Bailén', 'nearbyStations': '15, 22, 123, 360', 'longitude': '2.17057', 'id': '362', 'altitude': '42', 'latitude': '41.397006', 'type': 'BIKE', 'streetNumber': '100', 'bikes': '10'}, {'status': 'OPN', 'slots': '9', 'streetName': 'Bruc', 'nearbyStations': '23, 34, 105, 359, 412', 'longitude': '2.1744', 'id': '363', 'altitude': '32', 'latitude': '41.39076', 'type': 'BIKE', 'streetNumber': '20', 'bikes': '14'}, {'status': 'OPN', 'slots': '16', 'streetName': 'Passeig de Gràcia', 'nearbyStations': '60, 72, 92, 374', 'longitude': '2.16343', 'id': '364', 'altitude': '50', 'latitude': '41.39324', 'type': 'BIKE', 'streetNumber': '61', 'bikes': '14'}, {'status': 'OPN', 'slots': '28', 'streetName': 'Viladomat', 'nearbyStations': '67, 75, 89, 109', 'longitude': '2.14702', 'id': '365', 'altitude': '51', 'latitude': '41.387499', 'type': 'BIKE', 'streetNumber': '244', 'bikes': '2'}, {'status': 'OPN', 'slots': '30', 'streetName': 'Loreto', 'nearbyStations': '74, 101, 102, 208', 'longitude': '2.142613', 'id': '366', 'altitude': '69', 'latitude': '41.39174', 'type': 'BIKE', 'streetNumber': '49', 'bikes': '1'}, {'status': 'OPN', 'slots': '23', 'streetName': 'Nicaragua', 'nearbyStations': '75, 196, 197, 201', 'longitude': '2.138645', 'id': '367', 'altitude': '57', 'latitude': '41.385482', 'type': 'BIKE', 'streetNumber': '96', 'bikes': '0'}, {'status': 'OPN', 'slots': '19', 'streetName': 'Diputació', 'nearbyStations': '1, 360, 362, 387', 'longitude': '2.175714', 'id': '368', 'altitude': '21', 'latitude': '41.396815', 'type': 'BIKE', 'streetNumber': '350', 'bikes': '4'}, {'status': 'OPN', 'slots': '8', 'streetName': 'Consell de Cent', 'nearbyStations': '1, 22, 24, 30', 'longitude': '2.1786', 'id': '369', 'altitude': '28', 'latitude': '41.400828', 'type': 'BIKE', 'streetNumber': '513', 'bikes': '18'}, {'status': 'OPN', 'slots': '2', 'streetName': 'Sardenya', 'nearbyStations': '18, 19, 22, 120', 'longitude': '2.172987', 'id': '370', 'altitude': '49', 'latitude': '41.403735', 'type': 'BIKE', 'streetNumber': '234', 'bikes': '24'}, {'status': 'OPN', 'slots': '24', 'streetName': 'Carrer dels Enamorats', 'nearbyStations': '26, 30, 218, 369', 'longitude': '2.181264', 'id': '371', 'altitude': '28', 'latitude': '41.404027', 'type': 'BIKE', 'streetNumber': '49', 'bikes': '8'}, {'status': 'OPN', 'slots': '17', 'streetName': 'Padilla', 'nearbyStations': '1, 16, 119, 426', 'longitude': '2.184507', 'id': '372', 'altitude': '18', 'latitude': '41.39999', 'type': 'BIKE', 'streetNumber': '159', 'bikes': '7'}, {'status': 'OPN', 'slots': '5', 'streetName': 'Av. Paral.lel', 'nearbyStations': '85, 86, 113, 235', 'longitude': '2.161305', 'id': '373', 'altitude': '35', 'latitude': '41.375073', 'type': 'BIKE', 'streetNumber': '132', 'bikes': '31'}, {'status': 'OPN', 'slots': '31', 'streetName': 'Passeig de Gràcia', 'nearbyStations': '27, 68, 72, 92', 'longitude': '2.16123', 'id': '374', 'altitude': '50', 'latitude': '41.395', 'type': 'BIKE', 'streetNumber': '89', 'bikes': '1'}, {'status': 'OPN', 'slots': '26', 'streetName': 'World Trade Center', 'nearbyStations': '56, 57, 114, 376, 410', 'longitude': '2.180701', 'id': '375', 'altitude': '1', 'latitude': '41.372154', 'type': 'BIKE', 'streetNumber': '', 'bikes': '0'}, {'status': 'OPN', 'slots': '23', 'streetName': 'World Trade Center', 'nearbyStations': '56, 57, 361, 375, 378', 'longitude': '2.180302', 'id': '376', 'altitude': '1', 'latitude': '41.371663', 'type': 'BIKE', 'streetNumber': '', 'bikes': '0'}, {'status': 'OPN', 'slots': '17', 'streetName': 'Pl. Ictíneo', 'nearbyStations': '37, 38, 126, 402', 'longitude': '2.183737', 'id': '377', 'altitude': '1', 'latitude': '41.37747', 'type': 'BIKE', 'streetNumber': '', 'bikes': '10'}, {'status': 'OPN', 'slots': '13', 'streetName': 'Pl.Joaquim Xira i Palau', 'nearbyStations': '56, 57, 114, 425', 'longitude': '2.176716', 'id': '378', 'altitude': '5', 'latitude': '41.378516', 'type': 'BIKE', 'streetNumber': '1', 'bikes': '6'}, {'status': 'OPN', 'slots': '0', 'streetName': 'Pl. Sant Miquel', 'nearbyStations': '37, 55, 378, 401', 'longitude': '2.177308', 'id': '379', 'altitude': '5', 'latitude': '41.381709', 'type': 'BIKE', 'streetNumber': '4', 'bikes': '11'}, {'status': 'OPN', 'slots': '20', 'streetName': 'Duran i Bas', 'nearbyStations': '34, 36, 53, 395', 'longitude': '2.174252', 'id': '380', 'altitude': '32', 'latitude': '41.385463', 'type': 'BIKE', 'streetNumber': '2', 'bikes': '4'}, {'status': 'OPN', 'slots': '21', 'streetName': 'Agustí Duran i Sanpere', 'nearbyStations': '51, 59, 388, 415', 'longitude': '2.167667', 'id': '381', 'altitude': '24', 'latitude': '41.381607', 'type': 'BIKE', 'streetNumber': '10', 'bikes': '11'}, {'status': 'OPN', 'slots': '19', 'streetName': 'Lope de Vega', 'nearbyStations': '150, 154, 155, 162', 'longitude': '2.204188', 'id': '382', 'altitude': '10', 'latitude': '41.403938', 'type': 'BIKE', 'streetNumber': '79', 'bikes': '6'}, {'status': 'OPN', 'slots': '20', 'streetName': 'Vilamarí', 'nearbyStations': '81, 87, 100, 191', 'longitude': '2.146793', 'id': '384', 'altitude': '44', 'latitude': '41.380708', 'type': 'BIKE', 'streetNumber': '85', 'bikes': '7'}, {'status': 'OPN', 'slots': '26', 'streetName': 'Casanova', 'nearbyStations': '76, 89, 90, 110', 'longitude': '2.155266', 'id': '385', 'altitude': '45', 'latitude': '41.387978', 'type': 'BIKE', 'streetNumber': '119', 'bikes': '0'}, {'status': 'OPN', 'slots': '6', 'streetName': 'Av.Paral.lel', 'nearbyStations': '85, 112, 236, 237', 'longitude': '2.156848', 'id': '386', 'altitude': '40', 'latitude': '41.375086', 'type': 'BIKE', 'streetNumber': '164', 'bikes': '17'}, {'status': 'OPN', 'slots': '10', 'streetName': 'Nàpols', 'nearbyStations': '1, 3, 119, 414', 'longitude': '2.178784', 'id': '387', 'altitude': '21', 'latitude': '41.395796', 'type': 'BIKE', 'streetNumber': '125', 'bikes': '15'}, {'status': 'OPN', 'slots': '2', 'streetName': 'Riera Alta', 'nearbyStations': '54, 58, 148, 381', 'longitude': '2.167418', 'id': '388', 'altitude': '24', 'latitude': '41.380593', 'type': 'BIKE', 'streetNumber': '6', 'bikes': '22'}, {'status': 'OPN', 'slots': '20', 'streetName': 'Recinte Parc de la Ciutadella', 'nearbyStations': '6, 14, 47, 118', 'longitude': '2.1875', 'id': '389', 'altitude': '11', 'latitude': '41.38739', 'type': 'BIKE', 'streetNumber': '', 'bikes': '7'}, {'status': 'OPN', 'slots': '0', 'streetName': 'Comerç', 'nearbyStations': '7, 9, 10, 389', 'longitude': '2.18195', 'id': '390', 'altitude': '16', 'latitude': '41.386955', 'type': 'BIKE', 'streetNumber': '36', 'bikes': '27'}, {'status': 'OPN', 'slots': '4', 'streetName': 'Sagrera', 'nearbyStations': '238, 248, 289, 423', 'longitude': '2.191204', 'id': '391', 'altitude': '18', 'latitude': '41.422873', 'type': 'BIKE', 'streetNumber': '74', 'bikes': '17'}, {'status': 'OPN', 'slots': '29', 'streetName': 'Ramon Turró', 'nearbyStations': '45, 47, 118, 409', 'longitude': '2.190543', 'id': '392', 'altitude': '11', 'latitude': '41.390704', 'type': 'BIKE', 'streetNumber': '5', 'bikes': '1'}, {'status': 'OPN', 'slots': '32', 'streetName': 'Llacuna', 'nearbyStations': '142, 152, 153, 428', 'longitude': '2.197653', 'id': '393', 'altitude': '16', 'latitude': '41.402177', 'type': 'BIKE', 'streetNumber': '86', 'bikes': '1'}, {'status': 'OPN', 'slots': '26', 'streetName': 'Diputació', 'nearbyStations': '79, 80, 209', 'longitude': '2.16305', 'id': '394', 'altitude': '41', 'latitude': '41.38733', 'type': 'BIKE', 'streetNumber': '226', 'bikes': '0'}, {'status': 'OPN', 'slots': '25', 'streetName': 'Pl. Catalunya', 'nearbyStations': '62, 63, 64, 65', 'longitude': '2.170212', 'id': '395', 'altitude': '32', 'latitude': '41.386009', 'type': 'BIKE', 'streetNumber': '22', 'bikes': '4'}, {'status': 'OPN', 'slots': '20', 'streetName': 'Joan Miró', 'nearbyStations': '49, 117, 397, 407', 'longitude': '2.196844', 'id': '396', 'altitude': '1', 'latitude': '41.389028', 'type': 'BIKE', 'streetNumber': '2', 'bikes': '11'}, {'status': 'OPN', 'slots': '10', 'streetName': 'Av. Del Litoral', 'nearbyStations': '69, 117, 170, 172', 'longitude': '2.199334', 'id': '397', 'altitude': '1', 'latitude': '41.388894', 'type': 'BIKE', 'streetNumber': '24', 'bikes': '16'}, {'status': 'OPN', 'slots': '8', 'streetName': 'Passeig Marítim de la Barceloneta', 'nearbyStations': '11, 12, 124, 424', 'longitude': '2.193502', 'id': '398', 'altitude': '0', 'latitude': '41.381011', 'type': 'BIKE', 'streetNumber': '', 'bikes': '16'}, {'status': 'OPN', 'slots': '25', 'streetName': 'Moll Oriental', 'nearbyStations': '31, 32, 33, 41, 124', 'longitude': '2.188017', 'id': '400', 'altitude': '5', 'latitude': '41.36958', 'type': 'BIKE', 'streetNumber': '', 'bikes': '0'}, {'status': 'OPN', 'slots': '17', 'streetName': 'Pl. Antonio López (Via Laietana) annexa a la 37', 'nearbyStations': '37, 115, 126, 402', 'longitude': '2.181838', 'id': '401', 'altitude': '5', 'latitude': '41.381241', 'type': 'BIKE', 'streetNumber': '', 'bikes': '6'}, {'status': 'OPN', 'slots': '21', 'streetName': 'Passeig de Colom', 'nearbyStations': '37, 38, 377, 401', 'longitude': '2.182119', 'id': '402', 'altitude': '5', 'latitude': '41.380565', 'type': 'BIKE', 'streetNumber': '', 'bikes': '2'}, {'status': 'OPN', 'slots': '9', 'streetName': 'Juan Gris', 'nearbyStations': '179, 180, 184, 352', 'longitude': '2.133087', 'id': '404', 'altitude': '16', 'latitude': '41.365374', 'type': 'BIKE', 'streetNumber': '28', 'bikes': '18'}, {'status': 'OPN', 'slots': '25', 'streetName': 'Comte Borrell', 'nearbyStations': '83, 87, 110, 225', 'longitude': '2.152', 'id': '405', 'altitude': '45', 'latitude': '41.38551', 'type': 'BIKE', 'streetNumber': '198', 'bikes': '0'}, {'status': 'OPN', 'slots': '30', 'streetName': 'Gran Via de Les Corts Catalanes', 'nearbyStations': '62, 78, 79, 287', 'longitude': '2.164597', 'id': '406', 'altitude': '41', 'latitude': '41.386512', 'type': 'BIKE', 'streetNumber': '592', 'bikes': '0'}, {'status': 'OPN', 'slots': '27', 'streetName': 'Ramon Trias Fargas', 'nearbyStations': '46, 47, 69, 392', 'longitude': '2.192835', 'id': '407', 'altitude': '1', 'latitude': '41.388471', 'type': 'BIKE', 'streetNumber': '19', 'bikes': '0'}, {'status': 'OPN', 'slots': '27', 'streetName': 'Villena, 11', 'nearbyStations': '46, 47, 392, 409', 'longitude': '2.19231', 'id': '408', 'altitude': '1', 'latitude': '41.388609', 'type': 'BIKE', 'streetNumber': '11', 'bikes': '0'}, {'status': 'OPN', 'slots': '24', 'streetName': \"Joan d'Àustria\", 'nearbyStations': '45, 47, 149, 392', 'longitude': '2.192417', 'id': '409', 'altitude': '11', 'latitude': '41.392422', 'type': 'BIKE', 'streetNumber': '50', 'bikes': '7'}, {'status': 'OPN', 'slots': '14', 'streetName': 'Passeig de Colom, s\\\\/n', 'nearbyStations': '56, 57, 361, 375', 'longitude': '2.17871', 'id': '410', 'altitude': '5', 'latitude': '41.376433', 'type': 'BIKE', 'streetNumber': '', 'bikes': '14'}, {'status': 'OPN', 'slots': '23', 'streetName': 'Pl. Urquinaona', 'nearbyStations': '34, 64, 65, 105, 363', 'longitude': '2.172667', 'id': '412', 'altitude': '32', 'latitude': '41.389012', 'type': 'BIKE', 'streetNumber': '3', 'bikes': '4'}, {'status': 'OPN', 'slots': '18', 'streetName': 'Bruc', 'nearbyStations': '15, 23, 25, 360', 'longitude': '2.170718', 'id': '413', 'altitude': '42', 'latitude': '41.393512', 'type': 'BIKE', 'streetNumber': '66', 'bikes': '6'}, {'status': 'OPN', 'slots': '18', 'streetName': 'Casp', 'nearbyStations': '23, 360, 363, 387', 'longitude': '2.176451', 'id': '414', 'altitude': '21', 'latitude': '41.393744', 'type': 'BIKE', 'streetNumber': '67', 'bikes': '13'}, {'status': 'OPN', 'slots': '11', 'streetName': 'Rambla del Raval', 'nearbyStations': '54, 187, 388, 416', 'longitude': '2.168921', 'id': '415', 'altitude': '24', 'latitude': '41.379374', 'type': 'BIKE', 'streetNumber': '13', 'bikes': '14'}, {'status': 'OPN', 'slots': '17', 'streetName': 'Rambla del Raval', 'nearbyStations': '54, 187, 388, 415', 'longitude': '2.16965', 'id': '416', 'altitude': '24', 'latitude': '41.378134', 'type': 'BIKE', 'streetNumber': '20', 'bikes': '7'}, {'status': 'OPN', 'slots': '4', 'streetName': 'Passeig de Lluís Companys ', 'nearbyStations': '6, 7, 359, 419', 'longitude': '2.180251', 'id': '418', 'altitude': '16', 'latitude': '41.390943', 'type': 'BIKE', 'streetNumber': '', 'bikes': '19'}, {'status': 'OPN', 'slots': '5', 'streetName': 'Passeig de Lluís Companys', 'nearbyStations': '4, 6, 8, 418', 'longitude': '2.180828', 'id': '419', 'altitude': '16', 'latitude': '41.391299', 'type': 'BIKE', 'streetNumber': '', 'bikes': '21'}, {'status': 'OPN', 'slots': '24', 'streetName': 'Gran Via', 'nearbyStations': '93, 94, 95, 96', 'longitude': '2.148082', 'id': '420', 'altitude': '61', 'latitude': '41.374213', 'type': 'BIKE', 'streetNumber': '361', 'bikes': '3'}, {'status': 'OPN', 'slots': '30', 'streetName': 'Plaça de Joan Peiró', 'nearbyStations': '98, 100, 188, 210', 'longitude': '2.13923', 'id': '421', 'altitude': '45', 'latitude': '41.377845', 'type': 'BIKE', 'streetNumber': '', 'bikes': '1'}, {'status': 'OPN', 'slots': '4', 'streetName': \"Carrer d'Hondures\", 'nearbyStations': '240, 248, 289, 391', 'longitude': '2.189532', 'id': '423', 'altitude': '18', 'latitude': '41.420201', 'type': 'BIKE', 'streetNumber': '32', 'bikes': '19'}, {'status': 'OPN', 'slots': '17', 'streetName': 'Passeig Marítim de la Barceloneta, devant del 5-7', 'nearbyStations': '11, 41, 124, 398', 'longitude': '2.192662', 'id': '424', 'altitude': '0', 'latitude': '41.379632', 'type': 'BIKE', 'streetNumber': '5', 'bikes': '8'}, {'status': 'OPN', 'slots': '12', 'streetName': 'Carrer de Cervelló', 'nearbyStations': '50, 56, 57, 114', 'longitude': '2.1749', 'id': '425', 'altitude': '24', 'latitude': '41.37652', 'type': 'BIKE', 'streetNumber': '5', 'bikes': '13'}, {'status': 'OPN', 'slots': '26', 'streetName': 'Carrer de Ribes', 'nearbyStations': '1, 24, 119, 372', 'longitude': '2.183023', 'id': '426', 'altitude': '21', 'latitude': '41.398305', 'type': 'BIKE', 'streetNumber': '59', 'bikes': '4'}, {'status': 'OPN', 'slots': '8', 'streetName': 'Carrer de Sant Pau', 'nearbyStations': '50, 148, 187, 232', 'longitude': '2.168007', 'id': '427', 'altitude': '24', 'latitude': '41.375336', 'type': 'BIKE', 'streetNumber': '119', 'bikes': '11'}, {'status': 'OPN', 'slots': '21', 'streetName': 'Carrer Pujades', 'nearbyStations': '142, 149, 153, 161', 'longitude': '2.196261', 'id': '428', 'altitude': '11', 'latitude': '41.398389', 'type': 'BIKE', 'streetNumber': '103', 'bikes': '5'}, {'status': 'OPN', 'slots': '6', 'streetName': '(PK) C\\\\/ JAUME FABRA', 'nearbyStations': '453, 486', 'longitude': '2.159668', 'id': '451', 'altitude': '35', 'latitude': '41.37445', 'type': 'BIKE-ELECTRIC', 'streetNumber': '12', 'bikes': '6'}, {'status': 'OPN', 'slots': '4', 'streetName': '(PK) C\\\\/ PADILLA', 'nearbyStations': '459, 476', 'longitude': '2.186289', 'id': '452', 'altitude': '18', 'latitude': '41.398747', 'type': 'BIKE-ELECTRIC', 'streetNumber': '159', 'bikes': '6'}, {'status': 'OPN', 'slots': '6', 'streetName': '(PK) C\\\\/ URGELL', 'nearbyStations': '451, 480', 'longitude': '2.16204', 'id': '453', 'altitude': '35', 'latitude': '41.379563', 'type': 'BIKE-ELECTRIC', 'streetNumber': '14', 'bikes': '4'}, {'status': 'OPN', 'slots': '6', 'streetName': '(PK) C\\\\/ BILBAO', 'nearbyStations': '469, 490', 'longitude': '2.204131', 'id': '454', 'altitude': '18', 'latitude': '41.402448', 'type': 'BIKE-ELECTRIC', 'streetNumber': '24', 'bikes': '5'}, {'status': 'OPN', 'slots': '1', 'streetName': '(PK) AV. DEL LITORAL', 'nearbyStations': '467, 479', 'longitude': '2.19917', 'id': '455', 'altitude': '1', 'latitude': '41.388966', 'type': 'BIKE-ELECTRIC', 'streetNumber': '34', 'bikes': '9'}, {'status': 'CLS', 'slots': '12', 'streetName': '(PK) C\\\\/ DE FLOS I CALCAT', 'nearbyStations': '458, 470', 'longitude': '2.128581', 'id': '456', 'altitude': '60', 'latitude': '41.389853', 'type': 'BIKE-ELECTRIC', 'streetNumber': '2', 'bikes': '0'}, {'status': 'CLS', 'slots': '12', 'streetName': '(PK) C\\\\/ DE JOSEP BALARÍ', 'nearbyStations': '465, 470', 'longitude': '2.134235', 'id': '457', 'altitude': '106', 'latitude': '41.401519', 'type': 'BIKE-ELECTRIC', 'streetNumber': '2', 'bikes': '0'}, {'status': 'OPN', 'slots': '10', 'streetName': '(PK) AV. JOAN XXIII', 'nearbyStations': '471', 'longitude': '2.122085', 'id': '458', 'altitude': '60', 'latitude': '41.384344', 'type': 'BIKE-ELECTRIC', 'streetNumber': '23-25', 'bikes': '2'}, {'status': 'OPN', 'slots': '8', 'streetName': \"(PK) C\\\\/ D'ALÍ BEI\", 'nearbyStations': '452, 492', 'longitude': '2.181443', 'id': '459', 'altitude': '21', 'latitude': '41.393941', 'type': 'BIKE-ELECTRIC', 'streetNumber': '54', 'bikes': '4'}, {'status': 'OPN', 'slots': '8', 'streetName': '(PK) AV. FRANCESC CAMBÓ', 'nearbyStations': '485, 493', 'longitude': '2.177316', 'id': '460', 'altitude': '16', 'latitude': '41.385702', 'type': 'BIKE-ELECTRIC', 'streetNumber': '10', 'bikes': '4'}, {'status': 'OPN', 'slots': '5', 'streetName': '(PK) AV. JOSEP TARRADELLAS', 'nearbyStations': '452, 481', 'longitude': '2.14274', 'id': '461', 'altitude': '51', 'latitude': '41.384111', 'type': 'BIKE-ELECTRIC', 'streetNumber': '46', 'bikes': '7'}, {'status': 'OPN', 'slots': '8', 'streetName': '(PK) AV. JOSEP TARRADELLAS', 'nearbyStations': '461, 487', 'longitude': '2.143221', 'id': '462', 'altitude': '51', 'latitude': '41.390125', 'type': 'BIKE-ELECTRIC', 'streetNumber': '139', 'bikes': '2'}, {'status': 'OPN', 'slots': '6', 'streetName': '(PK) C\\\\/ DE L´ABAT SAFONT', 'nearbyStations': '453, 480', 'longitude': '2.169795', 'id': '463', 'altitude': '1', 'latitude': '41.375244', 'type': 'BIKE-ELECTRIC', 'streetNumber': '2', 'bikes': '4'}, {'status': 'OPN', 'slots': '7', 'streetName': '(PK) C\\\\/ DE RAMON ALBÓ, 77s', 'nearbyStations': '468, 488', 'longitude': '2.177205', 'id': '464', 'altitude': '42', 'latitude': '41.427727', 'type': 'BIKE-ELECTRIC', 'streetNumber': '77', 'bikes': '5'}, {'status': 'OPN', 'slots': '6', 'streetName': '(PK) RDA. DEL GENERAL MITRE', 'nearbyStations': '465', 'longitude': '2.142456', 'id': '465', 'altitude': '76', 'latitude': '41.40542', 'type': 'BIKE-ELECTRIC', 'streetNumber': '203', 'bikes': '6'}, {'status': 'OPN', 'slots': '3', 'streetName': '(PK) PG. MARAGALL', 'nearbyStations': '475, 488', 'longitude': '2.180684', 'id': '466', 'altitude': '33', 'latitude': '41.415745', 'type': 'BIKE-ELECTRIC', 'streetNumber': '54', 'bikes': '9'}, {'status': 'OPN', 'slots': '7', 'streetName': '(PK) C\\\\/ DEL DR. AIGUADER', 'nearbyStations': '455, 479', 'longitude': '2.194135', 'id': '467', 'altitude': '1', 'latitude': '41.38582', 'type': 'BIKE-ELECTRIC', 'streetNumber': '86-88', 'bikes': '5'}, {'status': 'OPN', 'slots': '5', 'streetName': '(PK) C\\\\/ DE LES MONGES', 'nearbyStations': '464, 488', 'longitude': '2.187974', 'id': '468', 'altitude': '27', 'latitude': '41.430201', 'type': 'BIKE-ELECTRIC', 'streetNumber': '2', 'bikes': '7'}, {'status': 'OPN', 'slots': '4', 'streetName': '(PK) RAMBLA DEL POBLENOU', 'nearbyStations': '454, 476', 'longitude': '2.197132', 'id': '469', 'altitude': '32', 'latitude': '41.404362', 'type': 'BIKE-ELECTRIC', 'streetNumber': '130', 'bikes': '8'}, {'status': 'OPN', 'slots': '10', 'streetName': '(PK) C\\\\/ CARDENAL DE SENTMENAT', 'nearbyStations': '471', 'longitude': '2.125411', 'id': '470', 'altitude': '82', 'latitude': '41.397921', 'type': 'BIKE-ELECTRIC', 'streetNumber': '8', 'bikes': '2'}, {'status': 'OPN', 'slots': '6', 'streetName': '(PK) C\\\\/ MARQUÈS DE MULHACÉN', 'nearbyStations': '458, 470', 'longitude': '2.114973', 'id': '471', 'altitude': '101', 'latitude': '41.39415', 'type': 'BIKE-ELECTRIC', 'streetNumber': '51', 'bikes': '6'}, {'status': 'CLS', 'slots': '10', 'streetName': '(PK) C\\\\/ DEL TORRENT DE L´OLLA', 'nearbyStations': '465, 474', 'longitude': '2.151341', 'id': '472', 'altitude': '72', 'latitude': '41.407353', 'type': 'BIKE-ELECTRIC', 'streetNumber': '221', 'bikes': '0'}, {'status': 'OPN', 'slots': '6', 'streetName': '(PK) PG. DE GARCIA FÀRIA', 'nearbyStations': '454, 482', 'longitude': '2.214978', 'id': '473', 'altitude': '1', 'latitude': '41.404459', 'type': 'BIKE-ELECTRIC', 'streetNumber': '71', 'bikes': '6'}, {'status': 'OPN', 'slots': '4', 'streetName': '(PK) PL. GAL·LA PLACÍDIA', 'nearbyStations': '483, 486', 'longitude': '2.153668', 'id': '474', 'altitude': '59', 'latitude': '41.3989', 'type': 'BIKE-ELECTRIC', 'streetNumber': '2', 'bikes': '6'}, {'status': 'OPN', 'slots': '8', 'streetName': '(PK) C\\\\/ DE LA MARINA', 'nearbyStations': '483, 496', 'longitude': '2.169385', 'id': '475', 'altitude': '59', 'latitude': '41.408528', 'type': 'BIKE-ELECTRIC', 'streetNumber': '345', 'bikes': '4'}, {'status': 'OPN', 'slots': '11', 'streetName': '(PK) C\\\\/ DE BADAJOZ', 'nearbyStations': '452, 469', 'longitude': '2.19042', 'id': '476', 'altitude': '18', 'latitude': '41.402459', 'type': 'BIKE-ELECTRIC', 'streetNumber': '168', 'bikes': '1'}, {'status': 'OPN', 'slots': '7', 'streetName': '(PK) PG. DE COLOM', 'nearbyStations': '478, 493', 'longitude': '2.178745', 'id': '477', 'altitude': '1', 'latitude': '41.376648', 'type': 'BIKE-ELECTRIC', 'streetNumber': '1', 'bikes': '3'}, {'status': 'OPN', 'slots': '9', 'streetName': '(PK) C\\\\/ DEL BALUARD', 'nearbyStations': '467, 477', 'longitude': '2.1891', 'id': '478', 'altitude': '1', 'latitude': '41.3798', 'type': 'BIKE-ELECTRIC', 'streetNumber': '27', 'bikes': '3'}, {'status': 'OPN', 'slots': '5', 'streetName': '(PK) C\\\\/ DE LA MARINA', 'nearbyStations': '455, 467', 'longitude': '2.196595', 'id': '479', 'altitude': '1', 'latitude': '41.387298', 'type': 'BIKE-ELECTRIC', 'streetNumber': '13-17', 'bikes': '7'}, {'status': 'OPN', 'slots': '6', 'streetName': '(PK) C\\\\/ DELS FLORISTES DE LA RAMBLA ', 'nearbyStations': '463, 493', 'longitude': '2.170239', 'id': '480', 'altitude': '24', 'latitude': '41.381516', 'type': 'BIKE-ELECTRIC', 'streetNumber': '8', 'bikes': '6'}, {'status': 'OPN', 'slots': '7', 'streetName': '(PK) C\\\\/ DE VALÈNCIA', 'nearbyStations': '461, 495', 'longitude': '2.150337', 'id': '481', 'altitude': '44', 'latitude': '41.383036', 'type': 'BIKE-ELECTRIC', 'streetNumber': '77', 'bikes': '5'}, {'status': 'OPN', 'slots': '6', 'streetName': \"(PK) PL. D'ERNEST LLUCH I MARTIN\", 'nearbyStations': '473, 489', 'longitude': '2.219812', 'id': '482', 'altitude': '1', 'latitude': '41.41142', 'type': 'BIKE-ELECTRIC', 'streetNumber': 'SN', 'bikes': '6'}, {'status': 'OPN', 'slots': '6', 'streetName': '(PK) C\\\\/ DE SIRACUSA', 'nearbyStations': '474, 486', 'longitude': '2.160748', 'id': '483', 'altitude': '58', 'latitude': '41.401752', 'type': 'BIKE-ELECTRIC', 'streetNumber': '39-51', 'bikes': '6'}, {'status': 'OPN', 'slots': '3', 'streetName': '(PK) RAMBLA CATALUNYA - RDA. UNIVERSITAT', 'nearbyStations': '485, 494', 'longitude': '2.166997', 'id': '484', 'altitude': '40', 'latitude': '41.388101', 'type': 'BIKE-ELECTRIC', 'streetNumber': 'SN', 'bikes': '9'}, {'status': 'OPN', 'slots': '6', 'streetName': '(PK) PLAÇA URQUINAONA', 'nearbyStations': '460, 492', 'longitude': '2.173239', 'id': '485', 'altitude': '32', 'latitude': '41.389914', 'type': 'BIKE-ELECTRIC', 'streetNumber': 'SN', 'bikes': '4'}, {'status': 'OPN', 'slots': '5', 'streetName': '(PK) PG. DE GRÀCIA - DIAGONAL', 'nearbyStations': '451, 474', 'longitude': '2.159445', 'id': '486', 'altitude': '50', 'latitude': '41.396934', 'type': 'BIKE-ELECTRIC', 'streetNumber': '', 'bikes': '7'}, {'status': 'OPN', 'slots': '4', 'streetName': '(PK) PL. DE FERRER I CAJIGAL', 'nearbyStations': '462, 481', 'longitude': '2.154', 'id': '487', 'altitude': '45', 'latitude': '41.38921', 'type': 'BIKE-ELECTRIC', 'streetNumber': '', 'bikes': '8'}, {'status': 'OPN', 'slots': '3', 'streetName': '(PK) C\\\\/ DE CIENFUEGOS', 'nearbyStations': '464, 468', 'longitude': '2.184391', 'id': '488', 'altitude': '18', 'latitude': '41.423976', 'type': 'BIKE-ELECTRIC', 'streetNumber': '13', 'bikes': '9'}, {'status': 'OPN', 'slots': '7', 'streetName': '(PK) PLAÇA CANONGE RODÓ', 'nearbyStations': '469, 482', 'longitude': '2.188282', 'id': '489', 'altitude': '40', 'latitude': '41.409532', 'type': 'BIKE-ELECTRIC', 'streetNumber': 'SN', 'bikes': '5'}, {'status': 'OPN', 'slots': '5', 'streetName': '(PK) C\\\\/ DE BADAJOZ, 58', 'nearbyStations': '454, 469', 'longitude': '2.197721', 'id': '490', 'altitude': '11', 'latitude': '41.39698', 'type': 'BIKE-ELECTRIC', 'streetNumber': '58', 'bikes': '7'}, {'status': 'OPN', 'slots': '6', 'streetName': '(PK) C\\\\/ DE CARRERAS I CANDI', 'nearbyStations': '458, 495', 'longitude': '2.12898', 'id': '491', 'altitude': '61', 'latitude': '41.37252', 'type': 'BIKE-ELECTRIC', 'streetNumber': '65', 'bikes': '6'}, {'status': 'OPN', 'slots': '20', 'streetName': 'PL. DE TETUAN', 'nearbyStations': '459, 485', 'longitude': '2.175278', 'id': '492', 'altitude': '21', 'latitude': '41.394232', 'type': 'BIKE-ELECTRIC', 'streetNumber': '8-9 ', 'bikes': '4'}, {'status': 'OPN', 'slots': '16', 'streetName': 'PL. SANT MIQUEL', 'nearbyStations': '460, 477', 'longitude': '2.177086', 'id': '493', 'altitude': '8', 'latitude': '41.38186', 'type': 'BIKE-ELECTRIC', 'streetNumber': '4', 'bikes': '7'}, {'status': 'OPN', 'slots': '17', 'streetName': 'RAMBLA CATALUNYA', 'nearbyStations': '484, 485', 'longitude': '2.165357', 'id': '494', 'altitude': '41', 'latitude': '41.389481', 'type': 'BIKE-ELECTRIC', 'streetNumber': '31', 'bikes': '7'}, {'status': 'OPN', 'slots': '16', 'streetName': 'C\\\\/ DIPUTACIÓ - TARRAGONA', 'nearbyStations': '451, 481', 'longitude': '2.149283', 'id': '495', 'altitude': '45', 'latitude': '41.377191', 'type': 'BIKE-ELECTRIC', 'streetNumber': 'SN', 'bikes': '8'}, {'status': 'OPN', 'slots': '10', 'streetName': 'C\\\\/ DE PROVENÇA', 'nearbyStations': '452, 475', 'longitude': '2.175141', 'id': '496', 'altitude': '21', 'latitude': '41.404871', 'type': 'BIKE-ELECTRIC', 'streetNumber': '445', 'bikes': '14'}]\n"
     ]
    }
   ],
   "source": [
    "url_bcn = urllib.request.urlopen('http://wservice.viabicing.cat/v2/stations').read()\n",
    "url_bcn = url_bcn.split(b'\\n')\n",
    "# url_bcn = url_bcn[1:len(url_bcn)]\n",
    "url_bcn = eval(url_bcn[0])\n",
    "url_bcn = url_bcn[\"stations\"]\n",
    "print((url_bcn))\n",
    "data_bcn = pd.DataFrame(url_bcn)"
   ]
  },
  {
   "cell_type": "code",
   "execution_count": 15,
   "metadata": {
    "collapsed": true
   },
   "outputs": [],
   "source": [
    "data_bcn['servicio']  = 'bicing'"
   ]
  },
  {
   "cell_type": "code",
   "execution_count": 16,
   "metadata": {
    "collapsed": false
   },
   "outputs": [],
   "source": [
    "data_bcn['direccion'] = data_bcn[\"streetName\"] + data_bcn[\"streetNumber\"]\n",
    "data_bcn['slots'] = data_bcn[\"bikes\"].astype(float) + data_bcn[\"slots\"].astype(float)\n",
    "data_bcn['porcenjate'] = data_bcn['bikes'].astype(float) / data_bcn['slots'].astype(float)\n",
    "\n",
    "\n",
    "del data_bcn[\"streetName\"]\n",
    "del data_bcn[\"streetNumber\"]\n",
    "del data_bcn[\"nearbyStations\"]\n",
    "del data_bcn[\"altitude\"]\n",
    "del data_bcn[\"type\"]"
   ]
  },
  {
   "cell_type": "code",
   "execution_count": 17,
   "metadata": {
    "collapsed": false,
    "slideshow": {
     "slide_type": "subslide"
    }
   },
   "outputs": [],
   "source": [
    "del data_mad[\"luz\"]\n",
    "data_mad['slots'] = data_mad['libres'] / data_mad['porcentaje'] *100\n",
    "del data_mad['porcentaje']\n",
    "data_mad['porcentaje'] = data_mad['libres'].astype(float) / data_mad['slots'].astype(float)\n",
    "del data_mad['numero_estacion']\n",
    "del data_mad['nombre']"
   ]
  },
  {
   "cell_type": "code",
   "execution_count": 18,
   "metadata": {
    "collapsed": false
   },
   "outputs": [
    {
     "data": {
      "text/plain": [
       "Index(['bikes', 'id', 'latitude', 'longitude', 'slots', 'status', 'servicio',\n",
       "       'direccion', 'porcenjate'],\n",
       "      dtype='object')"
      ]
     },
     "execution_count": 18,
     "metadata": {},
     "output_type": "execute_result"
    }
   ],
   "source": [
    "data_bcn.columns "
   ]
  },
  {
   "cell_type": "code",
   "execution_count": 19,
   "metadata": {
    "collapsed": false
   },
   "outputs": [
    {
     "data": {
      "text/plain": [
       "Index(['activo', 'direccion', 'idestacion', 'latitud', 'libres', 'longitud',\n",
       "       'servicio', 'slots', 'porcentaje'],\n",
       "      dtype='object')"
      ]
     },
     "execution_count": 19,
     "metadata": {},
     "output_type": "execute_result"
    }
   ],
   "source": [
    "data_mad.columns"
   ]
  },
  {
   "cell_type": "code",
   "execution_count": 21,
   "metadata": {
    "collapsed": false
   },
   "outputs": [
    {
     "data": {
      "text/html": [
       "<div>\n",
       "<table border=\"1\" class=\"dataframe\">\n",
       "  <thead>\n",
       "    <tr style=\"text-align: right;\">\n",
       "      <th></th>\n",
       "      <th>bikes</th>\n",
       "      <th>id</th>\n",
       "      <th>latitude</th>\n",
       "      <th>longitude</th>\n",
       "      <th>slots</th>\n",
       "      <th>status</th>\n",
       "      <th>servicio</th>\n",
       "      <th>direccion</th>\n",
       "      <th>porcenjate</th>\n",
       "    </tr>\n",
       "  </thead>\n",
       "  <tbody>\n",
       "    <tr>\n",
       "      <th>0</th>\n",
       "      <td>20</td>\n",
       "      <td>1</td>\n",
       "      <td>41.397952</td>\n",
       "      <td>2.180042</td>\n",
       "      <td>22.0</td>\n",
       "      <td>OPN</td>\n",
       "      <td>bicing</td>\n",
       "      <td>Gran Via Corts Catalanes760</td>\n",
       "      <td>0.909091</td>\n",
       "    </tr>\n",
       "    <tr>\n",
       "      <th>1</th>\n",
       "      <td>9</td>\n",
       "      <td>2</td>\n",
       "      <td>41.39553</td>\n",
       "      <td>2.17706</td>\n",
       "      <td>24.0</td>\n",
       "      <td>OPN</td>\n",
       "      <td>bicing</td>\n",
       "      <td>Roger de Flor\\/ Gran Vía126</td>\n",
       "      <td>0.375000</td>\n",
       "    </tr>\n",
       "    <tr>\n",
       "      <th>2</th>\n",
       "      <td>7</td>\n",
       "      <td>3</td>\n",
       "      <td>41.393699</td>\n",
       "      <td>2.181137</td>\n",
       "      <td>23.0</td>\n",
       "      <td>OPN</td>\n",
       "      <td>bicing</td>\n",
       "      <td>Ali Bei44</td>\n",
       "      <td>0.304348</td>\n",
       "    </tr>\n",
       "    <tr>\n",
       "      <th>3</th>\n",
       "      <td>3</td>\n",
       "      <td>4</td>\n",
       "      <td>41.39347</td>\n",
       "      <td>2.18149</td>\n",
       "      <td>21.0</td>\n",
       "      <td>OPN</td>\n",
       "      <td>bicing</td>\n",
       "      <td>Ribes13</td>\n",
       "      <td>0.142857</td>\n",
       "    </tr>\n",
       "    <tr>\n",
       "      <th>4</th>\n",
       "      <td>22</td>\n",
       "      <td>5</td>\n",
       "      <td>41.391075</td>\n",
       "      <td>2.180223</td>\n",
       "      <td>36.0</td>\n",
       "      <td>OPN</td>\n",
       "      <td>bicing</td>\n",
       "      <td>Pg Lluís Companys11</td>\n",
       "      <td>0.611111</td>\n",
       "    </tr>\n",
       "  </tbody>\n",
       "</table>\n",
       "</div>"
      ],
      "text/plain": [
       "  bikes id   latitude longitude  slots status servicio  \\\n",
       "0    20  1  41.397952  2.180042   22.0    OPN   bicing   \n",
       "1     9  2   41.39553   2.17706   24.0    OPN   bicing   \n",
       "2     7  3  41.393699  2.181137   23.0    OPN   bicing   \n",
       "3     3  4   41.39347   2.18149   21.0    OPN   bicing   \n",
       "4    22  5  41.391075  2.180223   36.0    OPN   bicing   \n",
       "\n",
       "                     direccion  porcenjate  \n",
       "0  Gran Via Corts Catalanes760    0.909091  \n",
       "1  Roger de Flor\\/ Gran Vía126    0.375000  \n",
       "2                    Ali Bei44    0.304348  \n",
       "3                      Ribes13    0.142857  \n",
       "4          Pg Lluís Companys11    0.611111  "
      ]
     },
     "execution_count": 21,
     "metadata": {},
     "output_type": "execute_result"
    }
   ],
   "source": [
    "data_bcn.head()"
   ]
  },
  {
   "cell_type": "code",
   "execution_count": 22,
   "metadata": {
    "collapsed": false
   },
   "outputs": [],
   "source": [
    "data_bcn.columns = ['libres', 'id_estacion', 'latitud', 'longitud', 'slots', 'status', 'servicio', 'direccion','porcentaje']\n",
    "data_mad.columns = ['status', 'direccion', 'id_estacion', 'latitud', 'libres', 'longitud','servicio', 'slots', 'porcentaje']"
   ]
  },
  {
   "cell_type": "code",
   "execution_count": 23,
   "metadata": {
    "collapsed": false
   },
   "outputs": [],
   "source": [
    "data_mad=data_mad.dropna() \n",
    "data_bcn=data_bcn.dropna() "
   ]
  },
  {
   "cell_type": "code",
   "execution_count": 24,
   "metadata": {
    "collapsed": true
   },
   "outputs": [],
   "source": [
    "import warnings\n",
    "warnings.filterwarnings(\"ignore\")"
   ]
  },
  {
   "cell_type": "code",
   "execution_count": 25,
   "metadata": {
    "collapsed": false
   },
   "outputs": [],
   "source": [
    "data_mad['disponibilidad'] = 'baja disponibilidad'\n",
    "data_mad['disponibilidad'][(data_mad['porcentaje'] > 0.20) & (data_mad['porcentaje'] <= 0.5)] = 'disponibilidad media'\n",
    "data_mad['disponibilidad'][(data_mad['porcentaje'] > 0.50) & (data_mad['porcentaje'] <= 0.8)] = 'alta disponibilidad'\n",
    "data_mad['disponibilidad'][data_mad['porcentaje'] >0.80] = 'muy alta disponibilidad'\n"
   ]
  },
  {
   "cell_type": "code",
   "execution_count": 26,
   "metadata": {
    "collapsed": false
   },
   "outputs": [],
   "source": [
    "data_bcn['disponibilidad'] = 'baja disponibilidad'\n",
    "data_bcn['disponibilidad'][(data_bcn['porcentaje'] > 0.20) & (data_bcn['porcentaje'] <= 0.5)] = 'disponibilidad media'\n",
    "data_bcn['disponibilidad'][(data_bcn['porcentaje'] > 0.50) & (data_bcn['porcentaje'] <= 0.8)] = 'alta disponibilidad'\n",
    "data_bcn['disponibilidad'][data_bcn['porcentaje'] >0.80] = 'muy alta disponibilidad'\n",
    "\n"
   ]
  },
  {
   "cell_type": "code",
   "execution_count": 27,
   "metadata": {
    "collapsed": false
   },
   "outputs": [
    {
     "data": {
      "text/html": [
       "<div>\n",
       "<table border=\"1\" class=\"dataframe\">\n",
       "  <thead>\n",
       "    <tr style=\"text-align: right;\">\n",
       "      <th></th>\n",
       "      <th>status</th>\n",
       "      <th>direccion</th>\n",
       "      <th>id_estacion</th>\n",
       "      <th>latitud</th>\n",
       "      <th>libres</th>\n",
       "      <th>longitud</th>\n",
       "      <th>servicio</th>\n",
       "      <th>slots</th>\n",
       "      <th>porcentaje</th>\n",
       "      <th>disponibilidad</th>\n",
       "    </tr>\n",
       "  </thead>\n",
       "  <tbody>\n",
       "    <tr>\n",
       "      <th>0</th>\n",
       "      <td>True</td>\n",
       "      <td>Puerta del Sol No 1</td>\n",
       "      <td>1a</td>\n",
       "      <td>40.4168961</td>\n",
       "      <td>12</td>\n",
       "      <td>-3.7024255</td>\n",
       "      <td>bicimad</td>\n",
       "      <td>24.0</td>\n",
       "      <td>0.500000</td>\n",
       "      <td>disponibilidad media</td>\n",
       "    </tr>\n",
       "    <tr>\n",
       "      <th>1</th>\n",
       "      <td>True</td>\n",
       "      <td>Calle Fuencarral No 108</td>\n",
       "      <td>5</td>\n",
       "      <td>40.4285280</td>\n",
       "      <td>21</td>\n",
       "      <td>-3.7020599</td>\n",
       "      <td>bicimad</td>\n",
       "      <td>27.0</td>\n",
       "      <td>0.777778</td>\n",
       "      <td>alta disponibilidad</td>\n",
       "    </tr>\n",
       "    <tr>\n",
       "      <th>2</th>\n",
       "      <td>True</td>\n",
       "      <td>Calle Marques de la Ensenada No 16</td>\n",
       "      <td>10</td>\n",
       "      <td>40.4250863</td>\n",
       "      <td>13</td>\n",
       "      <td>-3.6918807</td>\n",
       "      <td>bicimad</td>\n",
       "      <td>24.0</td>\n",
       "      <td>0.541667</td>\n",
       "      <td>alta disponibilidad</td>\n",
       "    </tr>\n",
       "    <tr>\n",
       "      <th>3</th>\n",
       "      <td>True</td>\n",
       "      <td>Calle San Vicente Ferrer No 64</td>\n",
       "      <td>15</td>\n",
       "      <td>40.4261649</td>\n",
       "      <td>15</td>\n",
       "      <td>-3.7073764</td>\n",
       "      <td>bicimad</td>\n",
       "      <td>21.0</td>\n",
       "      <td>0.714286</td>\n",
       "      <td>alta disponibilidad</td>\n",
       "    </tr>\n",
       "    <tr>\n",
       "      <th>4</th>\n",
       "      <td>True</td>\n",
       "      <td>Calle Alcala No 49</td>\n",
       "      <td>20a</td>\n",
       "      <td>40.4192342</td>\n",
       "      <td>12</td>\n",
       "      <td>-3.6954615</td>\n",
       "      <td>bicimad</td>\n",
       "      <td>24.0</td>\n",
       "      <td>0.500000</td>\n",
       "      <td>disponibilidad media</td>\n",
       "    </tr>\n",
       "  </tbody>\n",
       "</table>\n",
       "</div>"
      ],
      "text/plain": [
       "  status                           direccion id_estacion     latitud  libres  \\\n",
       "0   True                 Puerta del Sol No 1          1a  40.4168961      12   \n",
       "1   True             Calle Fuencarral No 108           5  40.4285280      21   \n",
       "2   True  Calle Marques de la Ensenada No 16          10  40.4250863      13   \n",
       "3   True      Calle San Vicente Ferrer No 64          15  40.4261649      15   \n",
       "4   True                  Calle Alcala No 49         20a  40.4192342      12   \n",
       "\n",
       "     longitud servicio  slots  porcentaje        disponibilidad  \n",
       "0  -3.7024255  bicimad   24.0    0.500000  disponibilidad media  \n",
       "1  -3.7020599  bicimad   27.0    0.777778   alta disponibilidad  \n",
       "2  -3.6918807  bicimad   24.0    0.541667   alta disponibilidad  \n",
       "3  -3.7073764  bicimad   21.0    0.714286   alta disponibilidad  \n",
       "4  -3.6954615  bicimad   24.0    0.500000  disponibilidad media  "
      ]
     },
     "execution_count": 27,
     "metadata": {},
     "output_type": "execute_result"
    }
   ],
   "source": [
    "data_mad.head()"
   ]
  },
  {
   "cell_type": "code",
   "execution_count": 28,
   "metadata": {
    "collapsed": false
   },
   "outputs": [
    {
     "data": {
      "text/html": [
       "<div>\n",
       "<table border=\"1\" class=\"dataframe\">\n",
       "  <thead>\n",
       "    <tr style=\"text-align: right;\">\n",
       "      <th></th>\n",
       "      <th>libres</th>\n",
       "      <th>id_estacion</th>\n",
       "      <th>latitud</th>\n",
       "      <th>longitud</th>\n",
       "      <th>slots</th>\n",
       "      <th>status</th>\n",
       "      <th>servicio</th>\n",
       "      <th>direccion</th>\n",
       "      <th>porcentaje</th>\n",
       "      <th>disponibilidad</th>\n",
       "    </tr>\n",
       "  </thead>\n",
       "  <tbody>\n",
       "    <tr>\n",
       "      <th>0</th>\n",
       "      <td>20</td>\n",
       "      <td>1</td>\n",
       "      <td>41.397952</td>\n",
       "      <td>2.180042</td>\n",
       "      <td>22.0</td>\n",
       "      <td>OPN</td>\n",
       "      <td>bicing</td>\n",
       "      <td>Gran Via Corts Catalanes760</td>\n",
       "      <td>0.909091</td>\n",
       "      <td>muy alta disponibilidad</td>\n",
       "    </tr>\n",
       "    <tr>\n",
       "      <th>1</th>\n",
       "      <td>9</td>\n",
       "      <td>2</td>\n",
       "      <td>41.39553</td>\n",
       "      <td>2.17706</td>\n",
       "      <td>24.0</td>\n",
       "      <td>OPN</td>\n",
       "      <td>bicing</td>\n",
       "      <td>Roger de Flor\\/ Gran Vía126</td>\n",
       "      <td>0.375000</td>\n",
       "      <td>disponibilidad media</td>\n",
       "    </tr>\n",
       "    <tr>\n",
       "      <th>2</th>\n",
       "      <td>7</td>\n",
       "      <td>3</td>\n",
       "      <td>41.393699</td>\n",
       "      <td>2.181137</td>\n",
       "      <td>23.0</td>\n",
       "      <td>OPN</td>\n",
       "      <td>bicing</td>\n",
       "      <td>Ali Bei44</td>\n",
       "      <td>0.304348</td>\n",
       "      <td>disponibilidad media</td>\n",
       "    </tr>\n",
       "    <tr>\n",
       "      <th>3</th>\n",
       "      <td>3</td>\n",
       "      <td>4</td>\n",
       "      <td>41.39347</td>\n",
       "      <td>2.18149</td>\n",
       "      <td>21.0</td>\n",
       "      <td>OPN</td>\n",
       "      <td>bicing</td>\n",
       "      <td>Ribes13</td>\n",
       "      <td>0.142857</td>\n",
       "      <td>baja disponibilidad</td>\n",
       "    </tr>\n",
       "    <tr>\n",
       "      <th>4</th>\n",
       "      <td>22</td>\n",
       "      <td>5</td>\n",
       "      <td>41.391075</td>\n",
       "      <td>2.180223</td>\n",
       "      <td>36.0</td>\n",
       "      <td>OPN</td>\n",
       "      <td>bicing</td>\n",
       "      <td>Pg Lluís Companys11</td>\n",
       "      <td>0.611111</td>\n",
       "      <td>alta disponibilidad</td>\n",
       "    </tr>\n",
       "  </tbody>\n",
       "</table>\n",
       "</div>"
      ],
      "text/plain": [
       "  libres id_estacion    latitud  longitud  slots status servicio  \\\n",
       "0     20           1  41.397952  2.180042   22.0    OPN   bicing   \n",
       "1      9           2   41.39553   2.17706   24.0    OPN   bicing   \n",
       "2      7           3  41.393699  2.181137   23.0    OPN   bicing   \n",
       "3      3           4   41.39347   2.18149   21.0    OPN   bicing   \n",
       "4     22           5  41.391075  2.180223   36.0    OPN   bicing   \n",
       "\n",
       "                     direccion  porcentaje           disponibilidad  \n",
       "0  Gran Via Corts Catalanes760    0.909091  muy alta disponibilidad  \n",
       "1  Roger de Flor\\/ Gran Vía126    0.375000     disponibilidad media  \n",
       "2                    Ali Bei44    0.304348     disponibilidad media  \n",
       "3                      Ribes13    0.142857      baja disponibilidad  \n",
       "4          Pg Lluís Companys11    0.611111      alta disponibilidad  "
      ]
     },
     "execution_count": 28,
     "metadata": {},
     "output_type": "execute_result"
    }
   ],
   "source": [
    "data_bcn.head()"
   ]
  },
  {
   "cell_type": "markdown",
   "metadata": {},
   "source": [
    "## guardamos en mongoDB"
   ]
  },
  {
   "cell_type": "code",
   "execution_count": 29,
   "metadata": {
    "collapsed": false
   },
   "outputs": [
    {
     "data": {
      "text/plain": [
       "<pymongo.results.InsertManyResult at 0x7eff7f392870>"
      ]
     },
     "execution_count": 29,
     "metadata": {},
     "output_type": "execute_result"
    }
   ],
   "source": [
    "from pymongo import MongoClient\n",
    "#mongodb conection\n",
    "client = MongoClient('localhost', 27017)\n",
    "db = client.bici\n",
    "collection = db.datacleaned\n",
    "collection.insert_many(data_mad.to_dict(\"records\"))\n",
    "collection.insert_many(data_bcn.to_dict(\"records\"))"
   ]
  }
 ],
 "metadata": {
  "anaconda-cloud": {},
  "celltoolbar": "Slideshow",
  "kernelspec": {
   "display_name": "Python [Root]",
   "language": "python",
   "name": "Python [Root]"
  },
  "language_info": {
   "codemirror_mode": {
    "name": "ipython",
    "version": 3
   },
   "file_extension": ".py",
   "mimetype": "text/x-python",
   "name": "python",
   "nbconvert_exporter": "python",
   "pygments_lexer": "ipython3",
   "version": "3.5.2"
  }
 },
 "nbformat": 4,
 "nbformat_minor": 0
}
