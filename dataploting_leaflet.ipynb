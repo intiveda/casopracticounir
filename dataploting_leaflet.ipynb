{
 "cells": [
  {
   "cell_type": "markdown",
   "metadata": {},
   "source": [
    "# pintamos BICING\n",
    "<img src=\"https://upload.wikimedia.org/wikipedia/commons/thumb/a/a1/Bicing_logo.svg/200px-Bicing_logo.svg.png\" style=\"width:150px; display:inline\">\n"
   ]
  },
  {
   "cell_type": "code",
   "execution_count": 1,
   "metadata": {
    "collapsed": true
   },
   "outputs": [],
   "source": [
    "from pymongo import MongoClient\n",
    "client = MongoClient('localhost', 27017)\n",
    "db = client.bici\n",
    "collection = db.datacleaned\n",
    "agg_data = list(collection.find({\"servicio\":\"bicing\"}))"
   ]
  },
  {
   "cell_type": "code",
   "execution_count": 2,
   "metadata": {
    "collapsed": false
   },
   "outputs": [
    {
     "data": {
      "text/html": [
       "<div>\n",
       "<table border=\"1\" class=\"dataframe\">\n",
       "  <thead>\n",
       "    <tr style=\"text-align: right;\">\n",
       "      <th></th>\n",
       "      <th>_id</th>\n",
       "      <th>direccion</th>\n",
       "      <th>disponibilidad</th>\n",
       "      <th>id_estacion</th>\n",
       "      <th>latitud</th>\n",
       "      <th>libres</th>\n",
       "      <th>longitud</th>\n",
       "      <th>porcentaje</th>\n",
       "      <th>servicio</th>\n",
       "      <th>slots</th>\n",
       "      <th>status</th>\n",
       "    </tr>\n",
       "  </thead>\n",
       "  <tbody>\n",
       "    <tr>\n",
       "      <th>0</th>\n",
       "      <td>57cdb1cca97beaa3dfdbb91b</td>\n",
       "      <td>Gran Via Corts Catalanes760</td>\n",
       "      <td>muy alta disponibilidad</td>\n",
       "      <td>1</td>\n",
       "      <td>41.397952</td>\n",
       "      <td>20</td>\n",
       "      <td>2.180042</td>\n",
       "      <td>0.909091</td>\n",
       "      <td>bicing</td>\n",
       "      <td>22.0</td>\n",
       "      <td>OPN</td>\n",
       "    </tr>\n",
       "    <tr>\n",
       "      <th>1</th>\n",
       "      <td>57cdb1cca97beaa3dfdbb91c</td>\n",
       "      <td>Roger de Flor\\/ Gran Vía126</td>\n",
       "      <td>disponibilidad media</td>\n",
       "      <td>2</td>\n",
       "      <td>41.39553</td>\n",
       "      <td>9</td>\n",
       "      <td>2.17706</td>\n",
       "      <td>0.375000</td>\n",
       "      <td>bicing</td>\n",
       "      <td>24.0</td>\n",
       "      <td>OPN</td>\n",
       "    </tr>\n",
       "    <tr>\n",
       "      <th>2</th>\n",
       "      <td>57cdb1cca97beaa3dfdbb91d</td>\n",
       "      <td>Ali Bei44</td>\n",
       "      <td>disponibilidad media</td>\n",
       "      <td>3</td>\n",
       "      <td>41.393699</td>\n",
       "      <td>7</td>\n",
       "      <td>2.181137</td>\n",
       "      <td>0.304348</td>\n",
       "      <td>bicing</td>\n",
       "      <td>23.0</td>\n",
       "      <td>OPN</td>\n",
       "    </tr>\n",
       "    <tr>\n",
       "      <th>3</th>\n",
       "      <td>57cdb1cca97beaa3dfdbb91e</td>\n",
       "      <td>Ribes13</td>\n",
       "      <td>baja disponibilidad</td>\n",
       "      <td>4</td>\n",
       "      <td>41.39347</td>\n",
       "      <td>3</td>\n",
       "      <td>2.18149</td>\n",
       "      <td>0.142857</td>\n",
       "      <td>bicing</td>\n",
       "      <td>21.0</td>\n",
       "      <td>OPN</td>\n",
       "    </tr>\n",
       "    <tr>\n",
       "      <th>4</th>\n",
       "      <td>57cdb1cca97beaa3dfdbb91f</td>\n",
       "      <td>Pg Lluís Companys11</td>\n",
       "      <td>alta disponibilidad</td>\n",
       "      <td>5</td>\n",
       "      <td>41.391075</td>\n",
       "      <td>22</td>\n",
       "      <td>2.180223</td>\n",
       "      <td>0.611111</td>\n",
       "      <td>bicing</td>\n",
       "      <td>36.0</td>\n",
       "      <td>OPN</td>\n",
       "    </tr>\n",
       "  </tbody>\n",
       "</table>\n",
       "</div>"
      ],
      "text/plain": [
       "                        _id                    direccion  \\\n",
       "0  57cdb1cca97beaa3dfdbb91b  Gran Via Corts Catalanes760   \n",
       "1  57cdb1cca97beaa3dfdbb91c  Roger de Flor\\/ Gran Vía126   \n",
       "2  57cdb1cca97beaa3dfdbb91d                    Ali Bei44   \n",
       "3  57cdb1cca97beaa3dfdbb91e                      Ribes13   \n",
       "4  57cdb1cca97beaa3dfdbb91f          Pg Lluís Companys11   \n",
       "\n",
       "            disponibilidad id_estacion    latitud libres  longitud  \\\n",
       "0  muy alta disponibilidad           1  41.397952     20  2.180042   \n",
       "1     disponibilidad media           2   41.39553      9   2.17706   \n",
       "2     disponibilidad media           3  41.393699      7  2.181137   \n",
       "3      baja disponibilidad           4   41.39347      3   2.18149   \n",
       "4      alta disponibilidad           5  41.391075     22  2.180223   \n",
       "\n",
       "   porcentaje servicio  slots status  \n",
       "0    0.909091   bicing   22.0    OPN  \n",
       "1    0.375000   bicing   24.0    OPN  \n",
       "2    0.304348   bicing   23.0    OPN  \n",
       "3    0.142857   bicing   21.0    OPN  \n",
       "4    0.611111   bicing   36.0    OPN  "
      ]
     },
     "execution_count": 2,
     "metadata": {},
     "output_type": "execute_result"
    }
   ],
   "source": [
    "import folium\n",
    "import pandas as pd\n",
    "\n",
    "agg_dataDF = pd.DataFrame(agg_data)\n",
    "agg_dataDF.head()"
   ]
  },
  {
   "cell_type": "code",
   "execution_count": 3,
   "metadata": {
    "collapsed": false,
    "scrolled": false
   },
   "outputs": [
    {
     "name": "stderr",
     "output_type": "stream",
     "text": [
      "/home/grace/anaconda3/lib/python3.5/site-packages/ipykernel/__main__.py:9: FutureWarning: simple_marker is deprecated. Use add_children(Marker) instead\n",
      "/home/grace/anaconda3/lib/python3.5/site-packages/ipykernel/__main__.py:11: FutureWarning: Map.create_map is deprecated. Use Map.save instead\n"
     ]
    }
   ],
   "source": [
    "COORDINATES = (float(agg_dataDF.latitud.head(1)), float(agg_dataDF.longitud.head(1)))\n",
    "map = folium.Map(location=COORDINATES, zoom_start=12)\n",
    "\n",
    "for each in agg_dataDF.iterrows():\n",
    "    each = dict((each[1]))\n",
    "    latitud = each[\"latitud\"]\n",
    "    longitud =  each[\"longitud\"]\n",
    "    texto = each[\"disponibilidad\"] + \" \" + each[\"libres\"] + \" bicis disponibles\"  \n",
    "    map.simple_marker(location=[latitud, longitud], popup=texto)\n",
    "\n",
    "map.create_map(path='mapbicing.html') "
   ]
  },
  {
   "cell_type": "markdown",
   "metadata": {},
   "source": [
    "# Pintamos BICIMAD\n",
    "<img src=\"https://pbs.twimg.com/profile_images/621342633655271424/26fdqUsf.png\" style=\"width:150px; display:inline\">\n",
    "\n"
   ]
  },
  {
   "cell_type": "code",
   "execution_count": 4,
   "metadata": {
    "collapsed": true
   },
   "outputs": [],
   "source": [
    "from pymongo import MongoClient\n",
    "client = MongoClient('localhost', 27017)\n",
    "db = client.bici\n",
    "collection = db.datacleaned\n",
    "agg_data = list(collection.find({\"servicio\":\"bicimad\"}))"
   ]
  },
  {
   "cell_type": "code",
   "execution_count": 5,
   "metadata": {
    "collapsed": false
   },
   "outputs": [
    {
     "data": {
      "text/html": [
       "<div>\n",
       "<table border=\"1\" class=\"dataframe\">\n",
       "  <thead>\n",
       "    <tr style=\"text-align: right;\">\n",
       "      <th></th>\n",
       "      <th>_id</th>\n",
       "      <th>direccion</th>\n",
       "      <th>disponibilidad</th>\n",
       "      <th>id_estacion</th>\n",
       "      <th>latitud</th>\n",
       "      <th>libres</th>\n",
       "      <th>longitud</th>\n",
       "      <th>porcentaje</th>\n",
       "      <th>servicio</th>\n",
       "      <th>slots</th>\n",
       "      <th>status</th>\n",
       "    </tr>\n",
       "  </thead>\n",
       "  <tbody>\n",
       "    <tr>\n",
       "      <th>0</th>\n",
       "      <td>57cdb1cca97beaa3dfdbb89d</td>\n",
       "      <td>Puerta del Sol No 1</td>\n",
       "      <td>disponibilidad media</td>\n",
       "      <td>1a</td>\n",
       "      <td>40.4168961</td>\n",
       "      <td>12</td>\n",
       "      <td>-3.7024255</td>\n",
       "      <td>0.500000</td>\n",
       "      <td>bicimad</td>\n",
       "      <td>24.0</td>\n",
       "      <td>True</td>\n",
       "    </tr>\n",
       "    <tr>\n",
       "      <th>1</th>\n",
       "      <td>57cdb1cca97beaa3dfdbb89e</td>\n",
       "      <td>Calle Fuencarral No 108</td>\n",
       "      <td>alta disponibilidad</td>\n",
       "      <td>5</td>\n",
       "      <td>40.4285280</td>\n",
       "      <td>21</td>\n",
       "      <td>-3.7020599</td>\n",
       "      <td>0.777778</td>\n",
       "      <td>bicimad</td>\n",
       "      <td>27.0</td>\n",
       "      <td>True</td>\n",
       "    </tr>\n",
       "    <tr>\n",
       "      <th>2</th>\n",
       "      <td>57cdb1cca97beaa3dfdbb89f</td>\n",
       "      <td>Calle Marques de la Ensenada No 16</td>\n",
       "      <td>alta disponibilidad</td>\n",
       "      <td>10</td>\n",
       "      <td>40.4250863</td>\n",
       "      <td>13</td>\n",
       "      <td>-3.6918807</td>\n",
       "      <td>0.541667</td>\n",
       "      <td>bicimad</td>\n",
       "      <td>24.0</td>\n",
       "      <td>True</td>\n",
       "    </tr>\n",
       "    <tr>\n",
       "      <th>3</th>\n",
       "      <td>57cdb1cca97beaa3dfdbb8a0</td>\n",
       "      <td>Calle San Vicente Ferrer No 64</td>\n",
       "      <td>alta disponibilidad</td>\n",
       "      <td>15</td>\n",
       "      <td>40.4261649</td>\n",
       "      <td>15</td>\n",
       "      <td>-3.7073764</td>\n",
       "      <td>0.714286</td>\n",
       "      <td>bicimad</td>\n",
       "      <td>21.0</td>\n",
       "      <td>True</td>\n",
       "    </tr>\n",
       "    <tr>\n",
       "      <th>4</th>\n",
       "      <td>57cdb1cca97beaa3dfdbb8a1</td>\n",
       "      <td>Calle Alcala No 49</td>\n",
       "      <td>disponibilidad media</td>\n",
       "      <td>20a</td>\n",
       "      <td>40.4192342</td>\n",
       "      <td>12</td>\n",
       "      <td>-3.6954615</td>\n",
       "      <td>0.500000</td>\n",
       "      <td>bicimad</td>\n",
       "      <td>24.0</td>\n",
       "      <td>True</td>\n",
       "    </tr>\n",
       "  </tbody>\n",
       "</table>\n",
       "</div>"
      ],
      "text/plain": [
       "                        _id                           direccion  \\\n",
       "0  57cdb1cca97beaa3dfdbb89d                 Puerta del Sol No 1   \n",
       "1  57cdb1cca97beaa3dfdbb89e             Calle Fuencarral No 108   \n",
       "2  57cdb1cca97beaa3dfdbb89f  Calle Marques de la Ensenada No 16   \n",
       "3  57cdb1cca97beaa3dfdbb8a0      Calle San Vicente Ferrer No 64   \n",
       "4  57cdb1cca97beaa3dfdbb8a1                  Calle Alcala No 49   \n",
       "\n",
       "         disponibilidad id_estacion     latitud  libres    longitud  \\\n",
       "0  disponibilidad media          1a  40.4168961      12  -3.7024255   \n",
       "1   alta disponibilidad           5  40.4285280      21  -3.7020599   \n",
       "2   alta disponibilidad          10  40.4250863      13  -3.6918807   \n",
       "3   alta disponibilidad          15  40.4261649      15  -3.7073764   \n",
       "4  disponibilidad media         20a  40.4192342      12  -3.6954615   \n",
       "\n",
       "   porcentaje servicio  slots status  \n",
       "0    0.500000  bicimad   24.0   True  \n",
       "1    0.777778  bicimad   27.0   True  \n",
       "2    0.541667  bicimad   24.0   True  \n",
       "3    0.714286  bicimad   21.0   True  \n",
       "4    0.500000  bicimad   24.0   True  "
      ]
     },
     "execution_count": 5,
     "metadata": {},
     "output_type": "execute_result"
    }
   ],
   "source": [
    "import folium\n",
    "import pandas as pd\n",
    "\n",
    "agg_dataDF = pd.DataFrame(agg_data)\n",
    "agg_dataDF.head()"
   ]
  },
  {
   "cell_type": "code",
   "execution_count": 6,
   "metadata": {
    "collapsed": false,
    "scrolled": false
   },
   "outputs": [
    {
     "name": "stderr",
     "output_type": "stream",
     "text": [
      "/home/grace/anaconda3/lib/python3.5/site-packages/ipykernel/__main__.py:9: FutureWarning: simple_marker is deprecated. Use add_children(Marker) instead\n",
      "/home/grace/anaconda3/lib/python3.5/site-packages/ipykernel/__main__.py:11: FutureWarning: Map.create_map is deprecated. Use Map.save instead\n"
     ]
    }
   ],
   "source": [
    "COORDINATES = (float(agg_dataDF.latitud.head(1)), float(agg_dataDF.longitud.head(1)))\n",
    "map = folium.Map(location=COORDINATES, zoom_start=12)\n",
    "\n",
    "for each in agg_dataDF.iterrows():\n",
    "    each = dict((each[1]))\n",
    "    latitud = each[\"latitud\"]\n",
    "    longitud =  each[\"longitud\"]\n",
    "    texto = each[\"disponibilidad\"] + \" \" + str(each[\"libres\"]) + \" bicis disponibles\"  \n",
    "    map.simple_marker(location=[latitud, longitud], popup=texto)\n",
    "\n",
    "map.create_map(path='mapbicimad.html') "
   ]
  }
 ],
 "metadata": {
  "kernelspec": {
   "display_name": "Python [Root]",
   "language": "python",
   "name": "Python [Root]"
  },
  "language_info": {
   "codemirror_mode": {
    "name": "ipython",
    "version": 3
   },
   "file_extension": ".py",
   "mimetype": "text/x-python",
   "name": "python",
   "nbconvert_exporter": "python",
   "pygments_lexer": "ipython3",
   "version": "3.5.2"
  }
 },
 "nbformat": 4,
 "nbformat_minor": 0
}
