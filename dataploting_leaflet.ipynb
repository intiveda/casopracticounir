{
 "cells": [
  {
   "cell_type": "markdown",
   "metadata": {},
   "source": [
    "# pintamos BICING\n",
    "<img src=\"https://upload.wikimedia.org/wikipedia/commons/thumb/a/a1/Bicing_logo.svg/200px-Bicing_logo.svg.png\" style=\"width:150px; display:inline\">\n"
   ]
  },
  {
   "cell_type": "code",
   "execution_count": 1,
   "metadata": {
    "collapsed": true
   },
   "outputs": [],
   "source": [
    "from pymongo import MongoClient\n",
    "client = MongoClient('localhost', 27017)\n",
    "db = client.bici\n",
    "collection = db.datacleaned\n",
    "agg_data = list(collection.find({\"servicio\":\"bicing\"}))"
   ]
  },
  {
   "cell_type": "code",
   "execution_count": 2,
   "metadata": {
    "collapsed": false
   },
   "outputs": [
    {
     "data": {
      "text/html": [
       "<div>\n",
       "<table border=\"1\" class=\"dataframe\">\n",
       "  <thead>\n",
       "    <tr style=\"text-align: right;\">\n",
       "      <th></th>\n",
       "      <th>_id</th>\n",
       "      <th>direccion</th>\n",
       "      <th>disponibilidad</th>\n",
       "      <th>id_estacion</th>\n",
       "      <th>latitud</th>\n",
       "      <th>libres</th>\n",
       "      <th>longitud</th>\n",
       "      <th>porcentaje</th>\n",
       "      <th>servicio</th>\n",
       "      <th>slots</th>\n",
       "      <th>status</th>\n",
       "    </tr>\n",
       "  </thead>\n",
       "  <tbody>\n",
       "    <tr>\n",
       "      <th>0</th>\n",
       "      <td>57e64649a97beaad19edf08f</td>\n",
       "      <td>Gran Via Corts Catalanes760</td>\n",
       "      <td>disponibilidad media</td>\n",
       "      <td>1</td>\n",
       "      <td>41.397952</td>\n",
       "      <td>10</td>\n",
       "      <td>2.180042</td>\n",
       "      <td>0.454545</td>\n",
       "      <td>bicing</td>\n",
       "      <td>22.0</td>\n",
       "      <td>OPN</td>\n",
       "    </tr>\n",
       "    <tr>\n",
       "      <th>1</th>\n",
       "      <td>57e64649a97beaad19edf090</td>\n",
       "      <td>Roger de Flor\\/ Gran Vía126</td>\n",
       "      <td>baja disponibilidad</td>\n",
       "      <td>2</td>\n",
       "      <td>41.39553</td>\n",
       "      <td>1</td>\n",
       "      <td>2.17706</td>\n",
       "      <td>0.040000</td>\n",
       "      <td>bicing</td>\n",
       "      <td>25.0</td>\n",
       "      <td>OPN</td>\n",
       "    </tr>\n",
       "    <tr>\n",
       "      <th>2</th>\n",
       "      <td>57e64649a97beaad19edf091</td>\n",
       "      <td>Ali Bei44</td>\n",
       "      <td>disponibilidad media</td>\n",
       "      <td>3</td>\n",
       "      <td>41.393699</td>\n",
       "      <td>11</td>\n",
       "      <td>2.181137</td>\n",
       "      <td>0.423077</td>\n",
       "      <td>bicing</td>\n",
       "      <td>26.0</td>\n",
       "      <td>OPN</td>\n",
       "    </tr>\n",
       "    <tr>\n",
       "      <th>3</th>\n",
       "      <td>57e64649a97beaad19edf092</td>\n",
       "      <td>Ribes13</td>\n",
       "      <td>disponibilidad media</td>\n",
       "      <td>4</td>\n",
       "      <td>41.39347</td>\n",
       "      <td>6</td>\n",
       "      <td>2.18149</td>\n",
       "      <td>0.315789</td>\n",
       "      <td>bicing</td>\n",
       "      <td>19.0</td>\n",
       "      <td>OPN</td>\n",
       "    </tr>\n",
       "    <tr>\n",
       "      <th>4</th>\n",
       "      <td>57e64649a97beaad19edf093</td>\n",
       "      <td>Pg Lluís Companys11</td>\n",
       "      <td>disponibilidad media</td>\n",
       "      <td>5</td>\n",
       "      <td>41.391075</td>\n",
       "      <td>10</td>\n",
       "      <td>2.180223</td>\n",
       "      <td>0.263158</td>\n",
       "      <td>bicing</td>\n",
       "      <td>38.0</td>\n",
       "      <td>OPN</td>\n",
       "    </tr>\n",
       "  </tbody>\n",
       "</table>\n",
       "</div>"
      ],
      "text/plain": [
       "                        _id                    direccion  \\\n",
       "0  57e64649a97beaad19edf08f  Gran Via Corts Catalanes760   \n",
       "1  57e64649a97beaad19edf090  Roger de Flor\\/ Gran Vía126   \n",
       "2  57e64649a97beaad19edf091                    Ali Bei44   \n",
       "3  57e64649a97beaad19edf092                      Ribes13   \n",
       "4  57e64649a97beaad19edf093          Pg Lluís Companys11   \n",
       "\n",
       "         disponibilidad id_estacion    latitud libres  longitud  porcentaje  \\\n",
       "0  disponibilidad media           1  41.397952     10  2.180042    0.454545   \n",
       "1   baja disponibilidad           2   41.39553      1   2.17706    0.040000   \n",
       "2  disponibilidad media           3  41.393699     11  2.181137    0.423077   \n",
       "3  disponibilidad media           4   41.39347      6   2.18149    0.315789   \n",
       "4  disponibilidad media           5  41.391075     10  2.180223    0.263158   \n",
       "\n",
       "  servicio  slots status  \n",
       "0   bicing   22.0    OPN  \n",
       "1   bicing   25.0    OPN  \n",
       "2   bicing   26.0    OPN  \n",
       "3   bicing   19.0    OPN  \n",
       "4   bicing   38.0    OPN  "
      ]
     },
     "execution_count": 2,
     "metadata": {},
     "output_type": "execute_result"
    }
   ],
   "source": [
    "import folium\n",
    "import pandas as pd\n",
    "\n",
    "agg_dataDF = pd.DataFrame(agg_data)\n",
    "agg_dataDF.head()"
   ]
  },
  {
   "cell_type": "code",
   "execution_count": 3,
   "metadata": {
    "collapsed": false,
    "scrolled": false
   },
   "outputs": [
    {
     "name": "stderr",
     "output_type": "stream",
     "text": [
      "/home/grace/anaconda3/lib/python3.5/site-packages/ipykernel/__main__.py:9: FutureWarning: simple_marker is deprecated. Use add_children(Marker) instead\n",
      "/home/grace/anaconda3/lib/python3.5/site-packages/ipykernel/__main__.py:11: FutureWarning: Map.create_map is deprecated. Use Map.save instead\n"
     ]
    }
   ],
   "source": [
    "COORDINATES = (float(agg_dataDF.latitud.head(1)), float(agg_dataDF.longitud.head(1)))\n",
    "map = folium.Map(location=COORDINATES, zoom_start=12)\n",
    "\n",
    "for each in agg_dataDF.iterrows():\n",
    "    each = dict((each[1]))\n",
    "    latitud = each[\"latitud\"]\n",
    "    longitud =  each[\"longitud\"]\n",
    "    texto = each[\"disponibilidad\"] + \" \" + each[\"libres\"] + \" bicis disponibles\"  \n",
    "    map.simple_marker(location=[latitud, longitud], popup=texto)\n",
    "\n",
    "map.create_map(path='mapbicing.html') "
   ]
  },
  {
   "cell_type": "markdown",
   "metadata": {},
   "source": [
    "# Pintamos BICIMAD\n",
    "<img src=\"https://pbs.twimg.com/profile_images/621342633655271424/26fdqUsf.png\" style=\"width:150px; display:inline\">\n",
    "\n"
   ]
  },
  {
   "cell_type": "code",
   "execution_count": 4,
   "metadata": {
    "collapsed": true
   },
   "outputs": [],
   "source": [
    "from pymongo import MongoClient\n",
    "client = MongoClient('localhost', 27017)\n",
    "db = client.bici\n",
    "collection = db.datacleaned\n",
    "agg_data = list(collection.find({\"servicio\":\"bicimad\"}))"
   ]
  },
  {
   "cell_type": "code",
   "execution_count": 5,
   "metadata": {
    "collapsed": false
   },
   "outputs": [
    {
     "data": {
      "text/html": [
       "<div>\n",
       "<table border=\"1\" class=\"dataframe\">\n",
       "  <thead>\n",
       "    <tr style=\"text-align: right;\">\n",
       "      <th></th>\n",
       "      <th>_id</th>\n",
       "      <th>direccion</th>\n",
       "      <th>disponibilidad</th>\n",
       "      <th>id_estacion</th>\n",
       "      <th>latitud</th>\n",
       "      <th>libres</th>\n",
       "      <th>longitud</th>\n",
       "      <th>porcentaje</th>\n",
       "      <th>servicio</th>\n",
       "      <th>slots</th>\n",
       "      <th>status</th>\n",
       "    </tr>\n",
       "  </thead>\n",
       "  <tbody>\n",
       "    <tr>\n",
       "      <th>0</th>\n",
       "      <td>57e64648a97beaad19edf011</td>\n",
       "      <td>Puerta del Sol No 1</td>\n",
       "      <td>disponibilidad media</td>\n",
       "      <td>1a</td>\n",
       "      <td>40.4168961</td>\n",
       "      <td>12</td>\n",
       "      <td>-3.7024255</td>\n",
       "      <td>0.500000</td>\n",
       "      <td>bicimad</td>\n",
       "      <td>24.0</td>\n",
       "      <td>True</td>\n",
       "    </tr>\n",
       "    <tr>\n",
       "      <th>1</th>\n",
       "      <td>57e64648a97beaad19edf012</td>\n",
       "      <td>Calle Fuencarral No 108</td>\n",
       "      <td>alta disponibilidad</td>\n",
       "      <td>5</td>\n",
       "      <td>40.4285280</td>\n",
       "      <td>21</td>\n",
       "      <td>-3.7020599</td>\n",
       "      <td>0.777778</td>\n",
       "      <td>bicimad</td>\n",
       "      <td>27.0</td>\n",
       "      <td>True</td>\n",
       "    </tr>\n",
       "    <tr>\n",
       "      <th>2</th>\n",
       "      <td>57e64648a97beaad19edf013</td>\n",
       "      <td>Calle Marques de la Ensenada No 16</td>\n",
       "      <td>alta disponibilidad</td>\n",
       "      <td>10</td>\n",
       "      <td>40.4250863</td>\n",
       "      <td>13</td>\n",
       "      <td>-3.6918807</td>\n",
       "      <td>0.541667</td>\n",
       "      <td>bicimad</td>\n",
       "      <td>24.0</td>\n",
       "      <td>True</td>\n",
       "    </tr>\n",
       "    <tr>\n",
       "      <th>3</th>\n",
       "      <td>57e64648a97beaad19edf014</td>\n",
       "      <td>Calle San Vicente Ferrer No 64</td>\n",
       "      <td>alta disponibilidad</td>\n",
       "      <td>15</td>\n",
       "      <td>40.4261649</td>\n",
       "      <td>15</td>\n",
       "      <td>-3.7073764</td>\n",
       "      <td>0.714286</td>\n",
       "      <td>bicimad</td>\n",
       "      <td>21.0</td>\n",
       "      <td>True</td>\n",
       "    </tr>\n",
       "    <tr>\n",
       "      <th>4</th>\n",
       "      <td>57e64648a97beaad19edf015</td>\n",
       "      <td>Calle Alcala No 49</td>\n",
       "      <td>disponibilidad media</td>\n",
       "      <td>20a</td>\n",
       "      <td>40.4192342</td>\n",
       "      <td>12</td>\n",
       "      <td>-3.6954615</td>\n",
       "      <td>0.500000</td>\n",
       "      <td>bicimad</td>\n",
       "      <td>24.0</td>\n",
       "      <td>True</td>\n",
       "    </tr>\n",
       "  </tbody>\n",
       "</table>\n",
       "</div>"
      ],
      "text/plain": [
       "                        _id                           direccion  \\\n",
       "0  57e64648a97beaad19edf011                 Puerta del Sol No 1   \n",
       "1  57e64648a97beaad19edf012             Calle Fuencarral No 108   \n",
       "2  57e64648a97beaad19edf013  Calle Marques de la Ensenada No 16   \n",
       "3  57e64648a97beaad19edf014      Calle San Vicente Ferrer No 64   \n",
       "4  57e64648a97beaad19edf015                  Calle Alcala No 49   \n",
       "\n",
       "         disponibilidad id_estacion     latitud  libres    longitud  \\\n",
       "0  disponibilidad media          1a  40.4168961      12  -3.7024255   \n",
       "1   alta disponibilidad           5  40.4285280      21  -3.7020599   \n",
       "2   alta disponibilidad          10  40.4250863      13  -3.6918807   \n",
       "3   alta disponibilidad          15  40.4261649      15  -3.7073764   \n",
       "4  disponibilidad media         20a  40.4192342      12  -3.6954615   \n",
       "\n",
       "   porcentaje servicio  slots status  \n",
       "0    0.500000  bicimad   24.0   True  \n",
       "1    0.777778  bicimad   27.0   True  \n",
       "2    0.541667  bicimad   24.0   True  \n",
       "3    0.714286  bicimad   21.0   True  \n",
       "4    0.500000  bicimad   24.0   True  "
      ]
     },
     "execution_count": 5,
     "metadata": {},
     "output_type": "execute_result"
    }
   ],
   "source": [
    "import folium\n",
    "import pandas as pd\n",
    "\n",
    "agg_dataDF = pd.DataFrame(agg_data)\n",
    "agg_dataDF.head()"
   ]
  },
  {
   "cell_type": "code",
   "execution_count": 6,
   "metadata": {
    "collapsed": false,
    "scrolled": false
   },
   "outputs": [
    {
     "name": "stderr",
     "output_type": "stream",
     "text": [
      "/home/grace/anaconda3/lib/python3.5/site-packages/ipykernel/__main__.py:9: FutureWarning: simple_marker is deprecated. Use add_children(Marker) instead\n",
      "/home/grace/anaconda3/lib/python3.5/site-packages/ipykernel/__main__.py:11: FutureWarning: Map.create_map is deprecated. Use Map.save instead\n"
     ]
    }
   ],
   "source": [
    "COORDINATES = (float(agg_dataDF.latitud.head(1)), float(agg_dataDF.longitud.head(1)))\n",
    "map = folium.Map(location=COORDINATES, zoom_start=12)\n",
    "\n",
    "for each in agg_dataDF.iterrows():\n",
    "    each = dict((each[1]))\n",
    "    latitud = each[\"latitud\"]\n",
    "    longitud =  each[\"longitud\"]\n",
    "    texto = each[\"disponibilidad\"] + \" \" + str(each[\"libres\"]) + \" bicis disponibles\"  \n",
    "    map.simple_marker(location=[latitud, longitud], popup=texto)\n",
    "\n",
    "map.create_map(path='mapbicimad.html') "
   ]
  },
  {
   "cell_type": "markdown",
   "metadata": {},
   "source": [
    "# Pintamos BILBON BIZI\n",
    "<img src=\"http://www.bilbao.net/Agenda21/agenda21cont/bilbon_bizi.jpg\" style=\"width:150px; display:inline\">\n",
    "\n"
   ]
  },
  {
   "cell_type": "code",
   "execution_count": 7,
   "metadata": {
    "collapsed": true
   },
   "outputs": [],
   "source": [
    "from pymongo import MongoClient\n",
    "client = MongoClient('localhost', 27017)\n",
    "db = client.bici\n",
    "collection = db.datacleaned\n",
    "agg_data = list(collection.find({\"servicio\":\"bilbonbizi\"}))"
   ]
  },
  {
   "cell_type": "code",
   "execution_count": 8,
   "metadata": {
    "collapsed": false
   },
   "outputs": [
    {
     "data": {
      "text/html": [
       "<div>\n",
       "<table border=\"1\" class=\"dataframe\">\n",
       "  <thead>\n",
       "    <tr style=\"text-align: right;\">\n",
       "      <th></th>\n",
       "      <th>_id</th>\n",
       "      <th>direccion</th>\n",
       "      <th>disponibilidad</th>\n",
       "      <th>id_estacion</th>\n",
       "      <th>latitud</th>\n",
       "      <th>libres</th>\n",
       "      <th>longitud</th>\n",
       "      <th>porcentaje</th>\n",
       "      <th>servicio</th>\n",
       "      <th>slots</th>\n",
       "      <th>status</th>\n",
       "    </tr>\n",
       "  </thead>\n",
       "  <tbody>\n",
       "    <tr>\n",
       "      <th>0</th>\n",
       "      <td>57e64649a97beaad19edf260</td>\n",
       "      <td>01-PLAZA LEVANTE</td>\n",
       "      <td>muy alta disponibilidad</td>\n",
       "      <td>3001</td>\n",
       "      <td>43.281575</td>\n",
       "      <td>2</td>\n",
       "      <td>-2.962019</td>\n",
       "      <td>13.333333</td>\n",
       "      <td>bilbonbizi</td>\n",
       "      <td>15</td>\n",
       "      <td>COMUNICA</td>\n",
       "    </tr>\n",
       "    <tr>\n",
       "      <th>1</th>\n",
       "      <td>57e64649a97beaad19edf261</td>\n",
       "      <td>02-IRUÑA</td>\n",
       "      <td>muy alta disponibilidad</td>\n",
       "      <td>3002</td>\n",
       "      <td>43.269819</td>\n",
       "      <td>8</td>\n",
       "      <td>-2.949229</td>\n",
       "      <td>40.000000</td>\n",
       "      <td>bilbonbizi</td>\n",
       "      <td>20</td>\n",
       "      <td>COMUNICA</td>\n",
       "    </tr>\n",
       "    <tr>\n",
       "      <th>2</th>\n",
       "      <td>57e64649a97beaad19edf262</td>\n",
       "      <td>03-AYUNTAMIENTO</td>\n",
       "      <td>muy alta disponibilidad</td>\n",
       "      <td>3003</td>\n",
       "      <td>43.264402</td>\n",
       "      <td>11</td>\n",
       "      <td>-2.922888</td>\n",
       "      <td>55.000000</td>\n",
       "      <td>bilbonbizi</td>\n",
       "      <td>20</td>\n",
       "      <td>COMUNICA</td>\n",
       "    </tr>\n",
       "    <tr>\n",
       "      <th>3</th>\n",
       "      <td>57e64649a97beaad19edf263</td>\n",
       "      <td>04-PLAZA ARRIAGA</td>\n",
       "      <td>muy alta disponibilidad</td>\n",
       "      <td>3004</td>\n",
       "      <td>43.259518</td>\n",
       "      <td>9</td>\n",
       "      <td>-2.924383</td>\n",
       "      <td>25.714286</td>\n",
       "      <td>bilbonbizi</td>\n",
       "      <td>35</td>\n",
       "      <td>COMUNICA</td>\n",
       "    </tr>\n",
       "    <tr>\n",
       "      <th>4</th>\n",
       "      <td>57e64649a97beaad19edf264</td>\n",
       "      <td>05-SANTIAGO COMPOSTELA</td>\n",
       "      <td>muy alta disponibilidad</td>\n",
       "      <td>3005</td>\n",
       "      <td>43.250165</td>\n",
       "      <td>6</td>\n",
       "      <td>-2.930786</td>\n",
       "      <td>40.000000</td>\n",
       "      <td>bilbonbizi</td>\n",
       "      <td>15</td>\n",
       "      <td>COMUNICA</td>\n",
       "    </tr>\n",
       "  </tbody>\n",
       "</table>\n",
       "</div>"
      ],
      "text/plain": [
       "                        _id               direccion           disponibilidad  \\\n",
       "0  57e64649a97beaad19edf260        01-PLAZA LEVANTE  muy alta disponibilidad   \n",
       "1  57e64649a97beaad19edf261                02-IRUÑA  muy alta disponibilidad   \n",
       "2  57e64649a97beaad19edf262         03-AYUNTAMIENTO  muy alta disponibilidad   \n",
       "3  57e64649a97beaad19edf263        04-PLAZA ARRIAGA  muy alta disponibilidad   \n",
       "4  57e64649a97beaad19edf264  05-SANTIAGO COMPOSTELA  muy alta disponibilidad   \n",
       "\n",
       "   id_estacion    latitud  libres  longitud  porcentaje    servicio  slots  \\\n",
       "0         3001  43.281575       2 -2.962019   13.333333  bilbonbizi     15   \n",
       "1         3002  43.269819       8 -2.949229   40.000000  bilbonbizi     20   \n",
       "2         3003  43.264402      11 -2.922888   55.000000  bilbonbizi     20   \n",
       "3         3004  43.259518       9 -2.924383   25.714286  bilbonbizi     35   \n",
       "4         3005  43.250165       6 -2.930786   40.000000  bilbonbizi     15   \n",
       "\n",
       "     status  \n",
       "0  COMUNICA  \n",
       "1  COMUNICA  \n",
       "2  COMUNICA  \n",
       "3  COMUNICA  \n",
       "4  COMUNICA  "
      ]
     },
     "execution_count": 8,
     "metadata": {},
     "output_type": "execute_result"
    }
   ],
   "source": [
    "import folium\n",
    "import pandas as pd\n",
    "\n",
    "agg_dataDF = pd.DataFrame(agg_data)\n",
    "agg_dataDF.head()"
   ]
  },
  {
   "cell_type": "code",
   "execution_count": 9,
   "metadata": {
    "collapsed": false,
    "scrolled": false
   },
   "outputs": [
    {
     "name": "stderr",
     "output_type": "stream",
     "text": [
      "/home/grace/anaconda3/lib/python3.5/site-packages/ipykernel/__main__.py:9: FutureWarning: simple_marker is deprecated. Use add_children(Marker) instead\n",
      "/home/grace/anaconda3/lib/python3.5/site-packages/ipykernel/__main__.py:11: FutureWarning: Map.create_map is deprecated. Use Map.save instead\n"
     ]
    }
   ],
   "source": [
    "COORDINATES = (float(agg_dataDF.latitud.head(1)), float(agg_dataDF.longitud.head(1)))\n",
    "map = folium.Map(location=COORDINATES, zoom_start=12)\n",
    "\n",
    "for each in agg_dataDF.iterrows():\n",
    "    each = dict((each[1]))\n",
    "    latitud = each[\"latitud\"]\n",
    "    longitud =  each[\"longitud\"]\n",
    "    texto = each[\"disponibilidad\"] + \" \" + str(each[\"libres\"]) + \" bicis disponibles\"  \n",
    "    map.simple_marker(location=[latitud, longitud], popup=texto)\n",
    "\n",
    "map.create_map(path='mapbilbonbizi.html') "
   ]
  }
 ],
 "metadata": {
  "anaconda-cloud": {},
  "kernelspec": {
   "display_name": "Python [Root]",
   "language": "python",
   "name": "Python [Root]"
  },
  "language_info": {
   "codemirror_mode": {
    "name": "ipython",
    "version": 3
   },
   "file_extension": ".py",
   "mimetype": "text/x-python",
   "name": "python",
   "nbconvert_exporter": "python",
   "pygments_lexer": "ipython3",
   "version": "3.5.2"
  }
 },
 "nbformat": 4,
 "nbformat_minor": 0
}
